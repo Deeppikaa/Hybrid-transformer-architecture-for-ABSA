{
 "cells": [
  {
   "cell_type": "markdown",
   "id": "6a9a2727",
   "metadata": {
    "papermill": {
     "duration": 0.015148,
     "end_time": "2024-08-31T18:40:00.116942",
     "exception": false,
     "start_time": "2024-08-31T18:40:00.101794",
     "status": "completed"
    },
    "tags": []
   },
   "source": [
    "# Multi-Modal Fusion Model for Hotel Review Analysis\n",
    "- Hotel Review Sentiment Analysis and Aspect Extraction"
   ]
  },
  {
   "cell_type": "markdown",
   "id": "8285696e",
   "metadata": {
    "papermill": {
     "duration": 0.014236,
     "end_time": "2024-08-31T18:40:00.145823",
     "exception": false,
     "start_time": "2024-08-31T18:40:00.131587",
     "status": "completed"
    },
    "tags": []
   },
   "source": [
    "## 1. Introduction\n",
    "- This notebook presents a comprehensive implementation of a multi-modal fusion model for hotel review analysis. The model combines BERT and GPT-2 architectures to perform sentiment analysis and aspect classification on hotel reviews. This approach leverages the strengths of both models to capture nuanced semantic information and contextual understanding."
   ]
  },
  {
   "cell_type": "code",
   "execution_count": null,
   "id": "52ec04a4",
   "metadata": {
    "papermill": {
     "duration": 0.01397,
     "end_time": "2024-08-31T18:40:00.174055",
     "exception": false,
     "start_time": "2024-08-31T18:40:00.160085",
     "status": "completed"
    },
    "tags": []
   },
   "outputs": [],
   "source": []
  },
  {
   "cell_type": "markdown",
   "id": "4c47d823",
   "metadata": {
    "papermill": {
     "duration": 0.014018,
     "end_time": "2024-08-31T18:40:00.202249",
     "exception": false,
     "start_time": "2024-08-31T18:40:00.188231",
     "status": "completed"
    },
    "tags": []
   },
   "source": [
    "## 2. Data Preparation and Exploration\n",
    "### 2.1 Data Loading and Preprocessing\n",
    "We begin by loading the dataset and performing necessary preprocessing steps:"
   ]
  },
  {
   "cell_type": "code",
   "execution_count": null,
   "id": "464b794e",
   "metadata": {
    "papermill": {
     "duration": 0.014843,
     "end_time": "2024-08-31T18:40:00.231599",
     "exception": false,
     "start_time": "2024-08-31T18:40:00.216756",
     "status": "completed"
    },
    "tags": []
   },
   "outputs": [],
   "source": []
  },
  {
   "cell_type": "markdown",
   "id": "53ea944d",
   "metadata": {
    "papermill": {
     "duration": 0.014028,
     "end_time": "2024-08-31T18:40:00.259935",
     "exception": false,
     "start_time": "2024-08-31T18:40:00.245907",
     "status": "completed"
    },
    "tags": []
   },
   "source": [
    "#### Import Required Libraries"
   ]
  },
  {
   "cell_type": "code",
   "execution_count": 1,
   "id": "68b31279",
   "metadata": {
    "execution": {
     "iopub.execute_input": "2024-08-31T18:40:00.291233Z",
     "iopub.status.busy": "2024-08-31T18:40:00.290227Z",
     "iopub.status.idle": "2024-08-31T18:40:32.409097Z",
     "shell.execute_reply": "2024-08-31T18:40:32.408262Z"
    },
    "papermill": {
     "duration": 32.1373,
     "end_time": "2024-08-31T18:40:32.411482",
     "exception": false,
     "start_time": "2024-08-31T18:40:00.274182",
     "status": "completed"
    },
    "tags": []
   },
   "outputs": [],
   "source": [
    "# Install torchviz if we haven't already\n",
    "!pip install -q torchviz\n",
    "\n",
    "import pandas as pd\n",
    "import numpy as np\n",
    "import torch\n",
    "import torch.nn as nn\n",
    "import torch.optim as optim\n",
    "from torch.utils.data import Dataset, DataLoader\n",
    "from torchviz import make_dot\n",
    "\n",
    "from sklearn.model_selection import train_test_split\n",
    "from sklearn.preprocessing import LabelEncoder\n",
    "from sklearn.metrics import accuracy_score, precision_score, recall_score, f1_score, confusion_matrix, classification_report\n",
    "from transformers import BertTokenizer, BertModel, GPT2Tokenizer, GPT2Model\n",
    "from tqdm import tqdm\n",
    "import matplotlib.pyplot as plt\n",
    "import seaborn as sns\n",
    "from sklearn.feature_extraction.text import CountVectorizer\n",
    "import random\n",
    " \n",
    "from IPython.display import display, Image\n",
    "import graphviz\n",
    "\n",
    "# Set random seed for reproducibility\n",
    "torch.manual_seed(42)\n",
    "np.random.seed(42)"
   ]
  },
  {
   "cell_type": "code",
   "execution_count": null,
   "id": "17a388ea",
   "metadata": {
    "papermill": {
     "duration": 0.014007,
     "end_time": "2024-08-31T18:40:32.440903",
     "exception": false,
     "start_time": "2024-08-31T18:40:32.426896",
     "status": "completed"
    },
    "tags": []
   },
   "outputs": [],
   "source": []
  },
  {
   "cell_type": "markdown",
   "id": "6037a1d4",
   "metadata": {
    "papermill": {
     "duration": 0.014049,
     "end_time": "2024-08-31T18:40:32.469071",
     "exception": false,
     "start_time": "2024-08-31T18:40:32.455022",
     "status": "completed"
    },
    "tags": []
   },
   "source": [
    "#### Load the data"
   ]
  },
  {
   "cell_type": "code",
   "execution_count": 2,
   "id": "f2430f74",
   "metadata": {
    "execution": {
     "iopub.execute_input": "2024-08-31T18:40:32.500018Z",
     "iopub.status.busy": "2024-08-31T18:40:32.499563Z",
     "iopub.status.idle": "2024-08-31T18:40:33.370128Z",
     "shell.execute_reply": "2024-08-31T18:40:33.369249Z"
    },
    "papermill": {
     "duration": 0.88866,
     "end_time": "2024-08-31T18:40:33.372571",
     "exception": false,
     "start_time": "2024-08-31T18:40:32.483911",
     "status": "completed"
    },
    "tags": []
   },
   "outputs": [],
   "source": [
    "# Load the data\n",
    "file_path = \"/kaggle/input/absa-paper-2-dataset/review_data_with_aspect_label.csv\"\n",
    "data = pd.read_csv(file_path)"
   ]
  },
  {
   "cell_type": "markdown",
   "id": "c33b10ee",
   "metadata": {
    "papermill": {
     "duration": 0.014479,
     "end_time": "2024-08-31T18:40:33.401754",
     "exception": false,
     "start_time": "2024-08-31T18:40:33.387275",
     "status": "completed"
    },
    "tags": []
   },
   "source": [
    "#### Map aspect labels to human-readable format"
   ]
  },
  {
   "cell_type": "code",
   "execution_count": 3,
   "id": "c59a4034",
   "metadata": {
    "execution": {
     "iopub.execute_input": "2024-08-31T18:40:33.431733Z",
     "iopub.status.busy": "2024-08-31T18:40:33.431376Z",
     "iopub.status.idle": "2024-08-31T18:40:33.439525Z",
     "shell.execute_reply": "2024-08-31T18:40:33.438613Z"
    },
    "papermill": {
     "duration": 0.025577,
     "end_time": "2024-08-31T18:40:33.441578",
     "exception": false,
     "start_time": "2024-08-31T18:40:33.416001",
     "status": "completed"
    },
    "tags": []
   },
   "outputs": [
    {
     "data": {
      "text/plain": [
       "{0: 'Room Cleanliness and Comfort',\n",
       " 1: 'Booking Experience and Room Issues',\n",
       " 2: 'Hotel Location and Accessibility',\n",
       " 3: 'Staff Interaction and Check-in Experience',\n",
       " 4: 'Breakfast Quality and Dining Service'}"
      ]
     },
     "execution_count": 3,
     "metadata": {},
     "output_type": "execute_result"
    }
   ],
   "source": [
    "review_aspect_map = {\n",
    "    0: \"Room Cleanliness and Comfort\",\n",
    "    1: \"Booking Experience and Room Issues\",\n",
    "    2: \"Hotel Location and Accessibility\",\n",
    "    3: \"Staff Interaction and Check-in Experience\",\n",
    "    4: \"Breakfast Quality and Dining Service\"\n",
    "}\n",
    "review_aspect_map"
   ]
  },
  {
   "cell_type": "code",
   "execution_count": 4,
   "id": "450238bb",
   "metadata": {
    "execution": {
     "iopub.execute_input": "2024-08-31T18:40:33.471830Z",
     "iopub.status.busy": "2024-08-31T18:40:33.471281Z",
     "iopub.status.idle": "2024-08-31T18:40:33.531261Z",
     "shell.execute_reply": "2024-08-31T18:40:33.530593Z"
    },
    "papermill": {
     "duration": 0.077056,
     "end_time": "2024-08-31T18:40:33.533094",
     "exception": false,
     "start_time": "2024-08-31T18:40:33.456038",
     "status": "completed"
    },
    "tags": []
   },
   "outputs": [],
   "source": [
    "data['review_aspect_type'] = data['review_aspect_type'].apply(lambda x: review_aspect_map[x])"
   ]
  },
  {
   "cell_type": "code",
   "execution_count": null,
   "id": "7b446f1a",
   "metadata": {
    "papermill": {
     "duration": 0.014285,
     "end_time": "2024-08-31T18:40:33.561869",
     "exception": false,
     "start_time": "2024-08-31T18:40:33.547584",
     "status": "completed"
    },
    "tags": []
   },
   "outputs": [],
   "source": []
  },
  {
   "cell_type": "markdown",
   "id": "a162fd24",
   "metadata": {
    "papermill": {
     "duration": 0.015324,
     "end_time": "2024-08-31T18:40:33.591952",
     "exception": false,
     "start_time": "2024-08-31T18:40:33.576628",
     "status": "completed"
    },
    "tags": []
   },
   "source": [
    "#### Display the total number of datapoint and first few rows of the dataset"
   ]
  },
  {
   "cell_type": "code",
   "execution_count": 5,
   "id": "2e1815b6",
   "metadata": {
    "execution": {
     "iopub.execute_input": "2024-08-31T18:40:33.622227Z",
     "iopub.status.busy": "2024-08-31T18:40:33.621478Z",
     "iopub.status.idle": "2024-08-31T18:40:33.627054Z",
     "shell.execute_reply": "2024-08-31T18:40:33.626215Z"
    },
    "papermill": {
     "duration": 0.022675,
     "end_time": "2024-08-31T18:40:33.629103",
     "exception": false,
     "start_time": "2024-08-31T18:40:33.606428",
     "status": "completed"
    },
    "tags": []
   },
   "outputs": [
    {
     "data": {
      "text/plain": [
       "(173434, 3)"
      ]
     },
     "execution_count": 5,
     "metadata": {},
     "output_type": "execute_result"
    }
   ],
   "source": [
    "data.shape"
   ]
  },
  {
   "cell_type": "code",
   "execution_count": 6,
   "id": "caae50c2",
   "metadata": {
    "execution": {
     "iopub.execute_input": "2024-08-31T18:40:33.659959Z",
     "iopub.status.busy": "2024-08-31T18:40:33.659675Z",
     "iopub.status.idle": "2024-08-31T18:40:33.673363Z",
     "shell.execute_reply": "2024-08-31T18:40:33.672522Z"
    },
    "papermill": {
     "duration": 0.031239,
     "end_time": "2024-08-31T18:40:33.675315",
     "exception": false,
     "start_time": "2024-08-31T18:40:33.644076",
     "status": "completed"
    },
    "tags": []
   },
   "outputs": [
    {
     "data": {
      "text/html": [
       "<div>\n",
       "<style scoped>\n",
       "    .dataframe tbody tr th:only-of-type {\n",
       "        vertical-align: middle;\n",
       "    }\n",
       "\n",
       "    .dataframe tbody tr th {\n",
       "        vertical-align: top;\n",
       "    }\n",
       "\n",
       "    .dataframe thead th {\n",
       "        text-align: right;\n",
       "    }\n",
       "</style>\n",
       "<table border=\"1\" class=\"dataframe\">\n",
       "  <thead>\n",
       "    <tr style=\"text-align: right;\">\n",
       "      <th></th>\n",
       "      <th>Total_Review</th>\n",
       "      <th>review_type</th>\n",
       "      <th>review_aspect_type</th>\n",
       "    </tr>\n",
       "  </thead>\n",
       "  <tbody>\n",
       "    <tr>\n",
       "      <th>0</th>\n",
       "      <td>Basic accommodation Clean but nothing special...</td>\n",
       "      <td>Bad_review</td>\n",
       "      <td>Room Cleanliness and Comfort</td>\n",
       "    </tr>\n",
       "    <tr>\n",
       "      <th>1</th>\n",
       "      <td>Very noisy on the street side tram lines buse...</td>\n",
       "      <td>Good_review</td>\n",
       "      <td>Hotel Location and Accessibility</td>\n",
       "    </tr>\n",
       "    <tr>\n",
       "      <th>2</th>\n",
       "      <td>Breakfast was really good</td>\n",
       "      <td>Good_review</td>\n",
       "      <td>Booking Experience and Room Issues</td>\n",
       "    </tr>\n",
       "    <tr>\n",
       "      <th>3</th>\n",
       "      <td>I liked everything The staff were so helpful ...</td>\n",
       "      <td>Good_review</td>\n",
       "      <td>Booking Experience and Room Issues</td>\n",
       "    </tr>\n",
       "    <tr>\n",
       "      <th>4</th>\n",
       "      <td>The room was very small and the bed was too h...</td>\n",
       "      <td>Bad_review</td>\n",
       "      <td>Room Cleanliness and Comfort</td>\n",
       "    </tr>\n",
       "  </tbody>\n",
       "</table>\n",
       "</div>"
      ],
      "text/plain": [
       "                                        Total_Review  review_type  \\\n",
       "0   Basic accommodation Clean but nothing special...   Bad_review   \n",
       "1   Very noisy on the street side tram lines buse...  Good_review   \n",
       "2                         Breakfast was really good   Good_review   \n",
       "3   I liked everything The staff were so helpful ...  Good_review   \n",
       "4   The room was very small and the bed was too h...   Bad_review   \n",
       "\n",
       "                   review_aspect_type  \n",
       "0        Room Cleanliness and Comfort  \n",
       "1    Hotel Location and Accessibility  \n",
       "2  Booking Experience and Room Issues  \n",
       "3  Booking Experience and Room Issues  \n",
       "4        Room Cleanliness and Comfort  "
      ]
     },
     "execution_count": 6,
     "metadata": {},
     "output_type": "execute_result"
    }
   ],
   "source": [
    "data.head()"
   ]
  },
  {
   "cell_type": "code",
   "execution_count": null,
   "id": "486f9a46",
   "metadata": {
    "papermill": {
     "duration": 0.01504,
     "end_time": "2024-08-31T18:40:33.705651",
     "exception": false,
     "start_time": "2024-08-31T18:40:33.690611",
     "status": "completed"
    },
    "tags": []
   },
   "outputs": [],
   "source": []
  },
  {
   "cell_type": "markdown",
   "id": "aba49756",
   "metadata": {
    "papermill": {
     "duration": 0.014989,
     "end_time": "2024-08-31T18:40:33.735825",
     "exception": false,
     "start_time": "2024-08-31T18:40:33.720836",
     "status": "completed"
    },
    "tags": []
   },
   "source": [
    "#### Group by the value counts for each of the aspect labels and sentiment labels"
   ]
  },
  {
   "cell_type": "code",
   "execution_count": 7,
   "id": "de2a71d5",
   "metadata": {
    "execution": {
     "iopub.execute_input": "2024-08-31T18:40:33.767719Z",
     "iopub.status.busy": "2024-08-31T18:40:33.767385Z",
     "iopub.status.idle": "2024-08-31T18:40:33.859925Z",
     "shell.execute_reply": "2024-08-31T18:40:33.858903Z"
    },
    "papermill": {
     "duration": 0.110634,
     "end_time": "2024-08-31T18:40:33.861979",
     "exception": false,
     "start_time": "2024-08-31T18:40:33.751345",
     "status": "completed"
    },
    "tags": []
   },
   "outputs": [
    {
     "data": {
      "text/html": [
       "<div>\n",
       "<style scoped>\n",
       "    .dataframe tbody tr th:only-of-type {\n",
       "        vertical-align: middle;\n",
       "    }\n",
       "\n",
       "    .dataframe tbody tr th {\n",
       "        vertical-align: top;\n",
       "    }\n",
       "\n",
       "    .dataframe thead th {\n",
       "        text-align: right;\n",
       "    }\n",
       "</style>\n",
       "<table border=\"1\" class=\"dataframe\">\n",
       "  <thead>\n",
       "    <tr style=\"text-align: right;\">\n",
       "      <th></th>\n",
       "      <th></th>\n",
       "      <th>Total_Review</th>\n",
       "    </tr>\n",
       "    <tr>\n",
       "      <th>review_aspect_type</th>\n",
       "      <th>review_type</th>\n",
       "      <th></th>\n",
       "    </tr>\n",
       "  </thead>\n",
       "  <tbody>\n",
       "    <tr>\n",
       "      <th rowspan=\"2\" valign=\"top\">Booking Experience and Room Issues</th>\n",
       "      <th>Bad_review</th>\n",
       "      <td>17009</td>\n",
       "    </tr>\n",
       "    <tr>\n",
       "      <th>Good_review</th>\n",
       "      <td>21882</td>\n",
       "    </tr>\n",
       "    <tr>\n",
       "      <th rowspan=\"2\" valign=\"top\">Breakfast Quality and Dining Service</th>\n",
       "      <th>Bad_review</th>\n",
       "      <td>11359</td>\n",
       "    </tr>\n",
       "    <tr>\n",
       "      <th>Good_review</th>\n",
       "      <td>16834</td>\n",
       "    </tr>\n",
       "    <tr>\n",
       "      <th rowspan=\"2\" valign=\"top\">Hotel Location and Accessibility</th>\n",
       "      <th>Bad_review</th>\n",
       "      <td>11923</td>\n",
       "    </tr>\n",
       "    <tr>\n",
       "      <th>Good_review</th>\n",
       "      <td>18034</td>\n",
       "    </tr>\n",
       "    <tr>\n",
       "      <th rowspan=\"2\" valign=\"top\">Room Cleanliness and Comfort</th>\n",
       "      <th>Bad_review</th>\n",
       "      <td>29517</td>\n",
       "    </tr>\n",
       "    <tr>\n",
       "      <th>Good_review</th>\n",
       "      <td>18070</td>\n",
       "    </tr>\n",
       "    <tr>\n",
       "      <th rowspan=\"2\" valign=\"top\">Staff Interaction and Check-in Experience</th>\n",
       "      <th>Bad_review</th>\n",
       "      <td>16890</td>\n",
       "    </tr>\n",
       "    <tr>\n",
       "      <th>Good_review</th>\n",
       "      <td>11873</td>\n",
       "    </tr>\n",
       "  </tbody>\n",
       "</table>\n",
       "</div>"
      ],
      "text/plain": [
       "                                                       Total_Review\n",
       "review_aspect_type                        review_type              \n",
       "Booking Experience and Room Issues        Bad_review          17009\n",
       "                                          Good_review         21882\n",
       "Breakfast Quality and Dining Service      Bad_review          11359\n",
       "                                          Good_review         16834\n",
       "Hotel Location and Accessibility          Bad_review          11923\n",
       "                                          Good_review         18034\n",
       "Room Cleanliness and Comfort              Bad_review          29517\n",
       "                                          Good_review         18070\n",
       "Staff Interaction and Check-in Experience Bad_review          16890\n",
       "                                          Good_review         11873"
      ]
     },
     "execution_count": 7,
     "metadata": {},
     "output_type": "execute_result"
    }
   ],
   "source": [
    "data.groupby(['review_aspect_type', 'review_type']).count()"
   ]
  },
  {
   "cell_type": "code",
   "execution_count": null,
   "id": "140ef1f7",
   "metadata": {
    "papermill": {
     "duration": 0.015823,
     "end_time": "2024-08-31T18:40:33.893403",
     "exception": false,
     "start_time": "2024-08-31T18:40:33.877580",
     "status": "completed"
    },
    "tags": []
   },
   "outputs": [],
   "source": []
  },
  {
   "cell_type": "markdown",
   "id": "0bfa4e73",
   "metadata": {
    "papermill": {
     "duration": 0.015392,
     "end_time": "2024-08-31T18:40:33.924688",
     "exception": false,
     "start_time": "2024-08-31T18:40:33.909296",
     "status": "completed"
    },
    "tags": []
   },
   "source": [
    "#### Perform label encoding"
   ]
  },
  {
   "cell_type": "code",
   "execution_count": 8,
   "id": "fa161321",
   "metadata": {
    "execution": {
     "iopub.execute_input": "2024-08-31T18:40:33.956128Z",
     "iopub.status.busy": "2024-08-31T18:40:33.955831Z",
     "iopub.status.idle": "2024-08-31T18:40:34.039995Z",
     "shell.execute_reply": "2024-08-31T18:40:34.039278Z"
    },
    "papermill": {
     "duration": 0.102006,
     "end_time": "2024-08-31T18:40:34.041881",
     "exception": false,
     "start_time": "2024-08-31T18:40:33.939875",
     "status": "completed"
    },
    "tags": []
   },
   "outputs": [],
   "source": [
    "# Perform label encoding\n",
    "le_sentiment = LabelEncoder()\n",
    "le_aspect = LabelEncoder()\n",
    "data['sentiment_encoded'] = le_sentiment.fit_transform(data['review_type'])\n",
    "data['aspect_encoded'] = le_aspect.fit_transform(data['review_aspect_type'])"
   ]
  },
  {
   "cell_type": "code",
   "execution_count": null,
   "id": "698181df",
   "metadata": {
    "papermill": {
     "duration": 0.015116,
     "end_time": "2024-08-31T18:40:34.072889",
     "exception": false,
     "start_time": "2024-08-31T18:40:34.057773",
     "status": "completed"
    },
    "tags": []
   },
   "outputs": [],
   "source": []
  },
  {
   "cell_type": "markdown",
   "id": "5c5c17e5",
   "metadata": {
    "papermill": {
     "duration": 0.015064,
     "end_time": "2024-08-31T18:40:34.103142",
     "exception": false,
     "start_time": "2024-08-31T18:40:34.088078",
     "status": "completed"
    },
    "tags": []
   },
   "source": [
    "### 2.2 Data Exploration\n",
    "- We explore the distribution of sentiment and aspect labels in our dataset:"
   ]
  },
  {
   "cell_type": "code",
   "execution_count": 9,
   "id": "15956f82",
   "metadata": {
    "execution": {
     "iopub.execute_input": "2024-08-31T18:40:34.134549Z",
     "iopub.status.busy": "2024-08-31T18:40:34.134231Z",
     "iopub.status.idle": "2024-08-31T18:40:34.994297Z",
     "shell.execute_reply": "2024-08-31T18:40:34.993379Z"
    },
    "papermill": {
     "duration": 0.877898,
     "end_time": "2024-08-31T18:40:34.996477",
     "exception": false,
     "start_time": "2024-08-31T18:40:34.118579",
     "status": "completed"
    },
    "tags": []
   },
   "outputs": [
    {
     "data": {
      "image/png": "[encoded data removed]",
      "text/plain": [
       "<Figure size 1200x500 with 2 Axes>"
      ]
     },
     "metadata": {},
     "output_type": "display_data"
    }
   ],
   "source": [
    "# Display class distributions\n",
    "plt.figure(figsize=(12, 5))\n",
    "plt.subplot(1, 2, 1)\n",
    "sns.countplot(x=data['review_type'])\n",
    "plt.title('Sentiment Distribution')\n",
    "plt.xlabel('Sentiment')\n",
    "plt.ylabel('Count')\n",
    "plt.subplot(1, 2, 2)\n",
    "sns.countplot(x=data['review_aspect_type'])\n",
    "plt.title('Aspect Distribution')\n",
    "plt.xlabel('Aspect')\n",
    "plt.ylabel('Count')\n",
    "plt.xticks(rotation=45, ha='right')\n",
    "plt.tight_layout()\n",
    "plt.show()"
   ]
  },
  {
   "cell_type": "code",
   "execution_count": null,
   "id": "04187e84",
   "metadata": {
    "papermill": {
     "duration": 0.01567,
     "end_time": "2024-08-31T18:40:35.028474",
     "exception": false,
     "start_time": "2024-08-31T18:40:35.012804",
     "status": "completed"
    },
    "tags": []
   },
   "outputs": [],
   "source": []
  },
  {
   "cell_type": "markdown",
   "id": "a70de1e5",
   "metadata": {
    "papermill": {
     "duration": 0.015601,
     "end_time": "2024-08-31T18:40:35.060356",
     "exception": false,
     "start_time": "2024-08-31T18:40:35.044755",
     "status": "completed"
    },
    "tags": []
   },
   "source": [
    "## 3. Dataset & Model Architecture"
   ]
  },
  {
   "cell_type": "markdown",
   "id": "b473dbe1",
   "metadata": {
    "papermill": {
     "duration": 0.015675,
     "end_time": "2024-08-31T18:40:35.092004",
     "exception": false,
     "start_time": "2024-08-31T18:40:35.076329",
     "status": "completed"
    },
    "tags": []
   },
   "source": [
    "### 3.1 Creating a custom dataset named HotelReviewDataset\n",
    "\n",
    "- Custom Dataset class for hotel reviews with multi-modal tokenization.\n",
    "    - This class prepares the hotel review data for input into a multi-modal model that uses both BERT and GPT-2 tokenizers. It inherits from PyTorch's Dataset class, allowing it to be used with PyTorch DataLoaders.\n",
    "\n",
    "- Attributes:\n",
    "    - reviews (list): A list of hotel review texts.\n",
    "    - labels (list): A list of tuples containing (sentiment_label, aspect_label) for each review.\n",
    "    - bert_tokenizer (BertTokenizer): The BERT tokenizer for encoding reviews.\n",
    "    - gpt2_tokenizer (GPT2Tokenizer): The GPT-2 tokenizer for encoding reviews.\n",
    "     -max_len (int): The maximum length for padding/truncating the tokenized sequences."
   ]
  },
  {
   "cell_type": "code",
   "execution_count": 10,
   "id": "eff6d9c9",
   "metadata": {
    "execution": {
     "iopub.execute_input": "2024-08-31T18:40:35.125268Z",
     "iopub.status.busy": "2024-08-31T18:40:35.124921Z",
     "iopub.status.idle": "2024-08-31T18:40:35.135284Z",
     "shell.execute_reply": "2024-08-31T18:40:35.134394Z"
    },
    "papermill": {
     "duration": 0.029287,
     "end_time": "2024-08-31T18:40:35.137253",
     "exception": false,
     "start_time": "2024-08-31T18:40:35.107966",
     "status": "completed"
    },
    "tags": []
   },
   "outputs": [],
   "source": [
    "class HotelReviewDataset(Dataset):\n",
    "    def __init__(self, reviews, labels, bert_tokenizer, gpt2_tokenizer, max_len):\n",
    "        self.reviews = reviews\n",
    "        self.labels = labels\n",
    "        self.bert_tokenizer = bert_tokenizer\n",
    "        self.gpt2_tokenizer = gpt2_tokenizer\n",
    "        self.max_len = max_len\n",
    "\n",
    "    def __len__(self):\n",
    "        return len(self.reviews)\n",
    "\n",
    "    def __getitem__(self, item):\n",
    "        review = str(self.reviews[item])\n",
    "        sentiment_label, aspect_label = self.labels[item]\n",
    "\n",
    "        bert_encoding = self.bert_tokenizer.encode_plus(\n",
    "            review,\n",
    "            add_special_tokens=True,\n",
    "            max_length=self.max_len,\n",
    "            return_token_type_ids=False,\n",
    "            padding='max_length',\n",
    "            truncation=True,\n",
    "            return_attention_mask=True,\n",
    "            return_tensors='pt',\n",
    "        )\n",
    "\n",
    "        gpt2_encoding = self.gpt2_tokenizer.encode_plus(\n",
    "            review,\n",
    "            add_special_tokens=True,\n",
    "            max_length=self.max_len,\n",
    "            return_token_type_ids=False,\n",
    "            padding='max_length',\n",
    "            truncation=True,\n",
    "            return_attention_mask=True,\n",
    "            return_tensors='pt',\n",
    "        )\n",
    "\n",
    "        return {\n",
    "            'review_text': review,\n",
    "            'bert_input_ids': bert_encoding['input_ids'].flatten(),\n",
    "            'bert_attention_mask': bert_encoding['attention_mask'].flatten(),\n",
    "            'gpt2_input_ids': gpt2_encoding['input_ids'].flatten(),\n",
    "            'gpt2_attention_mask': gpt2_encoding['attention_mask'].flatten(),\n",
    "            'sentiment_label': torch.tensor(sentiment_label, dtype=torch.long),\n",
    "            'aspect_label': torch.tensor(aspect_label, dtype=torch.long)\n",
    "        }"
   ]
  },
  {
   "cell_type": "code",
   "execution_count": null,
   "id": "fd925802",
   "metadata": {
    "papermill": {
     "duration": 0.015851,
     "end_time": "2024-08-31T18:40:35.169009",
     "exception": false,
     "start_time": "2024-08-31T18:40:35.153158",
     "status": "completed"
    },
    "tags": []
   },
   "outputs": [],
   "source": []
  },
  {
   "cell_type": "markdown",
   "id": "cf14374a",
   "metadata": {
    "papermill": {
     "duration": 0.015991,
     "end_time": "2024-08-31T18:40:35.201825",
     "exception": false,
     "start_time": "2024-08-31T18:40:35.185834",
     "status": "completed"
    },
    "tags": []
   },
   "source": [
    "### 3.2 Multi-Modal Fusion Model\n",
    "\n",
    "- Multi-Modal Fusion model for sentiment analysis and aspect classification.\n",
    "    - This class implements a neural network that combines BERT and GPT-2 models for multi-modal fusion. It's designed for joint sentiment analysis and aspect classification tasks on hotel reviews.\n",
    "\n",
    "- The model architecture consists of:\n",
    "    1. Pre-trained BERT and GPT-2 models for feature extraction\n",
    "    2. A fusion layer to combine features from both models\n",
    "    3. Separate classifiers for sentiment and aspect prediction\n",
    "\n",
    "- Attributes:\n",
    "    - bert (BertModel): Pre-trained BERT model for feature extraction\n",
    "    - gpt2 (GPT2Model): Pre-trained GPT-2 model for feature extraction\n",
    "    - fusion (nn.Linear): Linear layer for fusing BERT and GPT-2 features\n",
    "    - sentiment_classifier (nn.Linear): Linear layer for sentiment classification\n",
    "    - aspect_classifier (nn.Linear): Linear layer for aspect classification"
   ]
  },
  {
   "cell_type": "code",
   "execution_count": 11,
   "id": "54dd9795",
   "metadata": {
    "execution": {
     "iopub.execute_input": "2024-08-31T18:40:35.235322Z",
     "iopub.status.busy": "2024-08-31T18:40:35.234712Z",
     "iopub.status.idle": "2024-08-31T18:40:35.243449Z",
     "shell.execute_reply": "2024-08-31T18:40:35.242568Z"
    },
    "papermill": {
     "duration": 0.027583,
     "end_time": "2024-08-31T18:40:35.245281",
     "exception": false,
     "start_time": "2024-08-31T18:40:35.217698",
     "status": "completed"
    },
    "tags": []
   },
   "outputs": [],
   "source": [
    "class MultiModalFusion(nn.Module):\n",
    "    def __init__(self, bert_dim, gpt2_dim, num_sentiment_classes, num_aspect_classes):\n",
    "        super(MultiModalFusion, self).__init__()\n",
    "        self.bert = BertModel.from_pretrained('bert-base-uncased')\n",
    "        self.gpt2 = GPT2Model.from_pretrained('gpt2')\n",
    "        \n",
    "        self.fusion = nn.Linear(bert_dim + gpt2_dim, bert_dim + gpt2_dim)\n",
    "        self.sentiment_classifier = nn.Linear(bert_dim + gpt2_dim, num_sentiment_classes)\n",
    "        self.aspect_classifier = nn.Linear(bert_dim + gpt2_dim, num_aspect_classes)\n",
    "        \n",
    "    def forward(self, bert_input_ids, bert_attention_mask, gpt2_input_ids, gpt2_attention_mask):\n",
    "        bert_output = self.bert(input_ids=bert_input_ids, attention_mask=bert_attention_mask)\n",
    "        gpt2_output = self.gpt2(input_ids=gpt2_input_ids, attention_mask=gpt2_attention_mask)\n",
    "        \n",
    "        bert_features = bert_output.last_hidden_state[:, 0, :]  # [CLS] token\n",
    "        gpt2_features = gpt2_output.last_hidden_state[:, -1, :]  # Last token\n",
    "        \n",
    "        fused_features = torch.cat([bert_features, gpt2_features], dim=1)\n",
    "        fused_features = self.fusion(fused_features)\n",
    "        \n",
    "        sentiment_output = self.sentiment_classifier(fused_features)\n",
    "        aspect_output = self.aspect_classifier(fused_features)\n",
    "        \n",
    "        return sentiment_output, aspect_output"
   ]
  },
  {
   "cell_type": "code",
   "execution_count": null,
   "id": "cac1460e",
   "metadata": {
    "papermill": {
     "duration": 0.015717,
     "end_time": "2024-08-31T18:40:35.277056",
     "exception": false,
     "start_time": "2024-08-31T18:40:35.261339",
     "status": "completed"
    },
    "tags": []
   },
   "outputs": [],
   "source": []
  },
  {
   "cell_type": "markdown",
   "id": "62517e2f",
   "metadata": {
    "papermill": {
     "duration": 0.015699,
     "end_time": "2024-08-31T18:40:35.308615",
     "exception": false,
     "start_time": "2024-08-31T18:40:35.292916",
     "status": "completed"
    },
    "tags": []
   },
   "source": [
    "## 4. Training and Evaluation"
   ]
  },
  {
   "cell_type": "markdown",
   "id": "49b651b0",
   "metadata": {
    "papermill": {
     "duration": 0.01612,
     "end_time": "2024-08-31T18:40:35.376203",
     "exception": false,
     "start_time": "2024-08-31T18:40:35.360083",
     "status": "completed"
    },
    "tags": []
   },
   "source": [
    "### 4.1 Training Function\n",
    "- We implement a training function that handles the training loop and validation:\n",
    "\n",
    "- Train the multi-modal fusion model for sentiment analysis and aspect classification.\n",
    "- This function handles the entire training process, including:\n",
    "    - Optimization using AdamW\n",
    "    - Loss calculation for both sentiment and aspect tasks\n",
    "    - Training loop with batch processing\n",
    "    - Validation after each epoch\n",
    "    - Model checkpointing based on best overall accuracy\n",
    "\n",
    "- Args:\n",
    "    - model (nn.Module): The multi-modal fusion model to be trained\n",
    "    - train_loader (DataLoader): DataLoader for the training dataset\n",
    "    - val_loader (DataLoader): DataLoader for the validation dataset\n",
    "    - device (torch.device): The device to run the training on (CPU or GPU)\n",
    "    - n_epochs (int): Number of epochs to train the model\n",
    "\n",
    "- Returns:\n",
    "    - None. The function saves the best model state dict to a file named 'best_model.pth'\n"
   ]
  },
  {
   "cell_type": "code",
   "execution_count": 12,
   "id": "5c50f890",
   "metadata": {
    "execution": {
     "iopub.execute_input": "2024-08-31T18:40:35.411171Z",
     "iopub.status.busy": "2024-08-31T18:40:35.410810Z",
     "iopub.status.idle": "2024-08-31T18:40:35.427207Z",
     "shell.execute_reply": "2024-08-31T18:40:35.426351Z"
    },
    "papermill": {
     "duration": 0.036542,
     "end_time": "2024-08-31T18:40:35.429169",
     "exception": false,
     "start_time": "2024-08-31T18:40:35.392627",
     "status": "completed"
    },
    "tags": []
   },
   "outputs": [],
   "source": [
    "def train_model(model, train_loader, val_loader, device, n_epochs):\n",
    "    optimizer = optim.AdamW(model.parameters(), lr=2e-5)\n",
    "    sentiment_criterion = nn.CrossEntropyLoss()\n",
    "    aspect_criterion = nn.CrossEntropyLoss()\n",
    "    \n",
    "    best_accuracy = 0\n",
    "    \n",
    "    for epoch in range(n_epochs):\n",
    "        model.train()\n",
    "        train_losses = []\n",
    "        for batch in tqdm(train_loader, desc=f'Epoch {epoch + 1}/{n_epochs}'):\n",
    "            bert_input_ids = batch['bert_input_ids'].to(device)\n",
    "            bert_attention_mask = batch['bert_attention_mask'].to(device)\n",
    "            gpt2_input_ids = batch['gpt2_input_ids'].to(device)\n",
    "            gpt2_attention_mask = batch['gpt2_attention_mask'].to(device)\n",
    "            sentiment_labels = batch['sentiment_label'].to(device)\n",
    "            aspect_labels = batch['aspect_label'].to(device)\n",
    "            \n",
    "            optimizer.zero_grad()\n",
    "            sentiment_outputs, aspect_outputs = model(bert_input_ids, bert_attention_mask, gpt2_input_ids, gpt2_attention_mask)\n",
    "            \n",
    "            sentiment_loss = sentiment_criterion(sentiment_outputs, sentiment_labels)\n",
    "            aspect_loss = aspect_criterion(aspect_outputs, aspect_labels)\n",
    "            loss = sentiment_loss + aspect_loss\n",
    "            \n",
    "            loss.backward()\n",
    "            optimizer.step()\n",
    "            train_losses.append(loss.item())\n",
    "        \n",
    "        # Validation\n",
    "        model.eval()\n",
    "        val_losses = []\n",
    "        val_sentiment_preds = []\n",
    "        val_aspect_preds = []\n",
    "        val_sentiment_labels = []\n",
    "        val_aspect_labels = []\n",
    "        \n",
    "        with torch.no_grad():\n",
    "            for batch in val_loader:\n",
    "                bert_input_ids = batch['bert_input_ids'].to(device)\n",
    "                bert_attention_mask = batch['bert_attention_mask'].to(device)\n",
    "                gpt2_input_ids = batch['gpt2_input_ids'].to(device)\n",
    "                gpt2_attention_mask = batch['gpt2_attention_mask'].to(device)\n",
    "                sentiment_labels = batch['sentiment_label'].to(device)\n",
    "                aspect_labels = batch['aspect_label'].to(device)\n",
    "                \n",
    "                sentiment_outputs, aspect_outputs = model(bert_input_ids, bert_attention_mask, gpt2_input_ids, gpt2_attention_mask)\n",
    "                \n",
    "                sentiment_loss = sentiment_criterion(sentiment_outputs, sentiment_labels)\n",
    "                aspect_loss = aspect_criterion(aspect_outputs, aspect_labels)\n",
    "                loss = sentiment_loss + aspect_loss\n",
    "                \n",
    "                val_losses.append(loss.item())\n",
    "                \n",
    "                _, sentiment_preds = torch.max(sentiment_outputs, dim=1)\n",
    "                _, aspect_preds = torch.max(aspect_outputs, dim=1)\n",
    "                \n",
    "                val_sentiment_preds.extend(sentiment_preds.cpu().tolist())\n",
    "                val_aspect_preds.extend(aspect_preds.cpu().tolist())\n",
    "                val_sentiment_labels.extend(sentiment_labels.cpu().tolist())\n",
    "                val_aspect_labels.extend(aspect_labels.cpu().tolist())\n",
    "        \n",
    "        # Calculate metrics\n",
    "        sentiment_accuracy = accuracy_score(val_sentiment_labels, val_sentiment_preds)\n",
    "        aspect_accuracy = accuracy_score(val_aspect_labels, val_aspect_preds)\n",
    "        overall_accuracy = (sentiment_accuracy + aspect_accuracy) / 2\n",
    "        \n",
    "        if overall_accuracy > best_accuracy:\n",
    "            best_accuracy = overall_accuracy\n",
    "            torch.save(model.state_dict(), 'best_model.pth')\n",
    "        \n",
    "        print(f'Epoch {epoch + 1}/{n_epochs}:')\n",
    "        print(f'Train Loss: {np.mean(train_losses):.4f}')\n",
    "        print(f'Val Loss: {np.mean(val_losses):.4f}')\n",
    "        print(f'Val Sentiment Accuracy: {sentiment_accuracy:.4f}')\n",
    "        print(f'Val Aspect Accuracy: {aspect_accuracy:.4f}')\n",
    "        print(f'Val Overall Accuracy: {overall_accuracy:.4f}')"
   ]
  },
  {
   "cell_type": "code",
   "execution_count": null,
   "id": "a929b4d3",
   "metadata": {
    "papermill": {
     "duration": 0.015994,
     "end_time": "2024-08-31T18:40:35.461309",
     "exception": false,
     "start_time": "2024-08-31T18:40:35.445315",
     "status": "completed"
    },
    "tags": []
   },
   "outputs": [],
   "source": []
  },
  {
   "cell_type": "markdown",
   "id": "fd19ee31",
   "metadata": {
    "papermill": {
     "duration": 0.01626,
     "end_time": "2024-08-31T18:40:35.493565",
     "exception": false,
     "start_time": "2024-08-31T18:40:35.477305",
     "status": "completed"
    },
    "tags": []
   },
   "source": [
    "### 4.2 Evaluation Function\n",
    "- We implement an evaluation function to assess the model's performance on the test set:\n",
    "\n",
    "- Evaluate the multi-modal fusion model for sentiment analysis and aspect classification.\n",
    "\n",
    "- This function performs a full evaluation of the model on a test dataset, including:\n",
    "    - Running the model in evaluation mode\n",
    "    - Generating predictions for both sentiment and aspect tasks\n",
    "    - Collecting true labels and predictions\n",
    "    - Generating classification reports for both tasks\n",
    "\n",
    "- Args:\n",
    "    - model (nn.Module): The trained multi-modal fusion model to be evaluated\n",
    "    - test_loader (DataLoader): DataLoader for the test dataset\n",
    "    - device (torch.device): The device to run the evaluation on (CPU or GPU)\n",
    "\n",
    "- Returns:\n",
    "    - tuple: A tuple containing two items:\n",
    "        - sentiment_classification_report (str): A classification report for the sentiment analysis task\n",
    "        - aspect_classification_report (str): A classification report for the aspect classification task\n",
    "\n",
    "\n"
   ]
  },
  {
   "cell_type": "code",
   "execution_count": 13,
   "id": "ad172a80",
   "metadata": {
    "execution": {
     "iopub.execute_input": "2024-08-31T18:40:35.526159Z",
     "iopub.status.busy": "2024-08-31T18:40:35.525866Z",
     "iopub.status.idle": "2024-08-31T18:40:35.534591Z",
     "shell.execute_reply": "2024-08-31T18:40:35.533710Z"
    },
    "papermill": {
     "duration": 0.02722,
     "end_time": "2024-08-31T18:40:35.536480",
     "exception": false,
     "start_time": "2024-08-31T18:40:35.509260",
     "status": "completed"
    },
    "tags": []
   },
   "outputs": [],
   "source": [
    "def evaluate_model(model, test_loader, device):\n",
    "    model.eval()\n",
    "    sentiment_predictions = []\n",
    "    aspect_predictions = []\n",
    "    sentiment_labels = []\n",
    "    aspect_labels = []\n",
    "    \n",
    "    with torch.no_grad():\n",
    "        for batch in tqdm(test_loader, desc='Evaluating'):\n",
    "            bert_input_ids = batch['bert_input_ids'].to(device)\n",
    "            bert_attention_mask = batch['bert_attention_mask'].to(device)\n",
    "            gpt2_input_ids = batch['gpt2_input_ids'].to(device)\n",
    "            gpt2_attention_mask = batch['gpt2_attention_mask'].to(device)\n",
    "            \n",
    "            sentiment_outputs, aspect_outputs = model(bert_input_ids, bert_attention_mask, gpt2_input_ids, gpt2_attention_mask)\n",
    "            \n",
    "            _, sentiment_preds = torch.max(sentiment_outputs, dim=1)\n",
    "            _, aspect_preds = torch.max(aspect_outputs, dim=1)\n",
    "            \n",
    "            sentiment_predictions.extend(sentiment_preds.cpu().tolist())\n",
    "            aspect_predictions.extend(aspect_preds.cpu().tolist())\n",
    "            sentiment_labels.extend(batch['sentiment_label'].cpu().tolist())\n",
    "            aspect_labels.extend(batch['aspect_label'].cpu().tolist())\n",
    "    \n",
    "    sentiment_classification_report = classification_report(sentiment_labels, sentiment_predictions)\n",
    "    \n",
    "    aspect_classification_report = classification_report(aspect_labels, aspect_predictions)\n",
    "    \n",
    "    return sentiment_classification_report, aspect_classification_report"
   ]
  },
  {
   "cell_type": "code",
   "execution_count": null,
   "id": "b7b23a34",
   "metadata": {
    "papermill": {
     "duration": 0.015656,
     "end_time": "2024-08-31T18:40:35.568310",
     "exception": false,
     "start_time": "2024-08-31T18:40:35.552654",
     "status": "completed"
    },
    "tags": []
   },
   "outputs": [],
   "source": []
  },
  {
   "cell_type": "markdown",
   "id": "7da576c3",
   "metadata": {
    "papermill": {
     "duration": 0.016868,
     "end_time": "2024-08-31T18:40:35.601019",
     "exception": false,
     "start_time": "2024-08-31T18:40:35.584151",
     "status": "completed"
    },
    "tags": []
   },
   "source": [
    "## 5. Main Execution"
   ]
  },
  {
   "cell_type": "markdown",
   "id": "0e6df121",
   "metadata": {
    "papermill": {
     "duration": 0.015716,
     "end_time": "2024-08-31T18:40:35.632499",
     "exception": false,
     "start_time": "2024-08-31T18:40:35.616783",
     "status": "completed"
    },
    "tags": []
   },
   "source": [
    "### 5.1 Data Preparation\n",
    "- First, we split our data into training and testing sets:\n",
    "- Below code prepares our data for model training and evaluation. We use a 80-20 split for training and testing, respectively."
   ]
  },
  {
   "cell_type": "code",
   "execution_count": 14,
   "id": "a5b0122b",
   "metadata": {
    "execution": {
     "iopub.execute_input": "2024-08-31T18:40:35.666557Z",
     "iopub.status.busy": "2024-08-31T18:40:35.666260Z",
     "iopub.status.idle": "2024-08-31T18:40:35.804503Z",
     "shell.execute_reply": "2024-08-31T18:40:35.803717Z"
    },
    "papermill": {
     "duration": 0.157938,
     "end_time": "2024-08-31T18:40:35.806748",
     "exception": false,
     "start_time": "2024-08-31T18:40:35.648810",
     "status": "completed"
    },
    "tags": []
   },
   "outputs": [],
   "source": [
    "reviews = data['Total_Review'].tolist()\n",
    "sentiment_labels = data['sentiment_encoded'].tolist()\n",
    "aspect_labels = data['aspect_encoded'].tolist()\n",
    "\n",
    "X_train, X_test, y_train, y_test = train_test_split(\n",
    "    reviews, \n",
    "    list(zip(sentiment_labels, aspect_labels)),\n",
    "    test_size=0.2, \n",
    "    random_state=42\n",
    ")"
   ]
  },
  {
   "cell_type": "code",
   "execution_count": null,
   "id": "2d4341ff",
   "metadata": {
    "papermill": {
     "duration": 0.016182,
     "end_time": "2024-08-31T18:40:35.839409",
     "exception": false,
     "start_time": "2024-08-31T18:40:35.823227",
     "status": "completed"
    },
    "tags": []
   },
   "outputs": [],
   "source": []
  },
  {
   "cell_type": "markdown",
   "id": "e3bef36f",
   "metadata": {
    "papermill": {
     "duration": 0.015812,
     "end_time": "2024-08-31T18:40:35.871253",
     "exception": false,
     "start_time": "2024-08-31T18:40:35.855441",
     "status": "completed"
    },
    "tags": []
   },
   "source": [
    "### 5.2 Model and Data Preparation\n",
    "- Next, we initialize our tokenizers, create datasets, and set up data loaders:\n",
    "- Here, we're setting up the BERT and GPT-2 tokenizers, creating our custom datasets, and preparing data loaders for efficient batch processing during training and evaluation."
   ]
  },
  {
   "cell_type": "code",
   "execution_count": 15,
   "id": "4c4015a8",
   "metadata": {
    "execution": {
     "iopub.execute_input": "2024-08-31T18:40:35.905691Z",
     "iopub.status.busy": "2024-08-31T18:40:35.905288Z",
     "iopub.status.idle": "2024-08-31T18:40:41.415188Z",
     "shell.execute_reply": "2024-08-31T18:40:41.414104Z"
    },
    "papermill": {
     "duration": 5.530331,
     "end_time": "2024-08-31T18:40:41.417840",
     "exception": false,
     "start_time": "2024-08-31T18:40:35.887509",
     "status": "completed"
    },
    "tags": []
   },
   "outputs": [
    {
     "data": {
      "application/vnd.jupyter.widget-view+json": {
       "model_id": "fb411b99838e44c9b6b495df8a026c55",
       "version_major": 2,
       "version_minor": 0
      },
      "text/plain": [
       "tokenizer_config.json:   0%|          | 0.00/48.0 [00:00<?, ?B/s]"
      ]
     },
     "metadata": {},
     "output_type": "display_data"
    },
    {
     "data": {
      "application/vnd.jupyter.widget-view+json": {
       "model_id": "93880a8b239042c7ac1f82ebe4466cd7",
       "version_major": 2,
       "version_minor": 0
      },
      "text/plain": [
       "vocab.txt:   0%|          | 0.00/232k [00:00<?, ?B/s]"
      ]
     },
     "metadata": {},
     "output_type": "display_data"
    },
    {
     "data": {
      "application/vnd.jupyter.widget-view+json": {
       "model_id": "1113d4bc9f5642d78664c26b289e11c0",
       "version_major": 2,
       "version_minor": 0
      },
      "text/plain": [
       "tokenizer.json:   0%|          | 0.00/466k [00:00<?, ?B/s]"
      ]
     },
     "metadata": {},
     "output_type": "display_data"
    },
    {
     "data": {
      "application/vnd.jupyter.widget-view+json": {
       "model_id": "9042885ec97243128590da233e46b708",
       "version_major": 2,
       "version_minor": 0
      },
      "text/plain": [
       "config.json:   0%|          | 0.00/570 [00:00<?, ?B/s]"
      ]
     },
     "metadata": {},
     "output_type": "display_data"
    },
    {
     "name": "stderr",
     "output_type": "stream",
     "text": [
      "/opt/conda/lib/python3.10/site-packages/transformers/tokenization_utils_base.py:1601: FutureWarning: `clean_up_tokenization_spaces` was not set. It will be set to `True` by default. This behavior will be depracted in transformers v4.45, and will be then set to `False` by default. For more details check this issue: https://github.com/huggingface/transformers/issues/31884\n",
      "  warnings.warn(\n"
     ]
    },
    {
     "data": {
      "application/vnd.jupyter.widget-view+json": {
       "model_id": "d71a850e3a5146aa842a93817b49437d",
       "version_major": 2,
       "version_minor": 0
      },
      "text/plain": [
       "tokenizer_config.json:   0%|          | 0.00/26.0 [00:00<?, ?B/s]"
      ]
     },
     "metadata": {},
     "output_type": "display_data"
    },
    {
     "data": {
      "application/vnd.jupyter.widget-view+json": {
       "model_id": "22150f9eb32a43e483c4a92f7cc47958",
       "version_major": 2,
       "version_minor": 0
      },
      "text/plain": [
       "vocab.json:   0%|          | 0.00/1.04M [00:00<?, ?B/s]"
      ]
     },
     "metadata": {},
     "output_type": "display_data"
    },
    {
     "data": {
      "application/vnd.jupyter.widget-view+json": {
       "model_id": "162b6dd8a4fc4f99a0091dc92efe2044",
       "version_major": 2,
       "version_minor": 0
      },
      "text/plain": [
       "merges.txt:   0%|          | 0.00/456k [00:00<?, ?B/s]"
      ]
     },
     "metadata": {},
     "output_type": "display_data"
    },
    {
     "data": {
      "application/vnd.jupyter.widget-view+json": {
       "model_id": "d181431e9476458daabd5d2529643a85",
       "version_major": 2,
       "version_minor": 0
      },
      "text/plain": [
       "tokenizer.json:   0%|          | 0.00/1.36M [00:00<?, ?B/s]"
      ]
     },
     "metadata": {},
     "output_type": "display_data"
    },
    {
     "data": {
      "application/vnd.jupyter.widget-view+json": {
       "model_id": "4f51a3e6cf744e95b9a2ab0d987cc9e4",
       "version_major": 2,
       "version_minor": 0
      },
      "text/plain": [
       "config.json:   0%|          | 0.00/665 [00:00<?, ?B/s]"
      ]
     },
     "metadata": {},
     "output_type": "display_data"
    }
   ],
   "source": [
    "# Initialize tokenizers\n",
    "bert_tokenizer = BertTokenizer.from_pretrained('bert-base-uncased')\n",
    "gpt2_tokenizer = GPT2Tokenizer.from_pretrained('gpt2')\n",
    "gpt2_tokenizer.pad_token = gpt2_tokenizer.eos_token\n",
    "max_len = 256\n",
    "\n",
    "# Create datasets\n",
    "train_dataset = HotelReviewDataset(X_train, y_train, bert_tokenizer, gpt2_tokenizer, max_len)\n",
    "test_dataset = HotelReviewDataset(X_test, y_test, bert_tokenizer, gpt2_tokenizer, max_len)\n",
    "\n",
    "# Create data loaders\n",
    "train_loader = DataLoader(train_dataset, batch_size=16, shuffle=True)\n",
    "test_loader = DataLoader(test_dataset, batch_size=16)"
   ]
  },
  {
   "cell_type": "code",
   "execution_count": null,
   "id": "24af3a4b",
   "metadata": {
    "papermill": {
     "duration": 0.017696,
     "end_time": "2024-08-31T18:40:41.454294",
     "exception": false,
     "start_time": "2024-08-31T18:40:41.436598",
     "status": "completed"
    },
    "tags": []
   },
   "outputs": [],
   "source": []
  },
  {
   "cell_type": "markdown",
   "id": "9088bc90",
   "metadata": {
    "papermill": {
     "duration": 0.017325,
     "end_time": "2024-08-31T18:40:41.489220",
     "exception": false,
     "start_time": "2024-08-31T18:40:41.471895",
     "status": "completed"
    },
    "tags": []
   },
   "source": [
    "### 5.3 Model Initialization\n",
    "- Now, we initialize our multi-modal fusion model:\n",
    "- Below code initializes our model and moves it to the appropriate device (GPU if available, otherwise CPU). We also count and print the total number of trainable parameters in our model."
   ]
  },
  {
   "cell_type": "code",
   "execution_count": 16,
   "id": "da8d8da5",
   "metadata": {
    "execution": {
     "iopub.execute_input": "2024-08-31T18:40:41.526305Z",
     "iopub.status.busy": "2024-08-31T18:40:41.525953Z",
     "iopub.status.idle": "2024-08-31T18:40:48.851029Z",
     "shell.execute_reply": "2024-08-31T18:40:48.849894Z"
    },
    "papermill": {
     "duration": 7.345921,
     "end_time": "2024-08-31T18:40:48.853305",
     "exception": false,
     "start_time": "2024-08-31T18:40:41.507384",
     "status": "completed"
    },
    "tags": []
   },
   "outputs": [
    {
     "data": {
      "application/vnd.jupyter.widget-view+json": {
       "model_id": "67f8dc71d40344468dfe4735b84b3df5",
       "version_major": 2,
       "version_minor": 0
      },
      "text/plain": [
       "model.safetensors:   0%|          | 0.00/440M [00:00<?, ?B/s]"
      ]
     },
     "metadata": {},
     "output_type": "display_data"
    },
    {
     "name": "stderr",
     "output_type": "stream",
     "text": [
      "A parameter name that contains `beta` will be renamed internally to `bias`. Please use a different name to suppress this warning.\n",
      "A parameter name that contains `gamma` will be renamed internally to `weight`. Please use a different name to suppress this warning.\n",
      "A parameter name that contains `beta` will be renamed internally to `bias`. Please use a different name to suppress this warning.\n",
      "A parameter name that contains `gamma` will be renamed internally to `weight`. Please use a different name to suppress this warning.\n",
      "A parameter name that contains `beta` will be renamed internally to `bias`. Please use a different name to suppress this warning.\n",
      "A parameter name that contains `gamma` will be renamed internally to `weight`. Please use a different name to suppress this warning.\n",
      "A parameter name that contains `beta` will be renamed internally to `bias`. Please use a different name to suppress this warning.\n",
      "A parameter name that contains `gamma` will be renamed internally to `weight`. Please use a different name to suppress this warning.\n",
      "A parameter name that contains `beta` will be renamed internally to `bias`. Please use a different name to suppress this warning.\n",
      "A parameter name that contains `gamma` will be renamed internally to `weight`. Please use a different name to suppress this warning.\n",
      "A parameter name that contains `beta` will be renamed internally to `bias`. Please use a different name to suppress this warning.\n",
      "A parameter name that contains `gamma` will be renamed internally to `weight`. Please use a different name to suppress this warning.\n",
      "A parameter name that contains `beta` will be renamed internally to `bias`. Please use a different name to suppress this warning.\n",
      "A parameter name that contains `gamma` will be renamed internally to `weight`. Please use a different name to suppress this warning.\n",
      "A parameter name that contains `beta` will be renamed internally to `bias`. Please use a different name to suppress this warning.\n",
      "A parameter name that contains `gamma` will be renamed internally to `weight`. Please use a different name to suppress this warning.\n",
      "A parameter name that contains `beta` will be renamed internally to `bias`. Please use a different name to suppress this warning.\n",
      "A parameter name that contains `gamma` will be renamed internally to `weight`. Please use a different name to suppress this warning.\n",
      "A parameter name that contains `beta` will be renamed internally to `bias`. Please use a different name to suppress this warning.\n",
      "A parameter name that contains `gamma` will be renamed internally to `weight`. Please use a different name to suppress this warning.\n",
      "A parameter name that contains `beta` will be renamed internally to `bias`. Please use a different name to suppress this warning.\n",
      "A parameter name that contains `gamma` will be renamed internally to `weight`. Please use a different name to suppress this warning.\n",
      "A parameter name that contains `beta` will be renamed internally to `bias`. Please use a different name to suppress this warning.\n",
      "A parameter name that contains `gamma` will be renamed internally to `weight`. Please use a different name to suppress this warning.\n",
      "A parameter name that contains `beta` will be renamed internally to `bias`. Please use a different name to suppress this warning.\n",
      "A parameter name that contains `gamma` will be renamed internally to `weight`. Please use a different name to suppress this warning.\n",
      "A parameter name that contains `beta` will be renamed internally to `bias`. Please use a different name to suppress this warning.\n",
      "A parameter name that contains `gamma` will be renamed internally to `weight`. Please use a different name to suppress this warning.\n",
      "A parameter name that contains `beta` will be renamed internally to `bias`. Please use a different name to suppress this warning.\n",
      "A parameter name that contains `gamma` will be renamed internally to `weight`. Please use a different name to suppress this warning.\n",
      "A parameter name that contains `beta` will be renamed internally to `bias`. Please use a different name to suppress this warning.\n",
      "A parameter name that contains `gamma` will be renamed internally to `weight`. Please use a different name to suppress this warning.\n",
      "A parameter name that contains `beta` will be renamed internally to `bias`. Please use a different name to suppress this warning.\n",
      "A parameter name that contains `gamma` will be renamed internally to `weight`. Please use a different name to suppress this warning.\n",
      "A parameter name that contains `beta` will be renamed internally to `bias`. Please use a different name to suppress this warning.\n",
      "A parameter name that contains `gamma` will be renamed internally to `weight`. Please use a different name to suppress this warning.\n",
      "A parameter name that contains `beta` will be renamed internally to `bias`. Please use a different name to suppress this warning.\n",
      "A parameter name that contains `gamma` will be renamed internally to `weight`. Please use a different name to suppress this warning.\n",
      "A parameter name that contains `beta` will be renamed internally to `bias`. Please use a different name to suppress this warning.\n",
      "A parameter name that contains `gamma` will be renamed internally to `weight`. Please use a different name to suppress this warning.\n",
      "A parameter name that contains `beta` will be renamed internally to `bias`. Please use a different name to suppress this warning.\n",
      "A parameter name that contains `gamma` will be renamed internally to `weight`. Please use a different name to suppress this warning.\n",
      "A parameter name that contains `beta` will be renamed internally to `bias`. Please use a different name to suppress this warning.\n",
      "A parameter name that contains `gamma` will be renamed internally to `weight`. Please use a different name to suppress this warning.\n",
      "A parameter name that contains `beta` will be renamed internally to `bias`. Please use a different name to suppress this warning.\n",
      "A parameter name that contains `gamma` will be renamed internally to `weight`. Please use a different name to suppress this warning.\n",
      "A parameter name that contains `beta` will be renamed internally to `bias`. Please use a different name to suppress this warning.\n",
      "A parameter name that contains `gamma` will be renamed internally to `weight`. Please use a different name to suppress this warning.\n",
      "A parameter name that contains `beta` will be renamed internally to `bias`. Please use a different name to suppress this warning.\n",
      "A parameter name that contains `gamma` will be renamed internally to `weight`. Please use a different name to suppress this warning.\n",
      "A parameter name that contains `beta` will be renamed internally to `bias`. Please use a different name to suppress this warning.\n",
      "A parameter name that contains `gamma` will be renamed internally to `weight`. Please use a different name to suppress this warning.\n"
     ]
    },
    {
     "data": {
      "application/vnd.jupyter.widget-view+json": {
       "model_id": "b9c61a91214a47a0b102713716a49ff3",
       "version_major": 2,
       "version_minor": 0
      },
      "text/plain": [
       "model.safetensors:   0%|          | 0.00/548M [00:00<?, ?B/s]"
      ]
     },
     "metadata": {},
     "output_type": "display_data"
    },
    {
     "name": "stdout",
     "output_type": "stream",
     "text": [
      "Number of trainable parameters: 236293639\n",
      "\n",
      "Number of non-trainable parameters: 0\n",
      "\n"
     ]
    }
   ],
   "source": [
    "# Initialize model\n",
    "device = torch.device('cuda' if torch.cuda.is_available() else 'cpu')\n",
    "num_sentiment_classes = len(le_sentiment.classes_)\n",
    "num_aspect_classes = len(le_aspect.classes_)\n",
    "model = MultiModalFusion(768, 768, num_sentiment_classes, num_aspect_classes).to(device)\n",
    "\n",
    "#### ==================================================== ###\n",
    "\n",
    "# Count the trainable and non-trainable parameters\n",
    "\n",
    "# Check the trainable parameters\n",
    "trainable_params = sum(p.numel() for p in model.parameters() if p.requires_grad)\n",
    "print(f\"Number of trainable parameters: {trainable_params}\\n\")\n",
    "\n",
    "# Check the non-trainable parameters\n",
    "non_trainable_params = sum(p.numel() for p in model.parameters() if not p.requires_grad)\n",
    "print(f\"Number of non-trainable parameters: {non_trainable_params}\\n\")"
   ]
  },
  {
   "cell_type": "code",
   "execution_count": null,
   "id": "91c2fc64",
   "metadata": {
    "papermill": {
     "duration": 0.023134,
     "end_time": "2024-08-31T18:40:48.900006",
     "exception": false,
     "start_time": "2024-08-31T18:40:48.876872",
     "status": "completed"
    },
    "tags": []
   },
   "outputs": [],
   "source": []
  },
  {
   "cell_type": "markdown",
   "id": "76db2e3e",
   "metadata": {
    "papermill": {
     "duration": 0.021963,
     "end_time": "2024-08-31T18:40:48.944039",
     "exception": false,
     "start_time": "2024-08-31T18:40:48.922076",
     "status": "completed"
    },
    "tags": []
   },
   "source": [
    "### 5.4 Model Architecture Visualization\n",
    "- To create a visual representation of our model architecture:\n",
    "- Create a simplified, high-level visualization of the multi-modal fusion model architecture."
   ]
  },
  {
   "cell_type": "code",
   "execution_count": 17,
   "id": "d8a53d37",
   "metadata": {
    "execution": {
     "iopub.execute_input": "2024-08-31T18:40:48.989139Z",
     "iopub.status.busy": "2024-08-31T18:40:48.988787Z",
     "iopub.status.idle": "2024-08-31T18:40:48.997593Z",
     "shell.execute_reply": "2024-08-31T18:40:48.996689Z"
    },
    "papermill": {
     "duration": 0.03371,
     "end_time": "2024-08-31T18:40:48.999476",
     "exception": false,
     "start_time": "2024-08-31T18:40:48.965766",
     "status": "completed"
    },
    "tags": []
   },
   "outputs": [
    {
     "data": {
      "text/plain": [
       "MultiModalFusion(\n",
       "  (bert): BertModel(\n",
       "    (embeddings): BertEmbeddings(\n",
       "      (word_embeddings): Embedding(30522, 768, padding_idx=0)\n",
       "      (position_embeddings): Embedding(512, 768)\n",
       "      (token_type_embeddings): Embedding(2, 768)\n",
       "      (LayerNorm): LayerNorm((768,), eps=1e-12, elementwise_affine=True)\n",
       "      (dropout): Dropout(p=0.1, inplace=False)\n",
       "    )\n",
       "    (encoder): BertEncoder(\n",
       "      (layer): ModuleList(\n",
       "        (0-11): 12 x BertLayer(\n",
       "          (attention): BertAttention(\n",
       "            (self): BertSdpaSelfAttention(\n",
       "              (query): Linear(in_features=768, out_features=768, bias=True)\n",
       "              (key): Linear(in_features=768, out_features=768, bias=True)\n",
       "              (value): Linear(in_features=768, out_features=768, bias=True)\n",
       "              (dropout): Dropout(p=0.1, inplace=False)\n",
       "            )\n",
       "            (output): BertSelfOutput(\n",
       "              (dense): Linear(in_features=768, out_features=768, bias=True)\n",
       "              (LayerNorm): LayerNorm((768,), eps=1e-12, elementwise_affine=True)\n",
       "              (dropout): Dropout(p=0.1, inplace=False)\n",
       "            )\n",
       "          )\n",
       "          (intermediate): BertIntermediate(\n",
       "            (dense): Linear(in_features=768, out_features=3072, bias=True)\n",
       "            (intermediate_act_fn): GELUActivation()\n",
       "          )\n",
       "          (output): BertOutput(\n",
       "            (dense): Linear(in_features=3072, out_features=768, bias=True)\n",
       "            (LayerNorm): LayerNorm((768,), eps=1e-12, elementwise_affine=True)\n",
       "            (dropout): Dropout(p=0.1, inplace=False)\n",
       "          )\n",
       "        )\n",
       "      )\n",
       "    )\n",
       "    (pooler): BertPooler(\n",
       "      (dense): Linear(in_features=768, out_features=768, bias=True)\n",
       "      (activation): Tanh()\n",
       "    )\n",
       "  )\n",
       "  (gpt2): GPT2Model(\n",
       "    (wte): Embedding(50257, 768)\n",
       "    (wpe): Embedding(1024, 768)\n",
       "    (drop): Dropout(p=0.1, inplace=False)\n",
       "    (h): ModuleList(\n",
       "      (0-11): 12 x GPT2Block(\n",
       "        (ln_1): LayerNorm((768,), eps=1e-05, elementwise_affine=True)\n",
       "        (attn): GPT2SdpaAttention(\n",
       "          (c_attn): Conv1D()\n",
       "          (c_proj): Conv1D()\n",
       "          (attn_dropout): Dropout(p=0.1, inplace=False)\n",
       "          (resid_dropout): Dropout(p=0.1, inplace=False)\n",
       "        )\n",
       "        (ln_2): LayerNorm((768,), eps=1e-05, elementwise_affine=True)\n",
       "        (mlp): GPT2MLP(\n",
       "          (c_fc): Conv1D()\n",
       "          (c_proj): Conv1D()\n",
       "          (act): NewGELUActivation()\n",
       "          (dropout): Dropout(p=0.1, inplace=False)\n",
       "        )\n",
       "      )\n",
       "    )\n",
       "    (ln_f): LayerNorm((768,), eps=1e-05, elementwise_affine=True)\n",
       "  )\n",
       "  (fusion): Linear(in_features=1536, out_features=1536, bias=True)\n",
       "  (sentiment_classifier): Linear(in_features=1536, out_features=2, bias=True)\n",
       "  (aspect_classifier): Linear(in_features=1536, out_features=5, bias=True)\n",
       ")"
      ]
     },
     "execution_count": 17,
     "metadata": {},
     "output_type": "execute_result"
    }
   ],
   "source": [
    "model"
   ]
  },
  {
   "cell_type": "code",
   "execution_count": 18,
   "id": "9c2cbd90",
   "metadata": {
    "execution": {
     "iopub.execute_input": "2024-08-31T18:40:49.047243Z",
     "iopub.status.busy": "2024-08-31T18:40:49.046934Z",
     "iopub.status.idle": "2024-08-31T18:40:49.507007Z",
     "shell.execute_reply": "2024-08-31T18:40:49.506172Z"
    },
    "papermill": {
     "duration": 0.486821,
     "end_time": "2024-08-31T18:40:49.509228",
     "exception": false,
     "start_time": "2024-08-31T18:40:49.022407",
     "status": "completed"
    },
    "tags": []
   },
   "outputs": [
    {
     "name": "stdout",
     "output_type": "stream",
     "text": [
      "Simplified model architecture has been saved as 'simplified_model_architecture.png' and 'simplified_model_architecture.pdf'.\n"
     ]
    },
    {
     "data": {
      "image/png": "[encoded data removed]",
      "text/plain": [
       "<IPython.core.display.Image object>"
      ]
     },
     "metadata": {},
     "output_type": "display_data"
    }
   ],
   "source": [
    "def create_simplified_model_graph():\n",
    "    dot = graphviz.Digraph(comment='Multi-Modal Fusion Model')\n",
    "    dot.attr(rankdir='TB', size='8,8')\n",
    "    \n",
    "    # Define node styles\n",
    "    dot.attr('node', shape='rectangle', style='filled', color='lightblue')\n",
    "    \n",
    "    # Input nodes\n",
    "    dot.node('input', 'Input Text')\n",
    "    \n",
    "    # BERT and GPT-2 nodes\n",
    "    dot.node('bert', 'BERT Encoder')\n",
    "    dot.node('gpt2', 'GPT-2 Encoder')\n",
    "    \n",
    "    # Feature extraction nodes\n",
    "    dot.node('bert_features', 'BERT Features\\n[CLS] Token')\n",
    "    dot.node('gpt2_features', 'GPT-2 Features\\nLast Token')\n",
    "    \n",
    "    # Fusion node\n",
    "    dot.node('fusion', 'Feature Fusion\\nConcatenate + Linear')\n",
    "    \n",
    "    # Output nodes\n",
    "    dot.node('sentiment', 'Sentiment Classification')\n",
    "    dot.node('aspect', 'Aspect Classification')\n",
    "    \n",
    "    # Add edges\n",
    "    dot.edge('input', 'bert')\n",
    "    dot.edge('input', 'gpt2')\n",
    "    dot.edge('bert', 'bert_features')\n",
    "    dot.edge('gpt2', 'gpt2_features')\n",
    "    dot.edge('bert_features', 'fusion')\n",
    "    dot.edge('gpt2_features', 'fusion')\n",
    "    dot.edge('fusion', 'sentiment')\n",
    "    dot.edge('fusion', 'aspect')\n",
    "    \n",
    "    return dot\n",
    "\n",
    "# Generate and save the graph\n",
    "graph = create_simplified_model_graph()\n",
    "graph.render('simplified_model_architecture', format='png', cleanup=True)\n",
    "graph.render('simplified_model_architecture', format='pdf', cleanup=True)\n",
    "print(\"Simplified model architecture has been saved as 'simplified_model_architecture.png' and 'simplified_model_architecture.pdf'.\")\n",
    "\n",
    "# Display the graph in the notebook\n",
    "display(Image(filename='simplified_model_architecture.png'))"
   ]
  },
  {
   "cell_type": "code",
   "execution_count": null,
   "id": "7f2a4cf6",
   "metadata": {
    "papermill": {
     "duration": 0.022441,
     "end_time": "2024-08-31T18:40:49.554841",
     "exception": false,
     "start_time": "2024-08-31T18:40:49.532400",
     "status": "completed"
    },
    "tags": []
   },
   "outputs": [],
   "source": []
  },
  {
   "cell_type": "markdown",
   "id": "0b04e1ce",
   "metadata": {
    "papermill": {
     "duration": 0.022767,
     "end_time": "2024-08-31T18:40:49.600107",
     "exception": false,
     "start_time": "2024-08-31T18:40:49.577340",
     "status": "completed"
    },
    "tags": []
   },
   "source": [
    "### 5.5 Model Training\n",
    "- We now train our model:\n",
    "- We call our train_model function to train the model for the 10 number of epochs."
   ]
  },
  {
   "cell_type": "code",
   "execution_count": 19,
   "id": "5c3da6bb",
   "metadata": {
    "execution": {
     "iopub.execute_input": "2024-08-31T18:40:49.647055Z",
     "iopub.status.busy": "2024-08-31T18:40:49.646729Z",
     "iopub.status.idle": "2024-09-01T01:57:33.086755Z",
     "shell.execute_reply": "2024-09-01T01:57:33.085840Z"
    },
    "papermill": {
     "duration": 26204.881253,
     "end_time": "2024-09-01T01:57:34.504133",
     "exception": false,
     "start_time": "2024-08-31T18:40:49.622880",
     "status": "completed"
    },
    "tags": []
   },
   "outputs": [
    {
     "name": "stderr",
     "output_type": "stream",
     "text": [
      "Epoch 1/2: 100%|██████████| 8672/8672 [3:21:58<00:00,  1.40s/it]\n"
     ]
    },
    {
     "name": "stdout",
     "output_type": "stream",
     "text": [
      "Epoch 1/2:\n",
      "Train Loss: 0.9565\n",
      "Val Loss: 0.8445\n",
      "Val Sentiment Accuracy: 0.8570\n",
      "Val Aspect Accuracy: 0.7896\n",
      "Val Overall Accuracy: 0.8233\n"
     ]
    },
    {
     "name": "stderr",
     "output_type": "stream",
     "text": [
      "Epoch 2/2: 100%|██████████| 8672/8672 [3:21:59<00:00,  1.40s/it]\n"
     ]
    },
    {
     "name": "stdout",
     "output_type": "stream",
     "text": [
      "Epoch 2/2:\n",
      "Train Loss: 0.7315\n",
      "Val Loss: 0.8259\n",
      "Val Sentiment Accuracy: 0.8563\n",
      "Val Aspect Accuracy: 0.8018\n",
      "Val Overall Accuracy: 0.8290\n"
     ]
    }
   ],
   "source": [
    "# Train the model\n",
    "train_model(model, train_loader, test_loader, device, n_epochs=2)"
   ]
  },
  {
   "cell_type": "code",
   "execution_count": null,
   "id": "d80eb04d",
   "metadata": {
    "papermill": {
     "duration": 1.432822,
     "end_time": "2024-09-01T01:57:37.305868",
     "exception": false,
     "start_time": "2024-09-01T01:57:35.873046",
     "status": "completed"
    },
    "tags": []
   },
   "outputs": [],
   "source": []
  },
  {
   "cell_type": "markdown",
   "id": "c05153dc",
   "metadata": {
    "papermill": {
     "duration": 1.428845,
     "end_time": "2024-09-01T01:57:40.204771",
     "exception": false,
     "start_time": "2024-09-01T01:57:38.775926",
     "status": "completed"
    },
    "tags": []
   },
   "source": [
    "### 5.6. Model Evaluation\n",
    "- After training, we evaluate our model on both the training and test sets:\n",
    "\n",
    "- We loads the best model (saved during training), evaluates it on both the training and test sets, and prints the classification reports for both sentiment analysis and aspect classification tasks."
   ]
  },
  {
   "cell_type": "code",
   "execution_count": 20,
   "id": "faf9265e",
   "metadata": {
    "execution": {
     "iopub.execute_input": "2024-09-01T01:57:42.978880Z",
     "iopub.status.busy": "2024-09-01T01:57:42.978258Z",
     "iopub.status.idle": "2024-09-01T03:19:45.390284Z",
     "shell.execute_reply": "2024-09-01T03:19:45.389059Z"
    },
    "papermill": {
     "duration": 4923.82727,
     "end_time": "2024-09-01T03:19:45.393204",
     "exception": false,
     "start_time": "2024-09-01T01:57:41.565934",
     "status": "completed"
    },
    "tags": []
   },
   "outputs": [
    {
     "name": "stderr",
     "output_type": "stream",
     "text": [
      "/tmp/ipykernel_23/1782423804.py:2: FutureWarning: You are using `torch.load` with `weights_only=False` (the current default value), which uses the default pickle module implicitly. It is possible to construct malicious pickle data which will execute arbitrary code during unpickling (See https://github.com/pytorch/pytorch/blob/main/SECURITY.md#untrusted-models for more details). In a future release, the default value for `weights_only` will be flipped to `True`. This limits the functions that could be executed during unpickling. Arbitrary objects will no longer be allowed to be loaded via this mode unless they are explicitly allowlisted by the user via `torch.serialization.add_safe_globals`. We recommend you start setting `weights_only=True` for any use case where you don't have full control of the loaded file. Please open an issue on GitHub for any issues related to this experimental feature.\n",
      "  model.load_state_dict(torch.load('best_model.pth'))\n",
      "Evaluating: 100%|██████████| 8672/8672 [1:05:36<00:00,  2.20it/s]\n",
      "Evaluating: 100%|██████████| 2168/2168 [16:24<00:00,  2.20it/s]"
     ]
    },
    {
     "name": "stdout",
     "output_type": "stream",
     "text": [
      "Train Sentiment Classification Report:\n",
      "              precision    recall  f1-score   support\n",
      "\n",
      "           0       0.89      0.92      0.91     69400\n",
      "           1       0.92      0.89      0.90     69347\n",
      "\n",
      "    accuracy                           0.90    138747\n",
      "   macro avg       0.91      0.90      0.90    138747\n",
      "weighted avg       0.91      0.90      0.90    138747\n",
      "\n",
      "\n",
      "Train Aspect Classification Report:\n",
      "              precision    recall  f1-score   support\n",
      "\n",
      "           0       0.96      0.82      0.88     31228\n",
      "           1       0.82      0.96      0.89     22493\n",
      "           2       0.89      0.91      0.90     23929\n",
      "           3       0.93      0.90      0.91     38076\n",
      "           4       0.86      0.91      0.88     23021\n",
      "\n",
      "    accuracy                           0.90    138747\n",
      "   macro avg       0.89      0.90      0.89    138747\n",
      "weighted avg       0.90      0.90      0.90    138747\n",
      "\n",
      "\n",
      "\n",
      "\n",
      "Test Sentiment Classification Report:\n",
      "              precision    recall  f1-score   support\n",
      "\n",
      "           0       0.85      0.87      0.86     17317\n",
      "           1       0.87      0.84      0.85     17370\n",
      "\n",
      "    accuracy                           0.86     34687\n",
      "   macro avg       0.86      0.86      0.86     34687\n",
      "weighted avg       0.86      0.86      0.86     34687\n",
      "\n",
      "\n",
      "\n",
      "Test Aspect Classification Report:\n",
      "              precision    recall  f1-score   support\n",
      "\n",
      "           0       0.88      0.70      0.78      7706\n",
      "           1       0.74      0.90      0.81      5700\n",
      "           2       0.79      0.82      0.81      6028\n",
      "           3       0.85      0.82      0.83      9511\n",
      "           4       0.74      0.79      0.76      5742\n",
      "\n",
      "    accuracy                           0.80     34687\n",
      "   macro avg       0.80      0.81      0.80     34687\n",
      "weighted avg       0.81      0.80      0.80     34687\n",
      "\n"
     ]
    },
    {
     "name": "stderr",
     "output_type": "stream",
     "text": [
      "\n"
     ]
    }
   ],
   "source": [
    "# Load the best model\n",
    "model.load_state_dict(torch.load('best_model.pth'))\n",
    "\n",
    "# Evaluate the model\n",
    "train_sentiment_classification_report, train_aspect_classification_report = evaluate_model(model, train_loader, device)\n",
    "test_sentiment_classification_report, test_aspect_classification_report = evaluate_model(model, test_loader, device)\n",
    "\n",
    "print(\"Train Sentiment Classification Report:\")\n",
    "print(train_sentiment_classification_report)\n",
    "\n",
    "print(\"\\nTrain Aspect Classification Report:\")\n",
    "print(train_aspect_classification_report)\n",
    "print(\"\\n\\n\")\n",
    "\n",
    "print(\"Test Sentiment Classification Report:\")\n",
    "print(test_sentiment_classification_report)\n",
    "print()\n",
    "\n",
    "print(\"\\nTest Aspect Classification Report:\")\n",
    "print(test_aspect_classification_report)"
   ]
  },
  {
   "cell_type": "code",
   "execution_count": null,
   "id": "d748843f",
   "metadata": {
    "papermill": {
     "duration": 2.379498,
     "end_time": "2024-09-01T03:19:50.083272",
     "exception": false,
     "start_time": "2024-09-01T03:19:47.703774",
     "status": "completed"
    },
    "tags": []
   },
   "outputs": [],
   "source": []
  },
  {
   "cell_type": "markdown",
   "id": "da784760",
   "metadata": {
    "papermill": {
     "duration": 2.283198,
     "end_time": "2024-09-01T03:19:54.641256",
     "exception": false,
     "start_time": "2024-09-01T03:19:52.358058",
     "status": "completed"
    },
    "tags": []
   },
   "source": [
    "### 5.7 Saving Results\n",
    "- Finally, we save our results and the trained model:\n",
    "- Here we save our classification reports to a text file and save the trained model's state dictionary for future use or further analysis."
   ]
  },
  {
   "cell_type": "code",
   "execution_count": 21,
   "id": "b9dd351f",
   "metadata": {
    "execution": {
     "iopub.execute_input": "2024-09-01T03:19:59.264817Z",
     "iopub.status.busy": "2024-09-01T03:19:59.263880Z",
     "iopub.status.idle": "2024-09-01T03:20:00.538067Z",
     "shell.execute_reply": "2024-09-01T03:20:00.537268Z"
    },
    "papermill": {
     "duration": 3.63742,
     "end_time": "2024-09-01T03:20:00.540315",
     "exception": false,
     "start_time": "2024-09-01T03:19:56.902895",
     "status": "completed"
    },
    "tags": []
   },
   "outputs": [],
   "source": [
    "# Save results\n",
    "with open('results_summary.txt', 'w') as f:\n",
    "    f.write(\"Train Sentiment Classification Report:\\n\")\n",
    "    f.write(f\"{train_sentiment_classification_report}\\n\")\n",
    "    f.write(\"\\nTrain Aspect Classification Report:\\n\")\n",
    "    f.write(f\"{train_aspect_classification_report}\\n\\n\\n\")\n",
    "    \n",
    "    f.write(\"Test Sentiment Classification Report:\\n\")\n",
    "    f.write(f\"{test_sentiment_classification_report}\\n\")\n",
    "    f.write(\"\\nTest Aspect Classification Report:\\n\")\n",
    "    f.write(f\"{test_aspect_classification_report}\\n\\n\\n\")\n",
    "\n",
    "# Save the trained model\n",
    "torch.save(model.state_dict(), 'hotel_review_sentiment_aspect_model.pth')"
   ]
  },
  {
   "cell_type": "code",
   "execution_count": null,
   "id": "f193f5c9",
   "metadata": {
    "papermill": {
     "duration": 2.279137,
     "end_time": "2024-09-01T03:20:05.082162",
     "exception": false,
     "start_time": "2024-09-01T03:20:02.803025",
     "status": "completed"
    },
    "tags": []
   },
   "outputs": [],
   "source": []
  },
  {
   "cell_type": "markdown",
   "id": "f382652e",
   "metadata": {
    "papermill": {
     "duration": 2.297438,
     "end_time": "2024-09-01T03:20:09.655109",
     "exception": false,
     "start_time": "2024-09-01T03:20:07.357671",
     "status": "completed"
    },
    "tags": []
   },
   "source": [
    "## 6.Error Analysis\n",
    "- We perform an error analysis to gain insights into the model's misclassifications:\n",
    "- This error analysis function helps us understand the types of mistakes our model is making, which can guide future improvements."
   ]
  },
  {
   "cell_type": "code",
   "execution_count": 22,
   "id": "107a1e4e",
   "metadata": {
    "execution": {
     "iopub.execute_input": "2024-09-01T03:20:14.192600Z",
     "iopub.status.busy": "2024-09-01T03:20:14.191881Z",
     "iopub.status.idle": "2024-09-01T03:36:47.400630Z",
     "shell.execute_reply": "2024-09-01T03:36:47.399692Z"
    },
    "papermill": {
     "duration": 997.789443,
     "end_time": "2024-09-01T03:36:49.706232",
     "exception": false,
     "start_time": "2024-09-01T03:20:11.916789",
     "status": "completed"
    },
    "tags": []
   },
   "outputs": [
    {
     "name": "stdout",
     "output_type": "stream",
     "text": [
      "\n",
      "Error Analysis (showing 5 random misclassified examples):\n",
      "\n",
      "Example 1:\n",
      "Text:  There were flies in the dining room Bed was extraordinarily comfortable...\n",
      "True Sentiment: Good_review, Predicted Sentiment: Bad_review\n",
      "True Aspect: Breakfast Quality and Dining Service, Predicted Aspect: Room Cleanliness and Comfort\n",
      "\n",
      "Example 2:\n",
      "Text:  Air con not good reception needs more staff  Bed was very comfortable ...\n",
      "True Sentiment: Good_review, Predicted Sentiment: Bad_review\n",
      "True Aspect: Room Cleanliness and Comfort, Predicted Aspect: Room Cleanliness and Comfort\n",
      "\n",
      "Example 3:\n",
      "Text:  Service at breakfast was very poor It took 20 minutes to get a coffee and almost an hour before bre...\n",
      "True Sentiment: Bad_review, Predicted Sentiment: Bad_review\n",
      "True Aspect: Booking Experience and Room Issues, Predicted Aspect: Breakfast Quality and Dining Service\n",
      "\n",
      "Example 4:\n",
      "Text:  hard to communicate w th recept on sts They were not k nd We had to wa t a long t me for check n pr...\n",
      "True Sentiment: Bad_review, Predicted Sentiment: Bad_review\n",
      "True Aspect: Room Cleanliness and Comfort, Predicted Aspect: Booking Experience and Room Issues\n",
      "\n",
      "Example 5:\n",
      "Text:  My mum said the coffee wasn t great It was a nespresso machine and only did espresso but she usuall...\n",
      "True Sentiment: Good_review, Predicted Sentiment: Good_review\n",
      "True Aspect: Booking Experience and Room Issues, Predicted Aspect: Breakfast Quality and Dining Service\n",
      "\n",
      "Analysis complete. Results saved in 'results_summary.txt' and model saved as 'hotel_review_sentiment_aspect_model.pth'.\n"
     ]
    }
   ],
   "source": [
    "# Additional analysis: Error analysis\n",
    "def perform_error_analysis(model, test_loader, device, num_examples=5):\n",
    "    model.eval()\n",
    "    errors = []\n",
    "    \n",
    "    with torch.no_grad():\n",
    "        for batch in test_loader:\n",
    "            bert_input_ids = batch['bert_input_ids'].to(device)\n",
    "            bert_attention_mask = batch['bert_attention_mask'].to(device)\n",
    "            gpt2_input_ids = batch['gpt2_input_ids'].to(device)\n",
    "            gpt2_attention_mask = batch['gpt2_attention_mask'].to(device)\n",
    "            sentiment_labels = batch['sentiment_label'].to(device)\n",
    "            aspect_labels = batch['aspect_label'].to(device)\n",
    "            \n",
    "            sentiment_outputs, aspect_outputs = model(bert_input_ids, bert_attention_mask, gpt2_input_ids, gpt2_attention_mask)\n",
    "            \n",
    "            _, sentiment_preds = torch.max(sentiment_outputs, dim=1)\n",
    "            _, aspect_preds = torch.max(aspect_outputs, dim=1)\n",
    "            \n",
    "            for i in range(len(sentiment_preds)):\n",
    "                if sentiment_preds[i] != sentiment_labels[i] or aspect_preds[i] != aspect_labels[i]:\n",
    "                    errors.append({\n",
    "                        'text': batch['review_text'][i],\n",
    "                        'true_sentiment': le_sentiment.inverse_transform([sentiment_labels[i].item()])[0],\n",
    "                        'pred_sentiment': le_sentiment.inverse_transform([sentiment_preds[i].item()])[0],\n",
    "                        'true_aspect': le_aspect.inverse_transform([aspect_labels[i].item()])[0],\n",
    "                        'pred_aspect': le_aspect.inverse_transform([aspect_preds[i].item()])[0]\n",
    "                    })\n",
    "    \n",
    "    print(f\"\\nError Analysis (showing {num_examples} random misclassified examples):\")\n",
    "    for i, error in enumerate(random.sample(errors, min(num_examples, len(errors)))):\n",
    "        print(f\"\\nExample {i+1}:\")\n",
    "        print(f\"Text: {error['text'][:100]}...\")\n",
    "        print(f\"True Sentiment: {error['true_sentiment']}, Predicted Sentiment: {error['pred_sentiment']}\")\n",
    "        print(f\"True Aspect: {error['true_aspect']}, Predicted Aspect: {error['pred_aspect']}\")\n",
    "\n",
    "# Perform error analysis\n",
    "perform_error_analysis(model, test_loader, device)\n",
    "\n",
    "# Print final message\n",
    "print(\"\\nAnalysis complete. Results saved in 'results_summary.txt' and model saved as 'hotel_review_sentiment_aspect_model.pth'.\")"
   ]
  },
  {
   "cell_type": "code",
   "execution_count": null,
   "id": "603f77e6",
   "metadata": {
    "papermill": {
     "duration": 2.283316,
     "end_time": "2024-09-01T03:36:54.284361",
     "exception": false,
     "start_time": "2024-09-01T03:36:52.001045",
     "status": "completed"
    },
    "tags": []
   },
   "outputs": [],
   "source": []
  },
  {
   "cell_type": "markdown",
   "id": "eebf6343",
   "metadata": {
    "papermill": {
     "duration": 2.282298,
     "end_time": "2024-09-01T03:36:58.839825",
     "exception": false,
     "start_time": "2024-09-01T03:36:56.557527",
     "status": "completed"
    },
    "tags": []
   },
   "source": [
    "## 7. Conclusion and Future Work\n",
    "\n",
    "- In this project, we have implemented a multi-modal fusion model combining BERT and GPT-2 for hotel review sentiment analysis and aspect classification. Our model demonstrates strong performance in both tasks, as evidenced by the classification reports.\n",
    "\n",
    "- Key achievements:\n",
    "    1. Successfully integrated BERT and GPT-2 models for a multi-modal approach.\n",
    "    2. Achieved high accuracy in both sentiment analysis and aspect classification.\n",
    "    3. Implemented a custom dataset class to handle the multi-modal input effectively.\n",
    "    4. Conducted comprehensive error analysis to understand model limitations.\n",
    "\n",
    "\n",
    "- Future work directions:\n",
    "    1. Experiment with different fusion techniques (e.g., attention-based fusion) to potentially improve performance.\n",
    "    2. Incorporate additional modalities, such as user metadata or hotel information, to enhance the model's context understanding.\n",
    "    3. Implement explainable AI techniques to provide insights into the model's decision-making process.\n",
    "    4. Explore transfer learning approaches to adapt the model to related tasks or domains.\n",
    "    5. Conduct a more extensive hyperparameter tuning to optimize model performance."
   ]
  },
  {
   "cell_type": "code",
   "execution_count": null,
   "id": "a96956b6",
   "metadata": {
    "papermill": {
     "duration": 2.264202,
     "end_time": "2024-09-01T03:37:03.381762",
     "exception": false,
     "start_time": "2024-09-01T03:37:01.117560",
     "status": "completed"
    },
    "tags": []
   },
   "outputs": [],
   "source": []
  },
  {
   "cell_type": "markdown",
   "id": "3bebe6f0",
   "metadata": {
    "papermill": {
     "duration": 2.276572,
     "end_time": "2024-09-01T03:37:07.935729",
     "exception": false,
     "start_time": "2024-09-01T03:37:05.659157",
     "status": "completed"
    },
    "tags": []
   },
   "source": [
    "### 8. Final Remarks\n",
    "- This project demonstrates the effectiveness of combining multiple pre-trained language models for complex NLP tasks. The multi-modal fusion approach leverages the strengths of both BERT and GPT-2, resulting in a powerful model for hotel review analysis.\n",
    "- The comprehensive documentation, including data preparation, model architecture, training process, and error analysis, provides a solid foundation for further research and development in this area. The saved model and results summary enable easy replication and extension of this work.\n",
    "- By addressing the suggested future work directions, researchers can build upon this foundation to create even more sophisticated and accurate models for sentiment analysis and aspect classification in the hospitality domain and beyond."
   ]
  },
  {
   "cell_type": "code",
   "execution_count": null,
   "id": "73ce3fe2",
   "metadata": {
    "papermill": {
     "duration": 2.296474,
     "end_time": "2024-09-01T03:37:12.566653",
     "exception": false,
     "start_time": "2024-09-01T03:37:10.270179",
     "status": "completed"
    },
    "tags": []
   },
   "outputs": [],
   "source": []
  }
 ],
 "metadata": {
  "kaggle": {
   "accelerator": "nvidiaTeslaT4",
   "dataSources": [
    {
     "datasetId": 5594632,
     "sourceId": 9248073,
     "sourceType": "datasetVersion"
    }
   ],
   "dockerImageVersionId": 30761,
   "isGpuEnabled": true,
   "isInternetEnabled": true,
   "language": "python",
   "sourceType": "notebook"
  },
  "kernelspec": {
   "display_name": "Python 3",
   "language": "python",
   "name": "python3"
  },
  "language_info": {
   "codemirror_mode": {
    "name": "ipython",
    "version": 3
   },
   "file_extension": ".py",
   "mimetype": "text/x-python",
   "name": "python",
   "nbconvert_exporter": "python",
   "pygments_lexer": "ipython3",
   "version": "3.10.14"
  },
  "papermill": {
   "default_parameters": {},
   "duration": 32241.386588,
   "end_time": "2024-09-01T03:37:17.619172",
   "environment_variables": {},
   "exception": null,
   "input_path": "__notebook__.ipynb",
   "output_path": "__notebook__.ipynb",
   "parameters": {},
   "start_time": "2024-08-31T18:39:56.232584",
   "version": "2.6.0"
  },
  "widgets": {
   "application/vnd.jupyter.widget-state+json": {
    "state": {
     "06135340ebd94c249a347c60ace0edd5": {
      "model_module": "@jupyter-widgets/controls",
      "model_module_version": "1.5.0",
      "model_name": "FloatProgressModel",
      "state": {
       "_dom_classes": [],
       "_model_module": "@jupyter-widgets/controls",
       "_model_module_version": "1.5.0",
       "_model_name": "FloatProgressModel",
       "_view_count": null,
       "_view_module": "@jupyter-widgets/controls",
       "_view_module_version": "1.5.0",
       "_view_name": "ProgressView",
       "bar_style": "success",
       "description": "",
       "description_tooltip": null,
       "layout": "IPY_MODEL_f7c9ace5109b4e949de17b45c060a6f8",
       "max": 440449768.0,
       "min": 0.0,
       "orientation": "horizontal",
       "style": "IPY_MODEL_87913abe0fbf4a22915c16a9d6998fd9",
       "value": 440449768.0
      }
     },
     "064ac3f0b7e9446f89bb8065201399b7": {
      "model_module": "@jupyter-widgets/base",
      "model_module_version": "1.2.0",
      "model_name": "LayoutModel",
      "state": {
       "_model_module": "@jupyter-widgets/base",
       "_model_module_version": "1.2.0",
       "_model_name": "LayoutModel",
       "_view_count": null,
       "_view_module": "@jupyter-widgets/base",
       "_view_module_version": "1.2.0",
       "_view_name": "LayoutView",
       "align_content": null,
       "align_items": null,
       "align_self": null,
       "border": null,
       "bottom": null,
       "display": null,
       "flex": null,
       "flex_flow": null,
       "grid_area": null,
       "grid_auto_columns": null,
       "grid_auto_flow": null,
       "grid_auto_rows": null,
       "grid_column": null,
       "grid_gap": null,
       "grid_row": null,
       "grid_template_areas": null,
       "grid_template_columns": null,
       "grid_template_rows": null,
       "height": null,
       "justify_content": null,
       "justify_items": null,
       "left": null,
       "margin": null,
       "max_height": null,
       "max_width": null,
       "min_height": null,
       "min_width": null,
       "object_fit": null,
       "object_position": null,
       "order": null,
       "overflow": null,
       "overflow_x": null,
       "overflow_y": null,
       "padding": null,
       "right": null,
       "top": null,
       "visibility": null,
       "width": null
      }
     },
     "098f4ec904e7450e95022b24d2c25c44": {
      "model_module": "@jupyter-widgets/base",
      "model_module_version": "1.2.0",
      "model_name": "LayoutModel",
      "state": {
       "_model_module": "@jupyter-widgets/base",
       "_model_module_version": "1.2.0",
       "_model_name": "LayoutModel",
       "_view_count": null,
       "_view_module": "@jupyter-widgets/base",
       "_view_module_version": "1.2.0",
       "_view_name": "LayoutView",
       "align_content": null,
       "align_items": null,
       "align_self": null,
       "border": null,
       "bottom": null,
       "display": null,
       "flex": null,
       "flex_flow": null,
       "grid_area": null,
       "grid_auto_columns": null,
       "grid_auto_flow": null,
       "grid_auto_rows": null,
       "grid_column": null,
       "grid_gap": null,
       "grid_row": null,
       "grid_template_areas": null,
       "grid_template_columns": null,
       "grid_template_rows": null,
       "height": null,
       "justify_content": null,
       "justify_items": null,
       "left": null,
       "margin": null,
       "max_height": null,
       "max_width": null,
       "min_height": null,
       "min_width": null,
       "object_fit": null,
       "object_position": null,
       "order": null,
       "overflow": null,
       "overflow_x": null,
       "overflow_y": null,
       "padding": null,
       "right": null,
       "top": null,
       "visibility": null,
       "width": null
      }
     },
     "0a58f547202f4e98b635cb0ea7d5c42e": {
      "model_module": "@jupyter-widgets/base",
      "model_module_version": "1.2.0",
      "model_name": "LayoutModel",
      "state": {
       "_model_module": "@jupyter-widgets/base",
       "_model_module_version": "1.2.0",
       "_model_name": "LayoutModel",
       "_view_count": null,
       "_view_module": "@jupyter-widgets/base",
       "_view_module_version": "1.2.0",
       "_view_name": "LayoutView",
       "align_content": null,
       "align_items": null,
       "align_self": null,
       "border": null,
       "bottom": null,
       "display": null,
       "flex": null,
       "flex_flow": null,
       "grid_area": null,
       "grid_auto_columns": null,
       "grid_auto_flow": null,
       "grid_auto_rows": null,
       "grid_column": null,
       "grid_gap": null,
       "grid_row": null,
       "grid_template_areas": null,
       "grid_template_columns": null,
       "grid_template_rows": null,
       "height": null,
       "justify_content": null,
       "justify_items": null,
       "left": null,
       "margin": null,
       "max_height": null,
       "max_width": null,
       "min_height": null,
       "min_width": null,
       "object_fit": null,
       "object_position": null,
       "order": null,
       "overflow": null,
       "overflow_x": null,
       "overflow_y": null,
       "padding": null,
       "right": null,
       "top": null,
       "visibility": null,
       "width": null
      }
     },
     "0b3b6dce961c4b59a299b0111b06a406": {
      "model_module": "@jupyter-widgets/controls",
      "model_module_version": "1.5.0",
      "model_name": "DescriptionStyleModel",
      "state": {
       "_model_module": "@jupyter-widgets/controls",
       "_model_module_version": "1.5.0",
       "_model_name": "DescriptionStyleModel",
       "_view_count": null,
       "_view_module": "@jupyter-widgets/base",
       "_view_module_version": "1.2.0",
       "_view_name": "StyleView",
       "description_width": ""
      }
     },
     "0ba1e44b70574c26ac385ca940481601": {
      "model_module": "@jupyter-widgets/controls",
      "model_module_version": "1.5.0",
      "model_name": "ProgressStyleModel",
      "state": {
       "_model_module": "@jupyter-widgets/controls",
       "_model_module_version": "1.5.0",
       "_model_name": "ProgressStyleModel",
       "_view_count": null,
       "_view_module": "@jupyter-widgets/base",
       "_view_module_version": "1.2.0",
       "_view_name": "StyleView",
       "bar_color": null,
       "description_width": ""
      }
     },
     "10ebd5bbaecf4088800238d95e08bdcc": {
      "model_module": "@jupyter-widgets/controls",
      "model_module_version": "1.5.0",
      "model_name": "FloatProgressModel",
      "state": {
       "_dom_classes": [],
       "_model_module": "@jupyter-widgets/controls",
       "_model_module_version": "1.5.0",
       "_model_name": "FloatProgressModel",
       "_view_count": null,
       "_view_module": "@jupyter-widgets/controls",
       "_view_module_version": "1.5.0",
       "_view_name": "ProgressView",
       "bar_style": "success",
       "description": "",
       "description_tooltip": null,
       "layout": "IPY_MODEL_78d962109ac843178d4bea5c5fb2e568",
       "max": 548105171.0,
       "min": 0.0,
       "orientation": "horizontal",
       "style": "IPY_MODEL_1f910d23f4d14340af328ba07005c1b7",
       "value": 548105171.0
      }
     },
     "1113d4bc9f5642d78664c26b289e11c0": {
      "model_module": "@jupyter-widgets/controls",
      "model_module_version": "1.5.0",
      "model_name": "HBoxModel",
      "state": {
       "_dom_classes": [],
       "_model_module": "@jupyter-widgets/controls",
       "_model_module_version": "1.5.0",
       "_model_name": "HBoxModel",
       "_view_count": null,
       "_view_module": "@jupyter-widgets/controls",
       "_view_module_version": "1.5.0",
       "_view_name": "HBoxView",
       "box_style": "",
       "children": [
        "IPY_MODEL_9f4a7671e68c4f008a24e8d978827e52",
        "IPY_MODEL_626b49f87840485085a26102bb46ece2",
        "IPY_MODEL_7bf5657b404b4e81809fccd9e45c60a5"
       ],
       "layout": "IPY_MODEL_5465398387c34dac8b5ad442536227d1"
      }
     },
     "12391f0b9c6745f1a9670e11662bb6cd": {
      "model_module": "@jupyter-widgets/base",
      "model_module_version": "1.2.0",
      "model_name": "LayoutModel",
      "state": {
       "_model_module": "@jupyter-widgets/base",
       "_model_module_version": "1.2.0",
       "_model_name": "LayoutModel",
       "_view_count": null,
       "_view_module": "@jupyter-widgets/base",
       "_view_module_version": "1.2.0",
       "_view_name": "LayoutView",
       "align_content": null,
       "align_items": null,
       "align_self": null,
       "border": null,
       "bottom": null,
       "display": null,
       "flex": null,
       "flex_flow": null,
       "grid_area": null,
       "grid_auto_columns": null,
       "grid_auto_flow": null,
       "grid_auto_rows": null,
       "grid_column": null,
       "grid_gap": null,
       "grid_row": null,
       "grid_template_areas": null,
       "grid_template_columns": null,
       "grid_template_rows": null,
       "height": null,
       "justify_content": null,
       "justify_items": null,
       "left": null,
       "margin": null,
       "max_height": null,
       "max_width": null,
       "min_height": null,
       "min_width": null,
       "object_fit": null,
       "object_position": null,
       "order": null,
       "overflow": null,
       "overflow_x": null,
       "overflow_y": null,
       "padding": null,
       "right": null,
       "top": null,
       "visibility": null,
       "width": null
      }
     },
     "134ae46108834af8a15b3d295f16c72e": {
      "model_module": "@jupyter-widgets/controls",
      "model_module_version": "1.5.0",
      "model_name": "HTMLModel",
      "state": {
       "_dom_classes": [],
       "_model_module": "@jupyter-widgets/controls",
       "_model_module_version": "1.5.0",
       "_model_name": "HTMLModel",
       "_view_count": null,
       "_view_module": "@jupyter-widgets/controls",
       "_view_module_version": "1.5.0",
       "_view_name": "HTMLView",
       "description": "",
       "description_tooltip": null,
       "layout": "IPY_MODEL_dc8731d15d60418ab928e5563ea7f4df",
       "placeholder": "​",
       "style": "IPY_MODEL_20abeb51c8924abab28ae48873f07d75",
       "value": "merges.txt: 100%"
      }
     },
     "162b6dd8a4fc4f99a0091dc92efe2044": {
      "model_module": "@jupyter-widgets/controls",
      "model_module_version": "1.5.0",
      "model_name": "HBoxModel",
      "state": {
       "_dom_classes": [],
       "_model_module": "@jupyter-widgets/controls",
       "_model_module_version": "1.5.0",
       "_model_name": "HBoxModel",
       "_view_count": null,
       "_view_module": "@jupyter-widgets/controls",
       "_view_module_version": "1.5.0",
       "_view_name": "HBoxView",
       "box_style": "",
       "children": [
        "IPY_MODEL_134ae46108834af8a15b3d295f16c72e",
        "IPY_MODEL_83dfce3d57154d3685d9b3f6ad5bcfbc",
        "IPY_MODEL_1f54c789f3f442739cfa00a7287bbc5e"
       ],
       "layout": "IPY_MODEL_96b2c05a139b42558e1954b3abd07771"
      }
     },
     "167ae58c7ca44314a188219f31fa25bd": {
      "model_module": "@jupyter-widgets/controls",
      "model_module_version": "1.5.0",
      "model_name": "HTMLModel",
      "state": {
       "_dom_classes": [],
       "_model_module": "@jupyter-widgets/controls",
       "_model_module_version": "1.5.0",
       "_model_name": "HTMLModel",
       "_view_count": null,
       "_view_module": "@jupyter-widgets/controls",
       "_view_module_version": "1.5.0",
       "_view_name": "HTMLView",
       "description": "",
       "description_tooltip": null,
       "layout": "IPY_MODEL_064ac3f0b7e9446f89bb8065201399b7",
       "placeholder": "​",
       "style": "IPY_MODEL_22d16d28932042b497ab6c4672e6e2ae",
       "value": " 1.36M/1.36M [00:00&lt;00:00, 5.60MB/s]"
      }
     },
     "1684fbdfbd4a4cd38f9e201a8138f461": {
      "model_module": "@jupyter-widgets/controls",
      "model_module_version": "1.5.0",
      "model_name": "ProgressStyleModel",
      "state": {
       "_model_module": "@jupyter-widgets/controls",
       "_model_module_version": "1.5.0",
       "_model_name": "ProgressStyleModel",
       "_view_count": null,
       "_view_module": "@jupyter-widgets/base",
       "_view_module_version": "1.2.0",
       "_view_name": "StyleView",
       "bar_color": null,
       "description_width": ""
      }
     },
     "1d18a1ab14dd4f36912261a2f88a09ba": {
      "model_module": "@jupyter-widgets/controls",
      "model_module_version": "1.5.0",
      "model_name": "DescriptionStyleModel",
      "state": {
       "_model_module": "@jupyter-widgets/controls",
       "_model_module_version": "1.5.0",
       "_model_name": "DescriptionStyleModel",
       "_view_count": null,
       "_view_module": "@jupyter-widgets/base",
       "_view_module_version": "1.2.0",
       "_view_name": "StyleView",
       "description_width": ""
      }
     },
     "1f54c789f3f442739cfa00a7287bbc5e": {
      "model_module": "@jupyter-widgets/controls",
      "model_module_version": "1.5.0",
      "model_name": "HTMLModel",
      "state": {
       "_dom_classes": [],
       "_model_module": "@jupyter-widgets/controls",
       "_model_module_version": "1.5.0",
       "_model_name": "HTMLModel",
       "_view_count": null,
       "_view_module": "@jupyter-widgets/controls",
       "_view_module_version": "1.5.0",
       "_view_name": "HTMLView",
       "description": "",
       "description_tooltip": null,
       "layout": "IPY_MODEL_4bc1a7525da64858ab149326ad83f805",
       "placeholder": "​",
       "style": "IPY_MODEL_300c9a9ce441442f9c785beb69b6d821",
       "value": " 456k/456k [00:00&lt;00:00, 1.89MB/s]"
      }
     },
     "1f910d23f4d14340af328ba07005c1b7": {
      "model_module": "@jupyter-widgets/controls",
      "model_module_version": "1.5.0",
      "model_name": "ProgressStyleModel",
      "state": {
       "_model_module": "@jupyter-widgets/controls",
       "_model_module_version": "1.5.0",
       "_model_name": "ProgressStyleModel",
       "_view_count": null,
       "_view_module": "@jupyter-widgets/base",
       "_view_module_version": "1.2.0",
       "_view_name": "StyleView",
       "bar_color": null,
       "description_width": ""
      }
     },
     "200b027b49954d2e88e5d356691e158f": {
      "model_module": "@jupyter-widgets/controls",
      "model_module_version": "1.5.0",
      "model_name": "HTMLModel",
      "state": {
       "_dom_classes": [],
       "_model_module": "@jupyter-widgets/controls",
       "_model_module_version": "1.5.0",
       "_model_name": "HTMLModel",
       "_view_count": null,
       "_view_module": "@jupyter-widgets/controls",
       "_view_module_version": "1.5.0",
       "_view_name": "HTMLView",
       "description": "",
       "description_tooltip": null,
       "layout": "IPY_MODEL_4d2fca49993b40c2b51f432ace074cc7",
       "placeholder": "​",
       "style": "IPY_MODEL_a9aa13e28b4c4cbbac460b097e1370ae",
       "value": " 548M/548M [00:02&lt;00:00, 204MB/s]"
      }
     },
     "20abeb51c8924abab28ae48873f07d75": {
      "model_module": "@jupyter-widgets/controls",
      "model_module_version": "1.5.0",
      "model_name": "DescriptionStyleModel",
      "state": {
       "_model_module": "@jupyter-widgets/controls",
       "_model_module_version": "1.5.0",
       "_model_name": "DescriptionStyleModel",
       "_view_count": null,
       "_view_module": "@jupyter-widgets/base",
       "_view_module_version": "1.2.0",
       "_view_name": "StyleView",
       "description_width": ""
      }
     },
     "22150f9eb32a43e483c4a92f7cc47958": {
      "model_module": "@jupyter-widgets/controls",
      "model_module_version": "1.5.0",
      "model_name": "HBoxModel",
      "state": {
       "_dom_classes": [],
       "_model_module": "@jupyter-widgets/controls",
       "_model_module_version": "1.5.0",
       "_model_name": "HBoxModel",
       "_view_count": null,
       "_view_module": "@jupyter-widgets/controls",
       "_view_module_version": "1.5.0",
       "_view_name": "HBoxView",
       "box_style": "",
       "children": [
        "IPY_MODEL_2ae3e21ae21f459a82a7885c9fe61d6e",
        "IPY_MODEL_9d6c39ed77e74b12aa31d4bf14125086",
        "IPY_MODEL_352c416add154835b3bb76638ef8a398"
       ],
       "layout": "IPY_MODEL_43efb6a628684c79aad90b3549130b53"
      }
     },
     "22d16d28932042b497ab6c4672e6e2ae": {
      "model_module": "@jupyter-widgets/controls",
      "model_module_version": "1.5.0",
      "model_name": "DescriptionStyleModel",
      "state": {
       "_model_module": "@jupyter-widgets/controls",
       "_model_module_version": "1.5.0",
       "_model_name": "DescriptionStyleModel",
       "_view_count": null,
       "_view_module": "@jupyter-widgets/base",
       "_view_module_version": "1.2.0",
       "_view_name": "StyleView",
       "description_width": ""
      }
     },
     "22df3bee157942b1a5c2ca0d20d48cb1": {
      "model_module": "@jupyter-widgets/controls",
      "model_module_version": "1.5.0",
      "model_name": "DescriptionStyleModel",
      "state": {
       "_model_module": "@jupyter-widgets/controls",
       "_model_module_version": "1.5.0",
       "_model_name": "DescriptionStyleModel",
       "_view_count": null,
       "_view_module": "@jupyter-widgets/base",
       "_view_module_version": "1.2.0",
       "_view_name": "StyleView",
       "description_width": ""
      }
     },
     "230d207e2ecd492f9ba2913e46705268": {
      "model_module": "@jupyter-widgets/controls",
      "model_module_version": "1.5.0",
      "model_name": "HTMLModel",
      "state": {
       "_dom_classes": [],
       "_model_module": "@jupyter-widgets/controls",
       "_model_module_version": "1.5.0",
       "_model_name": "HTMLModel",
       "_view_count": null,
       "_view_module": "@jupyter-widgets/controls",
       "_view_module_version": "1.5.0",
       "_view_name": "HTMLView",
       "description": "",
       "description_tooltip": null,
       "layout": "IPY_MODEL_93d8178f9e7447f5b9ca493549d08341",
       "placeholder": "​",
       "style": "IPY_MODEL_1d18a1ab14dd4f36912261a2f88a09ba",
       "value": "tokenizer_config.json: 100%"
      }
     },
     "232cee8b8fbb4f91b265431d975cf5c8": {
      "model_module": "@jupyter-widgets/controls",
      "model_module_version": "1.5.0",
      "model_name": "DescriptionStyleModel",
      "state": {
       "_model_module": "@jupyter-widgets/controls",
       "_model_module_version": "1.5.0",
       "_model_name": "DescriptionStyleModel",
       "_view_count": null,
       "_view_module": "@jupyter-widgets/base",
       "_view_module_version": "1.2.0",
       "_view_name": "StyleView",
       "description_width": ""
      }
     },
     "23f436c776944d40a5fcf9d6c96c7538": {
      "model_module": "@jupyter-widgets/base",
      "model_module_version": "1.2.0",
      "model_name": "LayoutModel",
      "state": {
       "_model_module": "@jupyter-widgets/base",
       "_model_module_version": "1.2.0",
       "_model_name": "LayoutModel",
       "_view_count": null,
       "_view_module": "@jupyter-widgets/base",
       "_view_module_version": "1.2.0",
       "_view_name": "LayoutView",
       "align_content": null,
       "align_items": null,
       "align_self": null,
       "border": null,
       "bottom": null,
       "display": null,
       "flex": null,
       "flex_flow": null,
       "grid_area": null,
       "grid_auto_columns": null,
       "grid_auto_flow": null,
       "grid_auto_rows": null,
       "grid_column": null,
       "grid_gap": null,
       "grid_row": null,
       "grid_template_areas": null,
       "grid_template_columns": null,
       "grid_template_rows": null,
       "height": null,
       "justify_content": null,
       "justify_items": null,
       "left": null,
       "margin": null,
       "max_height": null,
       "max_width": null,
       "min_height": null,
       "min_width": null,
       "object_fit": null,
       "object_position": null,
       "order": null,
       "overflow": null,
       "overflow_x": null,
       "overflow_y": null,
       "padding": null,
       "right": null,
       "top": null,
       "visibility": null,
       "width": null
      }
     },
     "26ac7a52d8db4cafa10477cb0b2d28a5": {
      "model_module": "@jupyter-widgets/controls",
      "model_module_version": "1.5.0",
      "model_name": "DescriptionStyleModel",
      "state": {
       "_model_module": "@jupyter-widgets/controls",
       "_model_module_version": "1.5.0",
       "_model_name": "DescriptionStyleModel",
       "_view_count": null,
       "_view_module": "@jupyter-widgets/base",
       "_view_module_version": "1.2.0",
       "_view_name": "StyleView",
       "description_width": ""
      }
     },
     "29d537011cb146d2bcbb458bb9c799ec": {
      "model_module": "@jupyter-widgets/base",
      "model_module_version": "1.2.0",
      "model_name": "LayoutModel",
      "state": {
       "_model_module": "@jupyter-widgets/base",
       "_model_module_version": "1.2.0",
       "_model_name": "LayoutModel",
       "_view_count": null,
       "_view_module": "@jupyter-widgets/base",
       "_view_module_version": "1.2.0",
       "_view_name": "LayoutView",
       "align_content": null,
       "align_items": null,
       "align_self": null,
       "border": null,
       "bottom": null,
       "display": null,
       "flex": null,
       "flex_flow": null,
       "grid_area": null,
       "grid_auto_columns": null,
       "grid_auto_flow": null,
       "grid_auto_rows": null,
       "grid_column": null,
       "grid_gap": null,
       "grid_row": null,
       "grid_template_areas": null,
       "grid_template_columns": null,
       "grid_template_rows": null,
       "height": null,
       "justify_content": null,
       "justify_items": null,
       "left": null,
       "margin": null,
       "max_height": null,
       "max_width": null,
       "min_height": null,
       "min_width": null,
       "object_fit": null,
       "object_position": null,
       "order": null,
       "overflow": null,
       "overflow_x": null,
       "overflow_y": null,
       "padding": null,
       "right": null,
       "top": null,
       "visibility": null,
       "width": null
      }
     },
     "2ae3e21ae21f459a82a7885c9fe61d6e": {
      "model_module": "@jupyter-widgets/controls",
      "model_module_version": "1.5.0",
      "model_name": "HTMLModel",
      "state": {
       "_dom_classes": [],
       "_model_module": "@jupyter-widgets/controls",
       "_model_module_version": "1.5.0",
       "_model_name": "HTMLModel",
       "_view_count": null,
       "_view_module": "@jupyter-widgets/controls",
       "_view_module_version": "1.5.0",
       "_view_name": "HTMLView",
       "description": "",
       "description_tooltip": null,
       "layout": "IPY_MODEL_5aa098de902d457cb630fe9329acd348",
       "placeholder": "​",
       "style": "IPY_MODEL_55d878b4319a404d9957a0f2ec797e77",
       "value": "vocab.json: 100%"
      }
     },
     "2cb87b72dac141f7bc573221b2285713": {
      "model_module": "@jupyter-widgets/base",
      "model_module_version": "1.2.0",
      "model_name": "LayoutModel",
      "state": {
       "_model_module": "@jupyter-widgets/base",
       "_model_module_version": "1.2.0",
       "_model_name": "LayoutModel",
       "_view_count": null,
       "_view_module": "@jupyter-widgets/base",
       "_view_module_version": "1.2.0",
       "_view_name": "LayoutView",
       "align_content": null,
       "align_items": null,
       "align_self": null,
       "border": null,
       "bottom": null,
       "display": null,
       "flex": null,
       "flex_flow": null,
       "grid_area": null,
       "grid_auto_columns": null,
       "grid_auto_flow": null,
       "grid_auto_rows": null,
       "grid_column": null,
       "grid_gap": null,
       "grid_row": null,
       "grid_template_areas": null,
       "grid_template_columns": null,
       "grid_template_rows": null,
       "height": null,
       "justify_content": null,
       "justify_items": null,
       "left": null,
       "margin": null,
       "max_height": null,
       "max_width": null,
       "min_height": null,
       "min_width": null,
       "object_fit": null,
       "object_position": null,
       "order": null,
       "overflow": null,
       "overflow_x": null,
       "overflow_y": null,
       "padding": null,
       "right": null,
       "top": null,
       "visibility": null,
       "width": null
      }
     },
     "2f2e49138a874749867a47f03f33f5c4": {
      "model_module": "@jupyter-widgets/controls",
      "model_module_version": "1.5.0",
      "model_name": "DescriptionStyleModel",
      "state": {
       "_model_module": "@jupyter-widgets/controls",
       "_model_module_version": "1.5.0",
       "_model_name": "DescriptionStyleModel",
       "_view_count": null,
       "_view_module": "@jupyter-widgets/base",
       "_view_module_version": "1.2.0",
       "_view_name": "StyleView",
       "description_width": ""
      }
     },
     "300c9a9ce441442f9c785beb69b6d821": {
      "model_module": "@jupyter-widgets/controls",
      "model_module_version": "1.5.0",
      "model_name": "DescriptionStyleModel",
      "state": {
       "_model_module": "@jupyter-widgets/controls",
       "_model_module_version": "1.5.0",
       "_model_name": "DescriptionStyleModel",
       "_view_count": null,
       "_view_module": "@jupyter-widgets/base",
       "_view_module_version": "1.2.0",
       "_view_name": "StyleView",
       "description_width": ""
      }
     },
     "352c416add154835b3bb76638ef8a398": {
      "model_module": "@jupyter-widgets/controls",
      "model_module_version": "1.5.0",
      "model_name": "HTMLModel",
      "state": {
       "_dom_classes": [],
       "_model_module": "@jupyter-widgets/controls",
       "_model_module_version": "1.5.0",
       "_model_name": "HTMLModel",
       "_view_count": null,
       "_view_module": "@jupyter-widgets/controls",
       "_view_module_version": "1.5.0",
       "_view_name": "HTMLView",
       "description": "",
       "description_tooltip": null,
       "layout": "IPY_MODEL_a3632ffb74a64c33b3df54f61b066540",
       "placeholder": "​",
       "style": "IPY_MODEL_693f30b36ac746f188ea713f325d434f",
       "value": " 1.04M/1.04M [00:00&lt;00:00, 6.75MB/s]"
      }
     },
     "3590a4fd655842cbae9c33aeb34bffd4": {
      "model_module": "@jupyter-widgets/controls",
      "model_module_version": "1.5.0",
      "model_name": "HTMLModel",
      "state": {
       "_dom_classes": [],
       "_model_module": "@jupyter-widgets/controls",
       "_model_module_version": "1.5.0",
       "_model_name": "HTMLModel",
       "_view_count": null,
       "_view_module": "@jupyter-widgets/controls",
       "_view_module_version": "1.5.0",
       "_view_name": "HTMLView",
       "description": "",
       "description_tooltip": null,
       "layout": "IPY_MODEL_e5fe61120aae4f019956ee1b27ec54ed",
       "placeholder": "​",
       "style": "IPY_MODEL_cad7d0ee5c184469982f10993978c05c",
       "value": " 26.0/26.0 [00:00&lt;00:00, 2.01kB/s]"
      }
     },
     "37038c4f582f4e0f965b6ab183cb5ec4": {
      "model_module": "@jupyter-widgets/controls",
      "model_module_version": "1.5.0",
      "model_name": "ProgressStyleModel",
      "state": {
       "_model_module": "@jupyter-widgets/controls",
       "_model_module_version": "1.5.0",
       "_model_name": "ProgressStyleModel",
       "_view_count": null,
       "_view_module": "@jupyter-widgets/base",
       "_view_module_version": "1.2.0",
       "_view_name": "StyleView",
       "bar_color": null,
       "description_width": ""
      }
     },
     "3d483e62ca904edb912fad7ab269c209": {
      "model_module": "@jupyter-widgets/controls",
      "model_module_version": "1.5.0",
      "model_name": "HTMLModel",
      "state": {
       "_dom_classes": [],
       "_model_module": "@jupyter-widgets/controls",
       "_model_module_version": "1.5.0",
       "_model_name": "HTMLModel",
       "_view_count": null,
       "_view_module": "@jupyter-widgets/controls",
       "_view_module_version": "1.5.0",
       "_view_name": "HTMLView",
       "description": "",
       "description_tooltip": null,
       "layout": "IPY_MODEL_df00927e1d6f48d3b6f0dd63dd50548e",
       "placeholder": "​",
       "style": "IPY_MODEL_b0b015664bac4a649104e5b2025eecb7",
       "value": "tokenizer.json: 100%"
      }
     },
     "3ede6c8473fd497cb09028ff1c083624": {
      "model_module": "@jupyter-widgets/base",
      "model_module_version": "1.2.0",
      "model_name": "LayoutModel",
      "state": {
       "_model_module": "@jupyter-widgets/base",
       "_model_module_version": "1.2.0",
       "_model_name": "LayoutModel",
       "_view_count": null,
       "_view_module": "@jupyter-widgets/base",
       "_view_module_version": "1.2.0",
       "_view_name": "LayoutView",
       "align_content": null,
       "align_items": null,
       "align_self": null,
       "border": null,
       "bottom": null,
       "display": null,
       "flex": null,
       "flex_flow": null,
       "grid_area": null,
       "grid_auto_columns": null,
       "grid_auto_flow": null,
       "grid_auto_rows": null,
       "grid_column": null,
       "grid_gap": null,
       "grid_row": null,
       "grid_template_areas": null,
       "grid_template_columns": null,
       "grid_template_rows": null,
       "height": null,
       "justify_content": null,
       "justify_items": null,
       "left": null,
       "margin": null,
       "max_height": null,
       "max_width": null,
       "min_height": null,
       "min_width": null,
       "object_fit": null,
       "object_position": null,
       "order": null,
       "overflow": null,
       "overflow_x": null,
       "overflow_y": null,
       "padding": null,
       "right": null,
       "top": null,
       "visibility": null,
       "width": null
      }
     },
     "406ded670f3a46faaf9b4710fc263fef": {
      "model_module": "@jupyter-widgets/controls",
      "model_module_version": "1.5.0",
      "model_name": "HTMLModel",
      "state": {
       "_dom_classes": [],
       "_model_module": "@jupyter-widgets/controls",
       "_model_module_version": "1.5.0",
       "_model_name": "HTMLModel",
       "_view_count": null,
       "_view_module": "@jupyter-widgets/controls",
       "_view_module_version": "1.5.0",
       "_view_name": "HTMLView",
       "description": "",
       "description_tooltip": null,
       "layout": "IPY_MODEL_098f4ec904e7450e95022b24d2c25c44",
       "placeholder": "​",
       "style": "IPY_MODEL_8e1f8a283b074ca1b8ead3f45beb89c5",
       "value": " 440M/440M [00:02&lt;00:00, 208MB/s]"
      }
     },
     "4279cf41f80641db9d2127dec7139d99": {
      "model_module": "@jupyter-widgets/base",
      "model_module_version": "1.2.0",
      "model_name": "LayoutModel",
      "state": {
       "_model_module": "@jupyter-widgets/base",
       "_model_module_version": "1.2.0",
       "_model_name": "LayoutModel",
       "_view_count": null,
       "_view_module": "@jupyter-widgets/base",
       "_view_module_version": "1.2.0",
       "_view_name": "LayoutView",
       "align_content": null,
       "align_items": null,
       "align_self": null,
       "border": null,
       "bottom": null,
       "display": null,
       "flex": null,
       "flex_flow": null,
       "grid_area": null,
       "grid_auto_columns": null,
       "grid_auto_flow": null,
       "grid_auto_rows": null,
       "grid_column": null,
       "grid_gap": null,
       "grid_row": null,
       "grid_template_areas": null,
       "grid_template_columns": null,
       "grid_template_rows": null,
       "height": null,
       "justify_content": null,
       "justify_items": null,
       "left": null,
       "margin": null,
       "max_height": null,
       "max_width": null,
       "min_height": null,
       "min_width": null,
       "object_fit": null,
       "object_position": null,
       "order": null,
       "overflow": null,
       "overflow_x": null,
       "overflow_y": null,
       "padding": null,
       "right": null,
       "top": null,
       "visibility": null,
       "width": null
      }
     },
     "43efb6a628684c79aad90b3549130b53": {
      "model_module": "@jupyter-widgets/base",
      "model_module_version": "1.2.0",
      "model_name": "LayoutModel",
      "state": {
       "_model_module": "@jupyter-widgets/base",
       "_model_module_version": "1.2.0",
       "_model_name": "LayoutModel",
       "_view_count": null,
       "_view_module": "@jupyter-widgets/base",
       "_view_module_version": "1.2.0",
       "_view_name": "LayoutView",
       "align_content": null,
       "align_items": null,
       "align_self": null,
       "border": null,
       "bottom": null,
       "display": null,
       "flex": null,
       "flex_flow": null,
       "grid_area": null,
       "grid_auto_columns": null,
       "grid_auto_flow": null,
       "grid_auto_rows": null,
       "grid_column": null,
       "grid_gap": null,
       "grid_row": null,
       "grid_template_areas": null,
       "grid_template_columns": null,
       "grid_template_rows": null,
       "height": null,
       "justify_content": null,
       "justify_items": null,
       "left": null,
       "margin": null,
       "max_height": null,
       "max_width": null,
       "min_height": null,
       "min_width": null,
       "object_fit": null,
       "object_position": null,
       "order": null,
       "overflow": null,
       "overflow_x": null,
       "overflow_y": null,
       "padding": null,
       "right": null,
       "top": null,
       "visibility": null,
       "width": null
      }
     },
     "44b0193ae5494fdda0d8c3ba76e2088d": {
      "model_module": "@jupyter-widgets/base",
      "model_module_version": "1.2.0",
      "model_name": "LayoutModel",
      "state": {
       "_model_module": "@jupyter-widgets/base",
       "_model_module_version": "1.2.0",
       "_model_name": "LayoutModel",
       "_view_count": null,
       "_view_module": "@jupyter-widgets/base",
       "_view_module_version": "1.2.0",
       "_view_name": "LayoutView",
       "align_content": null,
       "align_items": null,
       "align_self": null,
       "border": null,
       "bottom": null,
       "display": null,
       "flex": null,
       "flex_flow": null,
       "grid_area": null,
       "grid_auto_columns": null,
       "grid_auto_flow": null,
       "grid_auto_rows": null,
       "grid_column": null,
       "grid_gap": null,
       "grid_row": null,
       "grid_template_areas": null,
       "grid_template_columns": null,
       "grid_template_rows": null,
       "height": null,
       "justify_content": null,
       "justify_items": null,
       "left": null,
       "margin": null,
       "max_height": null,
       "max_width": null,
       "min_height": null,
       "min_width": null,
       "object_fit": null,
       "object_position": null,
       "order": null,
       "overflow": null,
       "overflow_x": null,
       "overflow_y": null,
       "padding": null,
       "right": null,
       "top": null,
       "visibility": null,
       "width": null
      }
     },
     "4a697b2bc2234b70b1670d0444b173ef": {
      "model_module": "@jupyter-widgets/controls",
      "model_module_version": "1.5.0",
      "model_name": "ProgressStyleModel",
      "state": {
       "_model_module": "@jupyter-widgets/controls",
       "_model_module_version": "1.5.0",
       "_model_name": "ProgressStyleModel",
       "_view_count": null,
       "_view_module": "@jupyter-widgets/base",
       "_view_module_version": "1.2.0",
       "_view_name": "StyleView",
       "bar_color": null,
       "description_width": ""
      }
     },
     "4b4e0f649f014c52b306e3ee0ef772a6": {
      "model_module": "@jupyter-widgets/controls",
      "model_module_version": "1.5.0",
      "model_name": "HTMLModel",
      "state": {
       "_dom_classes": [],
       "_model_module": "@jupyter-widgets/controls",
       "_model_module_version": "1.5.0",
       "_model_name": "HTMLModel",
       "_view_count": null,
       "_view_module": "@jupyter-widgets/controls",
       "_view_module_version": "1.5.0",
       "_view_name": "HTMLView",
       "description": "",
       "description_tooltip": null,
       "layout": "IPY_MODEL_a4e8bee84e0f447a9df5696b2d8c4892",
       "placeholder": "​",
       "style": "IPY_MODEL_b6cfccea67ae47fcb596b4025b7aa3bb",
       "value": "tokenizer_config.json: 100%"
      }
     },
     "4bc1a7525da64858ab149326ad83f805": {
      "model_module": "@jupyter-widgets/base",
      "model_module_version": "1.2.0",
      "model_name": "LayoutModel",
      "state": {
       "_model_module": "@jupyter-widgets/base",
       "_model_module_version": "1.2.0",
       "_model_name": "LayoutModel",
       "_view_count": null,
       "_view_module": "@jupyter-widgets/base",
       "_view_module_version": "1.2.0",
       "_view_name": "LayoutView",
       "align_content": null,
       "align_items": null,
       "align_self": null,
       "border": null,
       "bottom": null,
       "display": null,
       "flex": null,
       "flex_flow": null,
       "grid_area": null,
       "grid_auto_columns": null,
       "grid_auto_flow": null,
       "grid_auto_rows": null,
       "grid_column": null,
       "grid_gap": null,
       "grid_row": null,
       "grid_template_areas": null,
       "grid_template_columns": null,
       "grid_template_rows": null,
       "height": null,
       "justify_content": null,
       "justify_items": null,
       "left": null,
       "margin": null,
       "max_height": null,
       "max_width": null,
       "min_height": null,
       "min_width": null,
       "object_fit": null,
       "object_position": null,
       "order": null,
       "overflow": null,
       "overflow_x": null,
       "overflow_y": null,
       "padding": null,
       "right": null,
       "top": null,
       "visibility": null,
       "width": null
      }
     },
     "4d0576b7d2fe43ff88cbe847c85064f8": {
      "model_module": "@jupyter-widgets/controls",
      "model_module_version": "1.5.0",
      "model_name": "HTMLModel",
      "state": {
       "_dom_classes": [],
       "_model_module": "@jupyter-widgets/controls",
       "_model_module_version": "1.5.0",
       "_model_name": "HTMLModel",
       "_view_count": null,
       "_view_module": "@jupyter-widgets/controls",
       "_view_module_version": "1.5.0",
       "_view_name": "HTMLView",
       "description": "",
       "description_tooltip": null,
       "layout": "IPY_MODEL_b391447a85d148fda1860b20c9ae5f64",
       "placeholder": "​",
       "style": "IPY_MODEL_232cee8b8fbb4f91b265431d975cf5c8",
       "value": "config.json: 100%"
      }
     },
     "4d2fca49993b40c2b51f432ace074cc7": {
      "model_module": "@jupyter-widgets/base",
      "model_module_version": "1.2.0",
      "model_name": "LayoutModel",
      "state": {
       "_model_module": "@jupyter-widgets/base",
       "_model_module_version": "1.2.0",
       "_model_name": "LayoutModel",
       "_view_count": null,
       "_view_module": "@jupyter-widgets/base",
       "_view_module_version": "1.2.0",
       "_view_name": "LayoutView",
       "align_content": null,
       "align_items": null,
       "align_self": null,
       "border": null,
       "bottom": null,
       "display": null,
       "flex": null,
       "flex_flow": null,
       "grid_area": null,
       "grid_auto_columns": null,
       "grid_auto_flow": null,
       "grid_auto_rows": null,
       "grid_column": null,
       "grid_gap": null,
       "grid_row": null,
       "grid_template_areas": null,
       "grid_template_columns": null,
       "grid_template_rows": null,
       "height": null,
       "justify_content": null,
       "justify_items": null,
       "left": null,
       "margin": null,
       "max_height": null,
       "max_width": null,
       "min_height": null,
       "min_width": null,
       "object_fit": null,
       "object_position": null,
       "order": null,
       "overflow": null,
       "overflow_x": null,
       "overflow_y": null,
       "padding": null,
       "right": null,
       "top": null,
       "visibility": null,
       "width": null
      }
     },
     "4edb8bdfd73248c5854179cbc7b1eefe": {
      "model_module": "@jupyter-widgets/base",
      "model_module_version": "1.2.0",
      "model_name": "LayoutModel",
      "state": {
       "_model_module": "@jupyter-widgets/base",
       "_model_module_version": "1.2.0",
       "_model_name": "LayoutModel",
       "_view_count": null,
       "_view_module": "@jupyter-widgets/base",
       "_view_module_version": "1.2.0",
       "_view_name": "LayoutView",
       "align_content": null,
       "align_items": null,
       "align_self": null,
       "border": null,
       "bottom": null,
       "display": null,
       "flex": null,
       "flex_flow": null,
       "grid_area": null,
       "grid_auto_columns": null,
       "grid_auto_flow": null,
       "grid_auto_rows": null,
       "grid_column": null,
       "grid_gap": null,
       "grid_row": null,
       "grid_template_areas": null,
       "grid_template_columns": null,
       "grid_template_rows": null,
       "height": null,
       "justify_content": null,
       "justify_items": null,
       "left": null,
       "margin": null,
       "max_height": null,
       "max_width": null,
       "min_height": null,
       "min_width": null,
       "object_fit": null,
       "object_position": null,
       "order": null,
       "overflow": null,
       "overflow_x": null,
       "overflow_y": null,
       "padding": null,
       "right": null,
       "top": null,
       "visibility": null,
       "width": null
      }
     },
     "4f51a3e6cf744e95b9a2ab0d987cc9e4": {
      "model_module": "@jupyter-widgets/controls",
      "model_module_version": "1.5.0",
      "model_name": "HBoxModel",
      "state": {
       "_dom_classes": [],
       "_model_module": "@jupyter-widgets/controls",
       "_model_module_version": "1.5.0",
       "_model_name": "HBoxModel",
       "_view_count": null,
       "_view_module": "@jupyter-widgets/controls",
       "_view_module_version": "1.5.0",
       "_view_name": "HBoxView",
       "box_style": "",
       "children": [
        "IPY_MODEL_e8af09b704cd4275be596a399117e649",
        "IPY_MODEL_abda046c85cf4d0a9505490f140a984e",
        "IPY_MODEL_dd944fb1c5c04702a3b047890e851abd"
       ],
       "layout": "IPY_MODEL_12391f0b9c6745f1a9670e11662bb6cd"
      }
     },
     "50eec39d0de14e89b8af9b5269aa4c0f": {
      "model_module": "@jupyter-widgets/base",
      "model_module_version": "1.2.0",
      "model_name": "LayoutModel",
      "state": {
       "_model_module": "@jupyter-widgets/base",
       "_model_module_version": "1.2.0",
       "_model_name": "LayoutModel",
       "_view_count": null,
       "_view_module": "@jupyter-widgets/base",
       "_view_module_version": "1.2.0",
       "_view_name": "LayoutView",
       "align_content": null,
       "align_items": null,
       "align_self": null,
       "border": null,
       "bottom": null,
       "display": null,
       "flex": null,
       "flex_flow": null,
       "grid_area": null,
       "grid_auto_columns": null,
       "grid_auto_flow": null,
       "grid_auto_rows": null,
       "grid_column": null,
       "grid_gap": null,
       "grid_row": null,
       "grid_template_areas": null,
       "grid_template_columns": null,
       "grid_template_rows": null,
       "height": null,
       "justify_content": null,
       "justify_items": null,
       "left": null,
       "margin": null,
       "max_height": null,
       "max_width": null,
       "min_height": null,
       "min_width": null,
       "object_fit": null,
       "object_position": null,
       "order": null,
       "overflow": null,
       "overflow_x": null,
       "overflow_y": null,
       "padding": null,
       "right": null,
       "top": null,
       "visibility": null,
       "width": null
      }
     },
     "54443ede3402483096c8038d3d757d6b": {
      "model_module": "@jupyter-widgets/controls",
      "model_module_version": "1.5.0",
      "model_name": "HTMLModel",
      "state": {
       "_dom_classes": [],
       "_model_module": "@jupyter-widgets/controls",
       "_model_module_version": "1.5.0",
       "_model_name": "HTMLModel",
       "_view_count": null,
       "_view_module": "@jupyter-widgets/controls",
       "_view_module_version": "1.5.0",
       "_view_name": "HTMLView",
       "description": "",
       "description_tooltip": null,
       "layout": "IPY_MODEL_ca67be8d15e54e5a830550604c393017",
       "placeholder": "​",
       "style": "IPY_MODEL_dc5501d2d1de42f4b78e5f3da8120e93",
       "value": " 232k/232k [00:00&lt;00:00, 1.02MB/s]"
      }
     },
     "5465398387c34dac8b5ad442536227d1": {
      "model_module": "@jupyter-widgets/base",
      "model_module_version": "1.2.0",
      "model_name": "LayoutModel",
      "state": {
       "_model_module": "@jupyter-widgets/base",
       "_model_module_version": "1.2.0",
       "_model_name": "LayoutModel",
       "_view_count": null,
       "_view_module": "@jupyter-widgets/base",
       "_view_module_version": "1.2.0",
       "_view_name": "LayoutView",
       "align_content": null,
       "align_items": null,
       "align_self": null,
       "border": null,
       "bottom": null,
       "display": null,
       "flex": null,
       "flex_flow": null,
       "grid_area": null,
       "grid_auto_columns": null,
       "grid_auto_flow": null,
       "grid_auto_rows": null,
       "grid_column": null,
       "grid_gap": null,
       "grid_row": null,
       "grid_template_areas": null,
       "grid_template_columns": null,
       "grid_template_rows": null,
       "height": null,
       "justify_content": null,
       "justify_items": null,
       "left": null,
       "margin": null,
       "max_height": null,
       "max_width": null,
       "min_height": null,
       "min_width": null,
       "object_fit": null,
       "object_position": null,
       "order": null,
       "overflow": null,
       "overflow_x": null,
       "overflow_y": null,
       "padding": null,
       "right": null,
       "top": null,
       "visibility": null,
       "width": null
      }
     },
     "55d878b4319a404d9957a0f2ec797e77": {
      "model_module": "@jupyter-widgets/controls",
      "model_module_version": "1.5.0",
      "model_name": "DescriptionStyleModel",
      "state": {
       "_model_module": "@jupyter-widgets/controls",
       "_model_module_version": "1.5.0",
       "_model_name": "DescriptionStyleModel",
       "_view_count": null,
       "_view_module": "@jupyter-widgets/base",
       "_view_module_version": "1.2.0",
       "_view_name": "StyleView",
       "description_width": ""
      }
     },
     "56fb5ed426704723950bad65cf7d5128": {
      "model_module": "@jupyter-widgets/base",
      "model_module_version": "1.2.0",
      "model_name": "LayoutModel",
      "state": {
       "_model_module": "@jupyter-widgets/base",
       "_model_module_version": "1.2.0",
       "_model_name": "LayoutModel",
       "_view_count": null,
       "_view_module": "@jupyter-widgets/base",
       "_view_module_version": "1.2.0",
       "_view_name": "LayoutView",
       "align_content": null,
       "align_items": null,
       "align_self": null,
       "border": null,
       "bottom": null,
       "display": null,
       "flex": null,
       "flex_flow": null,
       "grid_area": null,
       "grid_auto_columns": null,
       "grid_auto_flow": null,
       "grid_auto_rows": null,
       "grid_column": null,
       "grid_gap": null,
       "grid_row": null,
       "grid_template_areas": null,
       "grid_template_columns": null,
       "grid_template_rows": null,
       "height": null,
       "justify_content": null,
       "justify_items": null,
       "left": null,
       "margin": null,
       "max_height": null,
       "max_width": null,
       "min_height": null,
       "min_width": null,
       "object_fit": null,
       "object_position": null,
       "order": null,
       "overflow": null,
       "overflow_x": null,
       "overflow_y": null,
       "padding": null,
       "right": null,
       "top": null,
       "visibility": null,
       "width": null
      }
     },
     "5aa098de902d457cb630fe9329acd348": {
      "model_module": "@jupyter-widgets/base",
      "model_module_version": "1.2.0",
      "model_name": "LayoutModel",
      "state": {
       "_model_module": "@jupyter-widgets/base",
       "_model_module_version": "1.2.0",
       "_model_name": "LayoutModel",
       "_view_count": null,
       "_view_module": "@jupyter-widgets/base",
       "_view_module_version": "1.2.0",
       "_view_name": "LayoutView",
       "align_content": null,
       "align_items": null,
       "align_self": null,
       "border": null,
       "bottom": null,
       "display": null,
       "flex": null,
       "flex_flow": null,
       "grid_area": null,
       "grid_auto_columns": null,
       "grid_auto_flow": null,
       "grid_auto_rows": null,
       "grid_column": null,
       "grid_gap": null,
       "grid_row": null,
       "grid_template_areas": null,
       "grid_template_columns": null,
       "grid_template_rows": null,
       "height": null,
       "justify_content": null,
       "justify_items": null,
       "left": null,
       "margin": null,
       "max_height": null,
       "max_width": null,
       "min_height": null,
       "min_width": null,
       "object_fit": null,
       "object_position": null,
       "order": null,
       "overflow": null,
       "overflow_x": null,
       "overflow_y": null,
       "padding": null,
       "right": null,
       "top": null,
       "visibility": null,
       "width": null
      }
     },
     "5e7a36ce034d417f8d3b2ec675b1ff2d": {
      "model_module": "@jupyter-widgets/controls",
      "model_module_version": "1.5.0",
      "model_name": "FloatProgressModel",
      "state": {
       "_dom_classes": [],
       "_model_module": "@jupyter-widgets/controls",
       "_model_module_version": "1.5.0",
       "_model_name": "FloatProgressModel",
       "_view_count": null,
       "_view_module": "@jupyter-widgets/controls",
       "_view_module_version": "1.5.0",
       "_view_name": "ProgressView",
       "bar_style": "success",
       "description": "",
       "description_tooltip": null,
       "layout": "IPY_MODEL_c0b2f02edcf241f78bf614713f52a499",
       "max": 1355256.0,
       "min": 0.0,
       "orientation": "horizontal",
       "style": "IPY_MODEL_da740372fdf745a8b40e015fac339a73",
       "value": 1355256.0
      }
     },
     "5eb73b6c998c4e82be260ac08ebc776a": {
      "model_module": "@jupyter-widgets/controls",
      "model_module_version": "1.5.0",
      "model_name": "DescriptionStyleModel",
      "state": {
       "_model_module": "@jupyter-widgets/controls",
       "_model_module_version": "1.5.0",
       "_model_name": "DescriptionStyleModel",
       "_view_count": null,
       "_view_module": "@jupyter-widgets/base",
       "_view_module_version": "1.2.0",
       "_view_name": "StyleView",
       "description_width": ""
      }
     },
     "5fd1f2c511994d60971ce1e95f69bf82": {
      "model_module": "@jupyter-widgets/base",
      "model_module_version": "1.2.0",
      "model_name": "LayoutModel",
      "state": {
       "_model_module": "@jupyter-widgets/base",
       "_model_module_version": "1.2.0",
       "_model_name": "LayoutModel",
       "_view_count": null,
       "_view_module": "@jupyter-widgets/base",
       "_view_module_version": "1.2.0",
       "_view_name": "LayoutView",
       "align_content": null,
       "align_items": null,
       "align_self": null,
       "border": null,
       "bottom": null,
       "display": null,
       "flex": null,
       "flex_flow": null,
       "grid_area": null,
       "grid_auto_columns": null,
       "grid_auto_flow": null,
       "grid_auto_rows": null,
       "grid_column": null,
       "grid_gap": null,
       "grid_row": null,
       "grid_template_areas": null,
       "grid_template_columns": null,
       "grid_template_rows": null,
       "height": null,
       "justify_content": null,
       "justify_items": null,
       "left": null,
       "margin": null,
       "max_height": null,
       "max_width": null,
       "min_height": null,
       "min_width": null,
       "object_fit": null,
       "object_position": null,
       "order": null,
       "overflow": null,
       "overflow_x": null,
       "overflow_y": null,
       "padding": null,
       "right": null,
       "top": null,
       "visibility": null,
       "width": null
      }
     },
     "61416de673fc40e9bd6e50a79ba3e5a9": {
      "model_module": "@jupyter-widgets/base",
      "model_module_version": "1.2.0",
      "model_name": "LayoutModel",
      "state": {
       "_model_module": "@jupyter-widgets/base",
       "_model_module_version": "1.2.0",
       "_model_name": "LayoutModel",
       "_view_count": null,
       "_view_module": "@jupyter-widgets/base",
       "_view_module_version": "1.2.0",
       "_view_name": "LayoutView",
       "align_content": null,
       "align_items": null,
       "align_self": null,
       "border": null,
       "bottom": null,
       "display": null,
       "flex": null,
       "flex_flow": null,
       "grid_area": null,
       "grid_auto_columns": null,
       "grid_auto_flow": null,
       "grid_auto_rows": null,
       "grid_column": null,
       "grid_gap": null,
       "grid_row": null,
       "grid_template_areas": null,
       "grid_template_columns": null,
       "grid_template_rows": null,
       "height": null,
       "justify_content": null,
       "justify_items": null,
       "left": null,
       "margin": null,
       "max_height": null,
       "max_width": null,
       "min_height": null,
       "min_width": null,
       "object_fit": null,
       "object_position": null,
       "order": null,
       "overflow": null,
       "overflow_x": null,
       "overflow_y": null,
       "padding": null,
       "right": null,
       "top": null,
       "visibility": null,
       "width": null
      }
     },
     "626b49f87840485085a26102bb46ece2": {
      "model_module": "@jupyter-widgets/controls",
      "model_module_version": "1.5.0",
      "model_name": "FloatProgressModel",
      "state": {
       "_dom_classes": [],
       "_model_module": "@jupyter-widgets/controls",
       "_model_module_version": "1.5.0",
       "_model_name": "FloatProgressModel",
       "_view_count": null,
       "_view_module": "@jupyter-widgets/controls",
       "_view_module_version": "1.5.0",
       "_view_name": "ProgressView",
       "bar_style": "success",
       "description": "",
       "description_tooltip": null,
       "layout": "IPY_MODEL_93d96cba1722485d8d02f93873f688dc",
       "max": 466062.0,
       "min": 0.0,
       "orientation": "horizontal",
       "style": "IPY_MODEL_65e9d58bd8a847d38c8770d5246c70e2",
       "value": 466062.0
      }
     },
     "659a0e5514f04df5a29c305f232f1d97": {
      "model_module": "@jupyter-widgets/controls",
      "model_module_version": "1.5.0",
      "model_name": "FloatProgressModel",
      "state": {
       "_dom_classes": [],
       "_model_module": "@jupyter-widgets/controls",
       "_model_module_version": "1.5.0",
       "_model_name": "FloatProgressModel",
       "_view_count": null,
       "_view_module": "@jupyter-widgets/controls",
       "_view_module_version": "1.5.0",
       "_view_name": "ProgressView",
       "bar_style": "success",
       "description": "",
       "description_tooltip": null,
       "layout": "IPY_MODEL_5fd1f2c511994d60971ce1e95f69bf82",
       "max": 26.0,
       "min": 0.0,
       "orientation": "horizontal",
       "style": "IPY_MODEL_4a697b2bc2234b70b1670d0444b173ef",
       "value": 26.0
      }
     },
     "65e9d58bd8a847d38c8770d5246c70e2": {
      "model_module": "@jupyter-widgets/controls",
      "model_module_version": "1.5.0",
      "model_name": "ProgressStyleModel",
      "state": {
       "_model_module": "@jupyter-widgets/controls",
       "_model_module_version": "1.5.0",
       "_model_name": "ProgressStyleModel",
       "_view_count": null,
       "_view_module": "@jupyter-widgets/base",
       "_view_module_version": "1.2.0",
       "_view_name": "StyleView",
       "bar_color": null,
       "description_width": ""
      }
     },
     "67f8dc71d40344468dfe4735b84b3df5": {
      "model_module": "@jupyter-widgets/controls",
      "model_module_version": "1.5.0",
      "model_name": "HBoxModel",
      "state": {
       "_dom_classes": [],
       "_model_module": "@jupyter-widgets/controls",
       "_model_module_version": "1.5.0",
       "_model_name": "HBoxModel",
       "_view_count": null,
       "_view_module": "@jupyter-widgets/controls",
       "_view_module_version": "1.5.0",
       "_view_name": "HBoxView",
       "box_style": "",
       "children": [
        "IPY_MODEL_eec72f5dd3b84cfd8a5149545fd42376",
        "IPY_MODEL_06135340ebd94c249a347c60ace0edd5",
        "IPY_MODEL_406ded670f3a46faaf9b4710fc263fef"
       ],
       "layout": "IPY_MODEL_87c788d52bf0462e98c75f655784c375"
      }
     },
     "693f30b36ac746f188ea713f325d434f": {
      "model_module": "@jupyter-widgets/controls",
      "model_module_version": "1.5.0",
      "model_name": "DescriptionStyleModel",
      "state": {
       "_model_module": "@jupyter-widgets/controls",
       "_model_module_version": "1.5.0",
       "_model_name": "DescriptionStyleModel",
       "_view_count": null,
       "_view_module": "@jupyter-widgets/base",
       "_view_module_version": "1.2.0",
       "_view_name": "StyleView",
       "description_width": ""
      }
     },
     "6f09744aa6a5478f9747a80a327660ae": {
      "model_module": "@jupyter-widgets/controls",
      "model_module_version": "1.5.0",
      "model_name": "DescriptionStyleModel",
      "state": {
       "_model_module": "@jupyter-widgets/controls",
       "_model_module_version": "1.5.0",
       "_model_name": "DescriptionStyleModel",
       "_view_count": null,
       "_view_module": "@jupyter-widgets/base",
       "_view_module_version": "1.2.0",
       "_view_name": "StyleView",
       "description_width": ""
      }
     },
     "71a63a5155d74681b11daeaa398fd608": {
      "model_module": "@jupyter-widgets/base",
      "model_module_version": "1.2.0",
      "model_name": "LayoutModel",
      "state": {
       "_model_module": "@jupyter-widgets/base",
       "_model_module_version": "1.2.0",
       "_model_name": "LayoutModel",
       "_view_count": null,
       "_view_module": "@jupyter-widgets/base",
       "_view_module_version": "1.2.0",
       "_view_name": "LayoutView",
       "align_content": null,
       "align_items": null,
       "align_self": null,
       "border": null,
       "bottom": null,
       "display": null,
       "flex": null,
       "flex_flow": null,
       "grid_area": null,
       "grid_auto_columns": null,
       "grid_auto_flow": null,
       "grid_auto_rows": null,
       "grid_column": null,
       "grid_gap": null,
       "grid_row": null,
       "grid_template_areas": null,
       "grid_template_columns": null,
       "grid_template_rows": null,
       "height": null,
       "justify_content": null,
       "justify_items": null,
       "left": null,
       "margin": null,
       "max_height": null,
       "max_width": null,
       "min_height": null,
       "min_width": null,
       "object_fit": null,
       "object_position": null,
       "order": null,
       "overflow": null,
       "overflow_x": null,
       "overflow_y": null,
       "padding": null,
       "right": null,
       "top": null,
       "visibility": null,
       "width": null
      }
     },
     "71f84b6eaebe40c4b86c59ccff4ae360": {
      "model_module": "@jupyter-widgets/controls",
      "model_module_version": "1.5.0",
      "model_name": "ProgressStyleModel",
      "state": {
       "_model_module": "@jupyter-widgets/controls",
       "_model_module_version": "1.5.0",
       "_model_name": "ProgressStyleModel",
       "_view_count": null,
       "_view_module": "@jupyter-widgets/base",
       "_view_module_version": "1.2.0",
       "_view_name": "StyleView",
       "bar_color": null,
       "description_width": ""
      }
     },
     "75fd9977c2744f718a796d582e574845": {
      "model_module": "@jupyter-widgets/base",
      "model_module_version": "1.2.0",
      "model_name": "LayoutModel",
      "state": {
       "_model_module": "@jupyter-widgets/base",
       "_model_module_version": "1.2.0",
       "_model_name": "LayoutModel",
       "_view_count": null,
       "_view_module": "@jupyter-widgets/base",
       "_view_module_version": "1.2.0",
       "_view_name": "LayoutView",
       "align_content": null,
       "align_items": null,
       "align_self": null,
       "border": null,
       "bottom": null,
       "display": null,
       "flex": null,
       "flex_flow": null,
       "grid_area": null,
       "grid_auto_columns": null,
       "grid_auto_flow": null,
       "grid_auto_rows": null,
       "grid_column": null,
       "grid_gap": null,
       "grid_row": null,
       "grid_template_areas": null,
       "grid_template_columns": null,
       "grid_template_rows": null,
       "height": null,
       "justify_content": null,
       "justify_items": null,
       "left": null,
       "margin": null,
       "max_height": null,
       "max_width": null,
       "min_height": null,
       "min_width": null,
       "object_fit": null,
       "object_position": null,
       "order": null,
       "overflow": null,
       "overflow_x": null,
       "overflow_y": null,
       "padding": null,
       "right": null,
       "top": null,
       "visibility": null,
       "width": null
      }
     },
     "78d962109ac843178d4bea5c5fb2e568": {
      "model_module": "@jupyter-widgets/base",
      "model_module_version": "1.2.0",
      "model_name": "LayoutModel",
      "state": {
       "_model_module": "@jupyter-widgets/base",
       "_model_module_version": "1.2.0",
       "_model_name": "LayoutModel",
       "_view_count": null,
       "_view_module": "@jupyter-widgets/base",
       "_view_module_version": "1.2.0",
       "_view_name": "LayoutView",
       "align_content": null,
       "align_items": null,
       "align_self": null,
       "border": null,
       "bottom": null,
       "display": null,
       "flex": null,
       "flex_flow": null,
       "grid_area": null,
       "grid_auto_columns": null,
       "grid_auto_flow": null,
       "grid_auto_rows": null,
       "grid_column": null,
       "grid_gap": null,
       "grid_row": null,
       "grid_template_areas": null,
       "grid_template_columns": null,
       "grid_template_rows": null,
       "height": null,
       "justify_content": null,
       "justify_items": null,
       "left": null,
       "margin": null,
       "max_height": null,
       "max_width": null,
       "min_height": null,
       "min_width": null,
       "object_fit": null,
       "object_position": null,
       "order": null,
       "overflow": null,
       "overflow_x": null,
       "overflow_y": null,
       "padding": null,
       "right": null,
       "top": null,
       "visibility": null,
       "width": null
      }
     },
     "79a2c01e0db742588967bd81cafb4f27": {
      "model_module": "@jupyter-widgets/controls",
      "model_module_version": "1.5.0",
      "model_name": "ProgressStyleModel",
      "state": {
       "_model_module": "@jupyter-widgets/controls",
       "_model_module_version": "1.5.0",
       "_model_name": "ProgressStyleModel",
       "_view_count": null,
       "_view_module": "@jupyter-widgets/base",
       "_view_module_version": "1.2.0",
       "_view_name": "StyleView",
       "bar_color": null,
       "description_width": ""
      }
     },
     "7a4f0383c93248579d4660a46f026d2a": {
      "model_module": "@jupyter-widgets/controls",
      "model_module_version": "1.5.0",
      "model_name": "FloatProgressModel",
      "state": {
       "_dom_classes": [],
       "_model_module": "@jupyter-widgets/controls",
       "_model_module_version": "1.5.0",
       "_model_name": "FloatProgressModel",
       "_view_count": null,
       "_view_module": "@jupyter-widgets/controls",
       "_view_module_version": "1.5.0",
       "_view_name": "ProgressView",
       "bar_style": "success",
       "description": "",
       "description_tooltip": null,
       "layout": "IPY_MODEL_e508a444fe3d4657904599df9eb54c33",
       "max": 570.0,
       "min": 0.0,
       "orientation": "horizontal",
       "style": "IPY_MODEL_d68dbb61426643f48ec7fe804aa7b495",
       "value": 570.0
      }
     },
     "7bf5657b404b4e81809fccd9e45c60a5": {
      "model_module": "@jupyter-widgets/controls",
      "model_module_version": "1.5.0",
      "model_name": "HTMLModel",
      "state": {
       "_dom_classes": [],
       "_model_module": "@jupyter-widgets/controls",
       "_model_module_version": "1.5.0",
       "_model_name": "HTMLModel",
       "_view_count": null,
       "_view_module": "@jupyter-widgets/controls",
       "_view_module_version": "1.5.0",
       "_view_name": "HTMLView",
       "description": "",
       "description_tooltip": null,
       "layout": "IPY_MODEL_56fb5ed426704723950bad65cf7d5128",
       "placeholder": "​",
       "style": "IPY_MODEL_2f2e49138a874749867a47f03f33f5c4",
       "value": " 466k/466k [00:00&lt;00:00, 2.62MB/s]"
      }
     },
     "816a10de23a4407990cdeee62b5a4fc9": {
      "model_module": "@jupyter-widgets/controls",
      "model_module_version": "1.5.0",
      "model_name": "HTMLModel",
      "state": {
       "_dom_classes": [],
       "_model_module": "@jupyter-widgets/controls",
       "_model_module_version": "1.5.0",
       "_model_name": "HTMLModel",
       "_view_count": null,
       "_view_module": "@jupyter-widgets/controls",
       "_view_module_version": "1.5.0",
       "_view_name": "HTMLView",
       "description": "",
       "description_tooltip": null,
       "layout": "IPY_MODEL_a8c1c3109b0e416eb199a113becbec42",
       "placeholder": "​",
       "style": "IPY_MODEL_26ac7a52d8db4cafa10477cb0b2d28a5",
       "value": " 48.0/48.0 [00:00&lt;00:00, 3.47kB/s]"
      }
     },
     "835d0c2cecdc4221a42d31bc95b93d62": {
      "model_module": "@jupyter-widgets/controls",
      "model_module_version": "1.5.0",
      "model_name": "DescriptionStyleModel",
      "state": {
       "_model_module": "@jupyter-widgets/controls",
       "_model_module_version": "1.5.0",
       "_model_name": "DescriptionStyleModel",
       "_view_count": null,
       "_view_module": "@jupyter-widgets/base",
       "_view_module_version": "1.2.0",
       "_view_name": "StyleView",
       "description_width": ""
      }
     },
     "83dfce3d57154d3685d9b3f6ad5bcfbc": {
      "model_module": "@jupyter-widgets/controls",
      "model_module_version": "1.5.0",
      "model_name": "FloatProgressModel",
      "state": {
       "_dom_classes": [],
       "_model_module": "@jupyter-widgets/controls",
       "_model_module_version": "1.5.0",
       "_model_name": "FloatProgressModel",
       "_view_count": null,
       "_view_module": "@jupyter-widgets/controls",
       "_view_module_version": "1.5.0",
       "_view_name": "ProgressView",
       "bar_style": "success",
       "description": "",
       "description_tooltip": null,
       "layout": "IPY_MODEL_75fd9977c2744f718a796d582e574845",
       "max": 456318.0,
       "min": 0.0,
       "orientation": "horizontal",
       "style": "IPY_MODEL_71f84b6eaebe40c4b86c59ccff4ae360",
       "value": 456318.0
      }
     },
     "83e932e553e84d9c9d83fbce3e86f0e8": {
      "model_module": "@jupyter-widgets/controls",
      "model_module_version": "1.5.0",
      "model_name": "DescriptionStyleModel",
      "state": {
       "_model_module": "@jupyter-widgets/controls",
       "_model_module_version": "1.5.0",
       "_model_name": "DescriptionStyleModel",
       "_view_count": null,
       "_view_module": "@jupyter-widgets/base",
       "_view_module_version": "1.2.0",
       "_view_name": "StyleView",
       "description_width": ""
      }
     },
     "87913abe0fbf4a22915c16a9d6998fd9": {
      "model_module": "@jupyter-widgets/controls",
      "model_module_version": "1.5.0",
      "model_name": "ProgressStyleModel",
      "state": {
       "_model_module": "@jupyter-widgets/controls",
       "_model_module_version": "1.5.0",
       "_model_name": "ProgressStyleModel",
       "_view_count": null,
       "_view_module": "@jupyter-widgets/base",
       "_view_module_version": "1.2.0",
       "_view_name": "StyleView",
       "bar_color": null,
       "description_width": ""
      }
     },
     "87c788d52bf0462e98c75f655784c375": {
      "model_module": "@jupyter-widgets/base",
      "model_module_version": "1.2.0",
      "model_name": "LayoutModel",
      "state": {
       "_model_module": "@jupyter-widgets/base",
       "_model_module_version": "1.2.0",
       "_model_name": "LayoutModel",
       "_view_count": null,
       "_view_module": "@jupyter-widgets/base",
       "_view_module_version": "1.2.0",
       "_view_name": "LayoutView",
       "align_content": null,
       "align_items": null,
       "align_self": null,
       "border": null,
       "bottom": null,
       "display": null,
       "flex": null,
       "flex_flow": null,
       "grid_area": null,
       "grid_auto_columns": null,
       "grid_auto_flow": null,
       "grid_auto_rows": null,
       "grid_column": null,
       "grid_gap": null,
       "grid_row": null,
       "grid_template_areas": null,
       "grid_template_columns": null,
       "grid_template_rows": null,
       "height": null,
       "justify_content": null,
       "justify_items": null,
       "left": null,
       "margin": null,
       "max_height": null,
       "max_width": null,
       "min_height": null,
       "min_width": null,
       "object_fit": null,
       "object_position": null,
       "order": null,
       "overflow": null,
       "overflow_x": null,
       "overflow_y": null,
       "padding": null,
       "right": null,
       "top": null,
       "visibility": null,
       "width": null
      }
     },
     "8bf8e9e44a7d427d820d71636821dec9": {
      "model_module": "@jupyter-widgets/controls",
      "model_module_version": "1.5.0",
      "model_name": "DescriptionStyleModel",
      "state": {
       "_model_module": "@jupyter-widgets/controls",
       "_model_module_version": "1.5.0",
       "_model_name": "DescriptionStyleModel",
       "_view_count": null,
       "_view_module": "@jupyter-widgets/base",
       "_view_module_version": "1.2.0",
       "_view_name": "StyleView",
       "description_width": ""
      }
     },
     "8e1f8a283b074ca1b8ead3f45beb89c5": {
      "model_module": "@jupyter-widgets/controls",
      "model_module_version": "1.5.0",
      "model_name": "DescriptionStyleModel",
      "state": {
       "_model_module": "@jupyter-widgets/controls",
       "_model_module_version": "1.5.0",
       "_model_name": "DescriptionStyleModel",
       "_view_count": null,
       "_view_module": "@jupyter-widgets/base",
       "_view_module_version": "1.2.0",
       "_view_name": "StyleView",
       "description_width": ""
      }
     },
     "8eca6950c08b41fd84edbaea5a8eb9da": {
      "model_module": "@jupyter-widgets/controls",
      "model_module_version": "1.5.0",
      "model_name": "HTMLModel",
      "state": {
       "_dom_classes": [],
       "_model_module": "@jupyter-widgets/controls",
       "_model_module_version": "1.5.0",
       "_model_name": "HTMLModel",
       "_view_count": null,
       "_view_module": "@jupyter-widgets/controls",
       "_view_module_version": "1.5.0",
       "_view_name": "HTMLView",
       "description": "",
       "description_tooltip": null,
       "layout": "IPY_MODEL_f110dfb3bb714b6e864fcf6199b66bfb",
       "placeholder": "​",
       "style": "IPY_MODEL_5eb73b6c998c4e82be260ac08ebc776a",
       "value": "vocab.txt: 100%"
      }
     },
     "9042885ec97243128590da233e46b708": {
      "model_module": "@jupyter-widgets/controls",
      "model_module_version": "1.5.0",
      "model_name": "HBoxModel",
      "state": {
       "_dom_classes": [],
       "_model_module": "@jupyter-widgets/controls",
       "_model_module_version": "1.5.0",
       "_model_name": "HBoxModel",
       "_view_count": null,
       "_view_module": "@jupyter-widgets/controls",
       "_view_module_version": "1.5.0",
       "_view_name": "HBoxView",
       "box_style": "",
       "children": [
        "IPY_MODEL_4d0576b7d2fe43ff88cbe847c85064f8",
        "IPY_MODEL_7a4f0383c93248579d4660a46f026d2a",
        "IPY_MODEL_bd543799b22341dbac2abd35bec68f9d"
       ],
       "layout": "IPY_MODEL_2cb87b72dac141f7bc573221b2285713"
      }
     },
     "93880a8b239042c7ac1f82ebe4466cd7": {
      "model_module": "@jupyter-widgets/controls",
      "model_module_version": "1.5.0",
      "model_name": "HBoxModel",
      "state": {
       "_dom_classes": [],
       "_model_module": "@jupyter-widgets/controls",
       "_model_module_version": "1.5.0",
       "_model_name": "HBoxModel",
       "_view_count": null,
       "_view_module": "@jupyter-widgets/controls",
       "_view_module_version": "1.5.0",
       "_view_name": "HBoxView",
       "box_style": "",
       "children": [
        "IPY_MODEL_8eca6950c08b41fd84edbaea5a8eb9da",
        "IPY_MODEL_a535a5092f9044ecaf059136a1c382e0",
        "IPY_MODEL_54443ede3402483096c8038d3d757d6b"
       ],
       "layout": "IPY_MODEL_b7e187401d944e04a3ed385a4802acb1"
      }
     },
     "93d8178f9e7447f5b9ca493549d08341": {
      "model_module": "@jupyter-widgets/base",
      "model_module_version": "1.2.0",
      "model_name": "LayoutModel",
      "state": {
       "_model_module": "@jupyter-widgets/base",
       "_model_module_version": "1.2.0",
       "_model_name": "LayoutModel",
       "_view_count": null,
       "_view_module": "@jupyter-widgets/base",
       "_view_module_version": "1.2.0",
       "_view_name": "LayoutView",
       "align_content": null,
       "align_items": null,
       "align_self": null,
       "border": null,
       "bottom": null,
       "display": null,
       "flex": null,
       "flex_flow": null,
       "grid_area": null,
       "grid_auto_columns": null,
       "grid_auto_flow": null,
       "grid_auto_rows": null,
       "grid_column": null,
       "grid_gap": null,
       "grid_row": null,
       "grid_template_areas": null,
       "grid_template_columns": null,
       "grid_template_rows": null,
       "height": null,
       "justify_content": null,
       "justify_items": null,
       "left": null,
       "margin": null,
       "max_height": null,
       "max_width": null,
       "min_height": null,
       "min_width": null,
       "object_fit": null,
       "object_position": null,
       "order": null,
       "overflow": null,
       "overflow_x": null,
       "overflow_y": null,
       "padding": null,
       "right": null,
       "top": null,
       "visibility": null,
       "width": null
      }
     },
     "93d96cba1722485d8d02f93873f688dc": {
      "model_module": "@jupyter-widgets/base",
      "model_module_version": "1.2.0",
      "model_name": "LayoutModel",
      "state": {
       "_model_module": "@jupyter-widgets/base",
       "_model_module_version": "1.2.0",
       "_model_name": "LayoutModel",
       "_view_count": null,
       "_view_module": "@jupyter-widgets/base",
       "_view_module_version": "1.2.0",
       "_view_name": "LayoutView",
       "align_content": null,
       "align_items": null,
       "align_self": null,
       "border": null,
       "bottom": null,
       "display": null,
       "flex": null,
       "flex_flow": null,
       "grid_area": null,
       "grid_auto_columns": null,
       "grid_auto_flow": null,
       "grid_auto_rows": null,
       "grid_column": null,
       "grid_gap": null,
       "grid_row": null,
       "grid_template_areas": null,
       "grid_template_columns": null,
       "grid_template_rows": null,
       "height": null,
       "justify_content": null,
       "justify_items": null,
       "left": null,
       "margin": null,
       "max_height": null,
       "max_width": null,
       "min_height": null,
       "min_width": null,
       "object_fit": null,
       "object_position": null,
       "order": null,
       "overflow": null,
       "overflow_x": null,
       "overflow_y": null,
       "padding": null,
       "right": null,
       "top": null,
       "visibility": null,
       "width": null
      }
     },
     "96b2c05a139b42558e1954b3abd07771": {
      "model_module": "@jupyter-widgets/base",
      "model_module_version": "1.2.0",
      "model_name": "LayoutModel",
      "state": {
       "_model_module": "@jupyter-widgets/base",
       "_model_module_version": "1.2.0",
       "_model_name": "LayoutModel",
       "_view_count": null,
       "_view_module": "@jupyter-widgets/base",
       "_view_module_version": "1.2.0",
       "_view_name": "LayoutView",
       "align_content": null,
       "align_items": null,
       "align_self": null,
       "border": null,
       "bottom": null,
       "display": null,
       "flex": null,
       "flex_flow": null,
       "grid_area": null,
       "grid_auto_columns": null,
       "grid_auto_flow": null,
       "grid_auto_rows": null,
       "grid_column": null,
       "grid_gap": null,
       "grid_row": null,
       "grid_template_areas": null,
       "grid_template_columns": null,
       "grid_template_rows": null,
       "height": null,
       "justify_content": null,
       "justify_items": null,
       "left": null,
       "margin": null,
       "max_height": null,
       "max_width": null,
       "min_height": null,
       "min_width": null,
       "object_fit": null,
       "object_position": null,
       "order": null,
       "overflow": null,
       "overflow_x": null,
       "overflow_y": null,
       "padding": null,
       "right": null,
       "top": null,
       "visibility": null,
       "width": null
      }
     },
     "9cd101a229c34e0996542fa2a6227e71": {
      "model_module": "@jupyter-widgets/base",
      "model_module_version": "1.2.0",
      "model_name": "LayoutModel",
      "state": {
       "_model_module": "@jupyter-widgets/base",
       "_model_module_version": "1.2.0",
       "_model_name": "LayoutModel",
       "_view_count": null,
       "_view_module": "@jupyter-widgets/base",
       "_view_module_version": "1.2.0",
       "_view_name": "LayoutView",
       "align_content": null,
       "align_items": null,
       "align_self": null,
       "border": null,
       "bottom": null,
       "display": null,
       "flex": null,
       "flex_flow": null,
       "grid_area": null,
       "grid_auto_columns": null,
       "grid_auto_flow": null,
       "grid_auto_rows": null,
       "grid_column": null,
       "grid_gap": null,
       "grid_row": null,
       "grid_template_areas": null,
       "grid_template_columns": null,
       "grid_template_rows": null,
       "height": null,
       "justify_content": null,
       "justify_items": null,
       "left": null,
       "margin": null,
       "max_height": null,
       "max_width": null,
       "min_height": null,
       "min_width": null,
       "object_fit": null,
       "object_position": null,
       "order": null,
       "overflow": null,
       "overflow_x": null,
       "overflow_y": null,
       "padding": null,
       "right": null,
       "top": null,
       "visibility": null,
       "width": null
      }
     },
     "9d6c39ed77e74b12aa31d4bf14125086": {
      "model_module": "@jupyter-widgets/controls",
      "model_module_version": "1.5.0",
      "model_name": "FloatProgressModel",
      "state": {
       "_dom_classes": [],
       "_model_module": "@jupyter-widgets/controls",
       "_model_module_version": "1.5.0",
       "_model_name": "FloatProgressModel",
       "_view_count": null,
       "_view_module": "@jupyter-widgets/controls",
       "_view_module_version": "1.5.0",
       "_view_name": "ProgressView",
       "bar_style": "success",
       "description": "",
       "description_tooltip": null,
       "layout": "IPY_MODEL_71a63a5155d74681b11daeaa398fd608",
       "max": 1042301.0,
       "min": 0.0,
       "orientation": "horizontal",
       "style": "IPY_MODEL_0ba1e44b70574c26ac385ca940481601",
       "value": 1042301.0
      }
     },
     "9f4a7671e68c4f008a24e8d978827e52": {
      "model_module": "@jupyter-widgets/controls",
      "model_module_version": "1.5.0",
      "model_name": "HTMLModel",
      "state": {
       "_dom_classes": [],
       "_model_module": "@jupyter-widgets/controls",
       "_model_module_version": "1.5.0",
       "_model_name": "HTMLModel",
       "_view_count": null,
       "_view_module": "@jupyter-widgets/controls",
       "_view_module_version": "1.5.0",
       "_view_name": "HTMLView",
       "description": "",
       "description_tooltip": null,
       "layout": "IPY_MODEL_4279cf41f80641db9d2127dec7139d99",
       "placeholder": "​",
       "style": "IPY_MODEL_83e932e553e84d9c9d83fbce3e86f0e8",
       "value": "tokenizer.json: 100%"
      }
     },
     "a3632ffb74a64c33b3df54f61b066540": {
      "model_module": "@jupyter-widgets/base",
      "model_module_version": "1.2.0",
      "model_name": "LayoutModel",
      "state": {
       "_model_module": "@jupyter-widgets/base",
       "_model_module_version": "1.2.0",
       "_model_name": "LayoutModel",
       "_view_count": null,
       "_view_module": "@jupyter-widgets/base",
       "_view_module_version": "1.2.0",
       "_view_name": "LayoutView",
       "align_content": null,
       "align_items": null,
       "align_self": null,
       "border": null,
       "bottom": null,
       "display": null,
       "flex": null,
       "flex_flow": null,
       "grid_area": null,
       "grid_auto_columns": null,
       "grid_auto_flow": null,
       "grid_auto_rows": null,
       "grid_column": null,
       "grid_gap": null,
       "grid_row": null,
       "grid_template_areas": null,
       "grid_template_columns": null,
       "grid_template_rows": null,
       "height": null,
       "justify_content": null,
       "justify_items": null,
       "left": null,
       "margin": null,
       "max_height": null,
       "max_width": null,
       "min_height": null,
       "min_width": null,
       "object_fit": null,
       "object_position": null,
       "order": null,
       "overflow": null,
       "overflow_x": null,
       "overflow_y": null,
       "padding": null,
       "right": null,
       "top": null,
       "visibility": null,
       "width": null
      }
     },
     "a4e8bee84e0f447a9df5696b2d8c4892": {
      "model_module": "@jupyter-widgets/base",
      "model_module_version": "1.2.0",
      "model_name": "LayoutModel",
      "state": {
       "_model_module": "@jupyter-widgets/base",
       "_model_module_version": "1.2.0",
       "_model_name": "LayoutModel",
       "_view_count": null,
       "_view_module": "@jupyter-widgets/base",
       "_view_module_version": "1.2.0",
       "_view_name": "LayoutView",
       "align_content": null,
       "align_items": null,
       "align_self": null,
       "border": null,
       "bottom": null,
       "display": null,
       "flex": null,
       "flex_flow": null,
       "grid_area": null,
       "grid_auto_columns": null,
       "grid_auto_flow": null,
       "grid_auto_rows": null,
       "grid_column": null,
       "grid_gap": null,
       "grid_row": null,
       "grid_template_areas": null,
       "grid_template_columns": null,
       "grid_template_rows": null,
       "height": null,
       "justify_content": null,
       "justify_items": null,
       "left": null,
       "margin": null,
       "max_height": null,
       "max_width": null,
       "min_height": null,
       "min_width": null,
       "object_fit": null,
       "object_position": null,
       "order": null,
       "overflow": null,
       "overflow_x": null,
       "overflow_y": null,
       "padding": null,
       "right": null,
       "top": null,
       "visibility": null,
       "width": null
      }
     },
     "a535a5092f9044ecaf059136a1c382e0": {
      "model_module": "@jupyter-widgets/controls",
      "model_module_version": "1.5.0",
      "model_name": "FloatProgressModel",
      "state": {
       "_dom_classes": [],
       "_model_module": "@jupyter-widgets/controls",
       "_model_module_version": "1.5.0",
       "_model_name": "FloatProgressModel",
       "_view_count": null,
       "_view_module": "@jupyter-widgets/controls",
       "_view_module_version": "1.5.0",
       "_view_name": "ProgressView",
       "bar_style": "success",
       "description": "",
       "description_tooltip": null,
       "layout": "IPY_MODEL_e342c20b2a614ec7ae25f048524003b1",
       "max": 231508.0,
       "min": 0.0,
       "orientation": "horizontal",
       "style": "IPY_MODEL_37038c4f582f4e0f965b6ab183cb5ec4",
       "value": 231508.0
      }
     },
     "a8c1c3109b0e416eb199a113becbec42": {
      "model_module": "@jupyter-widgets/base",
      "model_module_version": "1.2.0",
      "model_name": "LayoutModel",
      "state": {
       "_model_module": "@jupyter-widgets/base",
       "_model_module_version": "1.2.0",
       "_model_name": "LayoutModel",
       "_view_count": null,
       "_view_module": "@jupyter-widgets/base",
       "_view_module_version": "1.2.0",
       "_view_name": "LayoutView",
       "align_content": null,
       "align_items": null,
       "align_self": null,
       "border": null,
       "bottom": null,
       "display": null,
       "flex": null,
       "flex_flow": null,
       "grid_area": null,
       "grid_auto_columns": null,
       "grid_auto_flow": null,
       "grid_auto_rows": null,
       "grid_column": null,
       "grid_gap": null,
       "grid_row": null,
       "grid_template_areas": null,
       "grid_template_columns": null,
       "grid_template_rows": null,
       "height": null,
       "justify_content": null,
       "justify_items": null,
       "left": null,
       "margin": null,
       "max_height": null,
       "max_width": null,
       "min_height": null,
       "min_width": null,
       "object_fit": null,
       "object_position": null,
       "order": null,
       "overflow": null,
       "overflow_x": null,
       "overflow_y": null,
       "padding": null,
       "right": null,
       "top": null,
       "visibility": null,
       "width": null
      }
     },
     "a9aa13e28b4c4cbbac460b097e1370ae": {
      "model_module": "@jupyter-widgets/controls",
      "model_module_version": "1.5.0",
      "model_name": "DescriptionStyleModel",
      "state": {
       "_model_module": "@jupyter-widgets/controls",
       "_model_module_version": "1.5.0",
       "_model_name": "DescriptionStyleModel",
       "_view_count": null,
       "_view_module": "@jupyter-widgets/base",
       "_view_module_version": "1.2.0",
       "_view_name": "StyleView",
       "description_width": ""
      }
     },
     "abda046c85cf4d0a9505490f140a984e": {
      "model_module": "@jupyter-widgets/controls",
      "model_module_version": "1.5.0",
      "model_name": "FloatProgressModel",
      "state": {
       "_dom_classes": [],
       "_model_module": "@jupyter-widgets/controls",
       "_model_module_version": "1.5.0",
       "_model_name": "FloatProgressModel",
       "_view_count": null,
       "_view_module": "@jupyter-widgets/controls",
       "_view_module_version": "1.5.0",
       "_view_name": "ProgressView",
       "bar_style": "success",
       "description": "",
       "description_tooltip": null,
       "layout": "IPY_MODEL_b8ba4e492ae74517adb1097a43276cc2",
       "max": 665.0,
       "min": 0.0,
       "orientation": "horizontal",
       "style": "IPY_MODEL_79a2c01e0db742588967bd81cafb4f27",
       "value": 665.0
      }
     },
     "b0b015664bac4a649104e5b2025eecb7": {
      "model_module": "@jupyter-widgets/controls",
      "model_module_version": "1.5.0",
      "model_name": "DescriptionStyleModel",
      "state": {
       "_model_module": "@jupyter-widgets/controls",
       "_model_module_version": "1.5.0",
       "_model_name": "DescriptionStyleModel",
       "_view_count": null,
       "_view_module": "@jupyter-widgets/base",
       "_view_module_version": "1.2.0",
       "_view_name": "StyleView",
       "description_width": ""
      }
     },
     "b391447a85d148fda1860b20c9ae5f64": {
      "model_module": "@jupyter-widgets/base",
      "model_module_version": "1.2.0",
      "model_name": "LayoutModel",
      "state": {
       "_model_module": "@jupyter-widgets/base",
       "_model_module_version": "1.2.0",
       "_model_name": "LayoutModel",
       "_view_count": null,
       "_view_module": "@jupyter-widgets/base",
       "_view_module_version": "1.2.0",
       "_view_name": "LayoutView",
       "align_content": null,
       "align_items": null,
       "align_self": null,
       "border": null,
       "bottom": null,
       "display": null,
       "flex": null,
       "flex_flow": null,
       "grid_area": null,
       "grid_auto_columns": null,
       "grid_auto_flow": null,
       "grid_auto_rows": null,
       "grid_column": null,
       "grid_gap": null,
       "grid_row": null,
       "grid_template_areas": null,
       "grid_template_columns": null,
       "grid_template_rows": null,
       "height": null,
       "justify_content": null,
       "justify_items": null,
       "left": null,
       "margin": null,
       "max_height": null,
       "max_width": null,
       "min_height": null,
       "min_width": null,
       "object_fit": null,
       "object_position": null,
       "order": null,
       "overflow": null,
       "overflow_x": null,
       "overflow_y": null,
       "padding": null,
       "right": null,
       "top": null,
       "visibility": null,
       "width": null
      }
     },
     "b6cfccea67ae47fcb596b4025b7aa3bb": {
      "model_module": "@jupyter-widgets/controls",
      "model_module_version": "1.5.0",
      "model_name": "DescriptionStyleModel",
      "state": {
       "_model_module": "@jupyter-widgets/controls",
       "_model_module_version": "1.5.0",
       "_model_name": "DescriptionStyleModel",
       "_view_count": null,
       "_view_module": "@jupyter-widgets/base",
       "_view_module_version": "1.2.0",
       "_view_name": "StyleView",
       "description_width": ""
      }
     },
     "b7e187401d944e04a3ed385a4802acb1": {
      "model_module": "@jupyter-widgets/base",
      "model_module_version": "1.2.0",
      "model_name": "LayoutModel",
      "state": {
       "_model_module": "@jupyter-widgets/base",
       "_model_module_version": "1.2.0",
       "_model_name": "LayoutModel",
       "_view_count": null,
       "_view_module": "@jupyter-widgets/base",
       "_view_module_version": "1.2.0",
       "_view_name": "LayoutView",
       "align_content": null,
       "align_items": null,
       "align_self": null,
       "border": null,
       "bottom": null,
       "display": null,
       "flex": null,
       "flex_flow": null,
       "grid_area": null,
       "grid_auto_columns": null,
       "grid_auto_flow": null,
       "grid_auto_rows": null,
       "grid_column": null,
       "grid_gap": null,
       "grid_row": null,
       "grid_template_areas": null,
       "grid_template_columns": null,
       "grid_template_rows": null,
       "height": null,
       "justify_content": null,
       "justify_items": null,
       "left": null,
       "margin": null,
       "max_height": null,
       "max_width": null,
       "min_height": null,
       "min_width": null,
       "object_fit": null,
       "object_position": null,
       "order": null,
       "overflow": null,
       "overflow_x": null,
       "overflow_y": null,
       "padding": null,
       "right": null,
       "top": null,
       "visibility": null,
       "width": null
      }
     },
     "b8ba4e492ae74517adb1097a43276cc2": {
      "model_module": "@jupyter-widgets/base",
      "model_module_version": "1.2.0",
      "model_name": "LayoutModel",
      "state": {
       "_model_module": "@jupyter-widgets/base",
       "_model_module_version": "1.2.0",
       "_model_name": "LayoutModel",
       "_view_count": null,
       "_view_module": "@jupyter-widgets/base",
       "_view_module_version": "1.2.0",
       "_view_name": "LayoutView",
       "align_content": null,
       "align_items": null,
       "align_self": null,
       "border": null,
       "bottom": null,
       "display": null,
       "flex": null,
       "flex_flow": null,
       "grid_area": null,
       "grid_auto_columns": null,
       "grid_auto_flow": null,
       "grid_auto_rows": null,
       "grid_column": null,
       "grid_gap": null,
       "grid_row": null,
       "grid_template_areas": null,
       "grid_template_columns": null,
       "grid_template_rows": null,
       "height": null,
       "justify_content": null,
       "justify_items": null,
       "left": null,
       "margin": null,
       "max_height": null,
       "max_width": null,
       "min_height": null,
       "min_width": null,
       "object_fit": null,
       "object_position": null,
       "order": null,
       "overflow": null,
       "overflow_x": null,
       "overflow_y": null,
       "padding": null,
       "right": null,
       "top": null,
       "visibility": null,
       "width": null
      }
     },
     "b9c61a91214a47a0b102713716a49ff3": {
      "model_module": "@jupyter-widgets/controls",
      "model_module_version": "1.5.0",
      "model_name": "HBoxModel",
      "state": {
       "_dom_classes": [],
       "_model_module": "@jupyter-widgets/controls",
       "_model_module_version": "1.5.0",
       "_model_name": "HBoxModel",
       "_view_count": null,
       "_view_module": "@jupyter-widgets/controls",
       "_view_module_version": "1.5.0",
       "_view_name": "HBoxView",
       "box_style": "",
       "children": [
        "IPY_MODEL_c9b9be2faf6d4f2f9e62949883db19d1",
        "IPY_MODEL_10ebd5bbaecf4088800238d95e08bdcc",
        "IPY_MODEL_200b027b49954d2e88e5d356691e158f"
       ],
       "layout": "IPY_MODEL_61416de673fc40e9bd6e50a79ba3e5a9"
      }
     },
     "bd543799b22341dbac2abd35bec68f9d": {
      "model_module": "@jupyter-widgets/controls",
      "model_module_version": "1.5.0",
      "model_name": "HTMLModel",
      "state": {
       "_dom_classes": [],
       "_model_module": "@jupyter-widgets/controls",
       "_model_module_version": "1.5.0",
       "_model_name": "HTMLModel",
       "_view_count": null,
       "_view_module": "@jupyter-widgets/controls",
       "_view_module_version": "1.5.0",
       "_view_name": "HTMLView",
       "description": "",
       "description_tooltip": null,
       "layout": "IPY_MODEL_9cd101a229c34e0996542fa2a6227e71",
       "placeholder": "​",
       "style": "IPY_MODEL_835d0c2cecdc4221a42d31bc95b93d62",
       "value": " 570/570 [00:00&lt;00:00, 47.4kB/s]"
      }
     },
     "c0b2f02edcf241f78bf614713f52a499": {
      "model_module": "@jupyter-widgets/base",
      "model_module_version": "1.2.0",
      "model_name": "LayoutModel",
      "state": {
       "_model_module": "@jupyter-widgets/base",
       "_model_module_version": "1.2.0",
       "_model_name": "LayoutModel",
       "_view_count": null,
       "_view_module": "@jupyter-widgets/base",
       "_view_module_version": "1.2.0",
       "_view_name": "LayoutView",
       "align_content": null,
       "align_items": null,
       "align_self": null,
       "border": null,
       "bottom": null,
       "display": null,
       "flex": null,
       "flex_flow": null,
       "grid_area": null,
       "grid_auto_columns": null,
       "grid_auto_flow": null,
       "grid_auto_rows": null,
       "grid_column": null,
       "grid_gap": null,
       "grid_row": null,
       "grid_template_areas": null,
       "grid_template_columns": null,
       "grid_template_rows": null,
       "height": null,
       "justify_content": null,
       "justify_items": null,
       "left": null,
       "margin": null,
       "max_height": null,
       "max_width": null,
       "min_height": null,
       "min_width": null,
       "object_fit": null,
       "object_position": null,
       "order": null,
       "overflow": null,
       "overflow_x": null,
       "overflow_y": null,
       "padding": null,
       "right": null,
       "top": null,
       "visibility": null,
       "width": null
      }
     },
     "c6aeef3fca374d92bc23bd335afc413d": {
      "model_module": "@jupyter-widgets/base",
      "model_module_version": "1.2.0",
      "model_name": "LayoutModel",
      "state": {
       "_model_module": "@jupyter-widgets/base",
       "_model_module_version": "1.2.0",
       "_model_name": "LayoutModel",
       "_view_count": null,
       "_view_module": "@jupyter-widgets/base",
       "_view_module_version": "1.2.0",
       "_view_name": "LayoutView",
       "align_content": null,
       "align_items": null,
       "align_self": null,
       "border": null,
       "bottom": null,
       "display": null,
       "flex": null,
       "flex_flow": null,
       "grid_area": null,
       "grid_auto_columns": null,
       "grid_auto_flow": null,
       "grid_auto_rows": null,
       "grid_column": null,
       "grid_gap": null,
       "grid_row": null,
       "grid_template_areas": null,
       "grid_template_columns": null,
       "grid_template_rows": null,
       "height": null,
       "justify_content": null,
       "justify_items": null,
       "left": null,
       "margin": null,
       "max_height": null,
       "max_width": null,
       "min_height": null,
       "min_width": null,
       "object_fit": null,
       "object_position": null,
       "order": null,
       "overflow": null,
       "overflow_x": null,
       "overflow_y": null,
       "padding": null,
       "right": null,
       "top": null,
       "visibility": null,
       "width": null
      }
     },
     "c9b9be2faf6d4f2f9e62949883db19d1": {
      "model_module": "@jupyter-widgets/controls",
      "model_module_version": "1.5.0",
      "model_name": "HTMLModel",
      "state": {
       "_dom_classes": [],
       "_model_module": "@jupyter-widgets/controls",
       "_model_module_version": "1.5.0",
       "_model_name": "HTMLModel",
       "_view_count": null,
       "_view_module": "@jupyter-widgets/controls",
       "_view_module_version": "1.5.0",
       "_view_name": "HTMLView",
       "description": "",
       "description_tooltip": null,
       "layout": "IPY_MODEL_4edb8bdfd73248c5854179cbc7b1eefe",
       "placeholder": "​",
       "style": "IPY_MODEL_0b3b6dce961c4b59a299b0111b06a406",
       "value": "model.safetensors: 100%"
      }
     },
     "ca67be8d15e54e5a830550604c393017": {
      "model_module": "@jupyter-widgets/base",
      "model_module_version": "1.2.0",
      "model_name": "LayoutModel",
      "state": {
       "_model_module": "@jupyter-widgets/base",
       "_model_module_version": "1.2.0",
       "_model_name": "LayoutModel",
       "_view_count": null,
       "_view_module": "@jupyter-widgets/base",
       "_view_module_version": "1.2.0",
       "_view_name": "LayoutView",
       "align_content": null,
       "align_items": null,
       "align_self": null,
       "border": null,
       "bottom": null,
       "display": null,
       "flex": null,
       "flex_flow": null,
       "grid_area": null,
       "grid_auto_columns": null,
       "grid_auto_flow": null,
       "grid_auto_rows": null,
       "grid_column": null,
       "grid_gap": null,
       "grid_row": null,
       "grid_template_areas": null,
       "grid_template_columns": null,
       "grid_template_rows": null,
       "height": null,
       "justify_content": null,
       "justify_items": null,
       "left": null,
       "margin": null,
       "max_height": null,
       "max_width": null,
       "min_height": null,
       "min_width": null,
       "object_fit": null,
       "object_position": null,
       "order": null,
       "overflow": null,
       "overflow_x": null,
       "overflow_y": null,
       "padding": null,
       "right": null,
       "top": null,
       "visibility": null,
       "width": null
      }
     },
     "cad7d0ee5c184469982f10993978c05c": {
      "model_module": "@jupyter-widgets/controls",
      "model_module_version": "1.5.0",
      "model_name": "DescriptionStyleModel",
      "state": {
       "_model_module": "@jupyter-widgets/controls",
       "_model_module_version": "1.5.0",
       "_model_name": "DescriptionStyleModel",
       "_view_count": null,
       "_view_module": "@jupyter-widgets/base",
       "_view_module_version": "1.2.0",
       "_view_name": "StyleView",
       "description_width": ""
      }
     },
     "d181431e9476458daabd5d2529643a85": {
      "model_module": "@jupyter-widgets/controls",
      "model_module_version": "1.5.0",
      "model_name": "HBoxModel",
      "state": {
       "_dom_classes": [],
       "_model_module": "@jupyter-widgets/controls",
       "_model_module_version": "1.5.0",
       "_model_name": "HBoxModel",
       "_view_count": null,
       "_view_module": "@jupyter-widgets/controls",
       "_view_module_version": "1.5.0",
       "_view_name": "HBoxView",
       "box_style": "",
       "children": [
        "IPY_MODEL_3d483e62ca904edb912fad7ab269c209",
        "IPY_MODEL_5e7a36ce034d417f8d3b2ec675b1ff2d",
        "IPY_MODEL_167ae58c7ca44314a188219f31fa25bd"
       ],
       "layout": "IPY_MODEL_44b0193ae5494fdda0d8c3ba76e2088d"
      }
     },
     "d68dbb61426643f48ec7fe804aa7b495": {
      "model_module": "@jupyter-widgets/controls",
      "model_module_version": "1.5.0",
      "model_name": "ProgressStyleModel",
      "state": {
       "_model_module": "@jupyter-widgets/controls",
       "_model_module_version": "1.5.0",
       "_model_name": "ProgressStyleModel",
       "_view_count": null,
       "_view_module": "@jupyter-widgets/base",
       "_view_module_version": "1.2.0",
       "_view_name": "StyleView",
       "bar_color": null,
       "description_width": ""
      }
     },
     "d71a850e3a5146aa842a93817b49437d": {
      "model_module": "@jupyter-widgets/controls",
      "model_module_version": "1.5.0",
      "model_name": "HBoxModel",
      "state": {
       "_dom_classes": [],
       "_model_module": "@jupyter-widgets/controls",
       "_model_module_version": "1.5.0",
       "_model_name": "HBoxModel",
       "_view_count": null,
       "_view_module": "@jupyter-widgets/controls",
       "_view_module_version": "1.5.0",
       "_view_name": "HBoxView",
       "box_style": "",
       "children": [
        "IPY_MODEL_4b4e0f649f014c52b306e3ee0ef772a6",
        "IPY_MODEL_659a0e5514f04df5a29c305f232f1d97",
        "IPY_MODEL_3590a4fd655842cbae9c33aeb34bffd4"
       ],
       "layout": "IPY_MODEL_29d537011cb146d2bcbb458bb9c799ec"
      }
     },
     "da740372fdf745a8b40e015fac339a73": {
      "model_module": "@jupyter-widgets/controls",
      "model_module_version": "1.5.0",
      "model_name": "ProgressStyleModel",
      "state": {
       "_model_module": "@jupyter-widgets/controls",
       "_model_module_version": "1.5.0",
       "_model_name": "ProgressStyleModel",
       "_view_count": null,
       "_view_module": "@jupyter-widgets/base",
       "_view_module_version": "1.2.0",
       "_view_name": "StyleView",
       "bar_color": null,
       "description_width": ""
      }
     },
     "da95b84e6a0842a0ad0f723681f41262": {
      "model_module": "@jupyter-widgets/controls",
      "model_module_version": "1.5.0",
      "model_name": "FloatProgressModel",
      "state": {
       "_dom_classes": [],
       "_model_module": "@jupyter-widgets/controls",
       "_model_module_version": "1.5.0",
       "_model_name": "FloatProgressModel",
       "_view_count": null,
       "_view_module": "@jupyter-widgets/controls",
       "_view_module_version": "1.5.0",
       "_view_name": "ProgressView",
       "bar_style": "success",
       "description": "",
       "description_tooltip": null,
       "layout": "IPY_MODEL_23f436c776944d40a5fcf9d6c96c7538",
       "max": 48.0,
       "min": 0.0,
       "orientation": "horizontal",
       "style": "IPY_MODEL_1684fbdfbd4a4cd38f9e201a8138f461",
       "value": 48.0
      }
     },
     "dc5501d2d1de42f4b78e5f3da8120e93": {
      "model_module": "@jupyter-widgets/controls",
      "model_module_version": "1.5.0",
      "model_name": "DescriptionStyleModel",
      "state": {
       "_model_module": "@jupyter-widgets/controls",
       "_model_module_version": "1.5.0",
       "_model_name": "DescriptionStyleModel",
       "_view_count": null,
       "_view_module": "@jupyter-widgets/base",
       "_view_module_version": "1.2.0",
       "_view_name": "StyleView",
       "description_width": ""
      }
     },
     "dc8731d15d60418ab928e5563ea7f4df": {
      "model_module": "@jupyter-widgets/base",
      "model_module_version": "1.2.0",
      "model_name": "LayoutModel",
      "state": {
       "_model_module": "@jupyter-widgets/base",
       "_model_module_version": "1.2.0",
       "_model_name": "LayoutModel",
       "_view_count": null,
       "_view_module": "@jupyter-widgets/base",
       "_view_module_version": "1.2.0",
       "_view_name": "LayoutView",
       "align_content": null,
       "align_items": null,
       "align_self": null,
       "border": null,
       "bottom": null,
       "display": null,
       "flex": null,
       "flex_flow": null,
       "grid_area": null,
       "grid_auto_columns": null,
       "grid_auto_flow": null,
       "grid_auto_rows": null,
       "grid_column": null,
       "grid_gap": null,
       "grid_row": null,
       "grid_template_areas": null,
       "grid_template_columns": null,
       "grid_template_rows": null,
       "height": null,
       "justify_content": null,
       "justify_items": null,
       "left": null,
       "margin": null,
       "max_height": null,
       "max_width": null,
       "min_height": null,
       "min_width": null,
       "object_fit": null,
       "object_position": null,
       "order": null,
       "overflow": null,
       "overflow_x": null,
       "overflow_y": null,
       "padding": null,
       "right": null,
       "top": null,
       "visibility": null,
       "width": null
      }
     },
     "dd944fb1c5c04702a3b047890e851abd": {
      "model_module": "@jupyter-widgets/controls",
      "model_module_version": "1.5.0",
      "model_name": "HTMLModel",
      "state": {
       "_dom_classes": [],
       "_model_module": "@jupyter-widgets/controls",
       "_model_module_version": "1.5.0",
       "_model_name": "HTMLModel",
       "_view_count": null,
       "_view_module": "@jupyter-widgets/controls",
       "_view_module_version": "1.5.0",
       "_view_name": "HTMLView",
       "description": "",
       "description_tooltip": null,
       "layout": "IPY_MODEL_c6aeef3fca374d92bc23bd335afc413d",
       "placeholder": "​",
       "style": "IPY_MODEL_6f09744aa6a5478f9747a80a327660ae",
       "value": " 665/665 [00:00&lt;00:00, 54.2kB/s]"
      }
     },
     "df00927e1d6f48d3b6f0dd63dd50548e": {
      "model_module": "@jupyter-widgets/base",
      "model_module_version": "1.2.0",
      "model_name": "LayoutModel",
      "state": {
       "_model_module": "@jupyter-widgets/base",
       "_model_module_version": "1.2.0",
       "_model_name": "LayoutModel",
       "_view_count": null,
       "_view_module": "@jupyter-widgets/base",
       "_view_module_version": "1.2.0",
       "_view_name": "LayoutView",
       "align_content": null,
       "align_items": null,
       "align_self": null,
       "border": null,
       "bottom": null,
       "display": null,
       "flex": null,
       "flex_flow": null,
       "grid_area": null,
       "grid_auto_columns": null,
       "grid_auto_flow": null,
       "grid_auto_rows": null,
       "grid_column": null,
       "grid_gap": null,
       "grid_row": null,
       "grid_template_areas": null,
       "grid_template_columns": null,
       "grid_template_rows": null,
       "height": null,
       "justify_content": null,
       "justify_items": null,
       "left": null,
       "margin": null,
       "max_height": null,
       "max_width": null,
       "min_height": null,
       "min_width": null,
       "object_fit": null,
       "object_position": null,
       "order": null,
       "overflow": null,
       "overflow_x": null,
       "overflow_y": null,
       "padding": null,
       "right": null,
       "top": null,
       "visibility": null,
       "width": null
      }
     },
     "e342c20b2a614ec7ae25f048524003b1": {
      "model_module": "@jupyter-widgets/base",
      "model_module_version": "1.2.0",
      "model_name": "LayoutModel",
      "state": {
       "_model_module": "@jupyter-widgets/base",
       "_model_module_version": "1.2.0",
       "_model_name": "LayoutModel",
       "_view_count": null,
       "_view_module": "@jupyter-widgets/base",
       "_view_module_version": "1.2.0",
       "_view_name": "LayoutView",
       "align_content": null,
       "align_items": null,
       "align_self": null,
       "border": null,
       "bottom": null,
       "display": null,
       "flex": null,
       "flex_flow": null,
       "grid_area": null,
       "grid_auto_columns": null,
       "grid_auto_flow": null,
       "grid_auto_rows": null,
       "grid_column": null,
       "grid_gap": null,
       "grid_row": null,
       "grid_template_areas": null,
       "grid_template_columns": null,
       "grid_template_rows": null,
       "height": null,
       "justify_content": null,
       "justify_items": null,
       "left": null,
       "margin": null,
       "max_height": null,
       "max_width": null,
       "min_height": null,
       "min_width": null,
       "object_fit": null,
       "object_position": null,
       "order": null,
       "overflow": null,
       "overflow_x": null,
       "overflow_y": null,
       "padding": null,
       "right": null,
       "top": null,
       "visibility": null,
       "width": null
      }
     },
     "e508a444fe3d4657904599df9eb54c33": {
      "model_module": "@jupyter-widgets/base",
      "model_module_version": "1.2.0",
      "model_name": "LayoutModel",
      "state": {
       "_model_module": "@jupyter-widgets/base",
       "_model_module_version": "1.2.0",
       "_model_name": "LayoutModel",
       "_view_count": null,
       "_view_module": "@jupyter-widgets/base",
       "_view_module_version": "1.2.0",
       "_view_name": "LayoutView",
       "align_content": null,
       "align_items": null,
       "align_self": null,
       "border": null,
       "bottom": null,
       "display": null,
       "flex": null,
       "flex_flow": null,
       "grid_area": null,
       "grid_auto_columns": null,
       "grid_auto_flow": null,
       "grid_auto_rows": null,
       "grid_column": null,
       "grid_gap": null,
       "grid_row": null,
       "grid_template_areas": null,
       "grid_template_columns": null,
       "grid_template_rows": null,
       "height": null,
       "justify_content": null,
       "justify_items": null,
       "left": null,
       "margin": null,
       "max_height": null,
       "max_width": null,
       "min_height": null,
       "min_width": null,
       "object_fit": null,
       "object_position": null,
       "order": null,
       "overflow": null,
       "overflow_x": null,
       "overflow_y": null,
       "padding": null,
       "right": null,
       "top": null,
       "visibility": null,
       "width": null
      }
     },
     "e5fe61120aae4f019956ee1b27ec54ed": {
      "model_module": "@jupyter-widgets/base",
      "model_module_version": "1.2.0",
      "model_name": "LayoutModel",
      "state": {
       "_model_module": "@jupyter-widgets/base",
       "_model_module_version": "1.2.0",
       "_model_name": "LayoutModel",
       "_view_count": null,
       "_view_module": "@jupyter-widgets/base",
       "_view_module_version": "1.2.0",
       "_view_name": "LayoutView",
       "align_content": null,
       "align_items": null,
       "align_self": null,
       "border": null,
       "bottom": null,
       "display": null,
       "flex": null,
       "flex_flow": null,
       "grid_area": null,
       "grid_auto_columns": null,
       "grid_auto_flow": null,
       "grid_auto_rows": null,
       "grid_column": null,
       "grid_gap": null,
       "grid_row": null,
       "grid_template_areas": null,
       "grid_template_columns": null,
       "grid_template_rows": null,
       "height": null,
       "justify_content": null,
       "justify_items": null,
       "left": null,
       "margin": null,
       "max_height": null,
       "max_width": null,
       "min_height": null,
       "min_width": null,
       "object_fit": null,
       "object_position": null,
       "order": null,
       "overflow": null,
       "overflow_x": null,
       "overflow_y": null,
       "padding": null,
       "right": null,
       "top": null,
       "visibility": null,
       "width": null
      }
     },
     "e8af09b704cd4275be596a399117e649": {
      "model_module": "@jupyter-widgets/controls",
      "model_module_version": "1.5.0",
      "model_name": "HTMLModel",
      "state": {
       "_dom_classes": [],
       "_model_module": "@jupyter-widgets/controls",
       "_model_module_version": "1.5.0",
       "_model_name": "HTMLModel",
       "_view_count": null,
       "_view_module": "@jupyter-widgets/controls",
       "_view_module_version": "1.5.0",
       "_view_name": "HTMLView",
       "description": "",
       "description_tooltip": null,
       "layout": "IPY_MODEL_0a58f547202f4e98b635cb0ea7d5c42e",
       "placeholder": "​",
       "style": "IPY_MODEL_8bf8e9e44a7d427d820d71636821dec9",
       "value": "config.json: 100%"
      }
     },
     "eec72f5dd3b84cfd8a5149545fd42376": {
      "model_module": "@jupyter-widgets/controls",
      "model_module_version": "1.5.0",
      "model_name": "HTMLModel",
      "state": {
       "_dom_classes": [],
       "_model_module": "@jupyter-widgets/controls",
       "_model_module_version": "1.5.0",
       "_model_name": "HTMLModel",
       "_view_count": null,
       "_view_module": "@jupyter-widgets/controls",
       "_view_module_version": "1.5.0",
       "_view_name": "HTMLView",
       "description": "",
       "description_tooltip": null,
       "layout": "IPY_MODEL_3ede6c8473fd497cb09028ff1c083624",
       "placeholder": "​",
       "style": "IPY_MODEL_22df3bee157942b1a5c2ca0d20d48cb1",
       "value": "model.safetensors: 100%"
      }
     },
     "f110dfb3bb714b6e864fcf6199b66bfb": {
      "model_module": "@jupyter-widgets/base",
      "model_module_version": "1.2.0",
      "model_name": "LayoutModel",
      "state": {
       "_model_module": "@jupyter-widgets/base",
       "_model_module_version": "1.2.0",
       "_model_name": "LayoutModel",
       "_view_count": null,
       "_view_module": "@jupyter-widgets/base",
       "_view_module_version": "1.2.0",
       "_view_name": "LayoutView",
       "align_content": null,
       "align_items": null,
       "align_self": null,
       "border": null,
       "bottom": null,
       "display": null,
       "flex": null,
       "flex_flow": null,
       "grid_area": null,
       "grid_auto_columns": null,
       "grid_auto_flow": null,
       "grid_auto_rows": null,
       "grid_column": null,
       "grid_gap": null,
       "grid_row": null,
       "grid_template_areas": null,
       "grid_template_columns": null,
       "grid_template_rows": null,
       "height": null,
       "justify_content": null,
       "justify_items": null,
       "left": null,
       "margin": null,
       "max_height": null,
       "max_width": null,
       "min_height": null,
       "min_width": null,
       "object_fit": null,
       "object_position": null,
       "order": null,
       "overflow": null,
       "overflow_x": null,
       "overflow_y": null,
       "padding": null,
       "right": null,
       "top": null,
       "visibility": null,
       "width": null
      }
     },
     "f7c9ace5109b4e949de17b45c060a6f8": {
      "model_module": "@jupyter-widgets/base",
      "model_module_version": "1.2.0",
      "model_name": "LayoutModel",
      "state": {
       "_model_module": "@jupyter-widgets/base",
       "_model_module_version": "1.2.0",
       "_model_name": "LayoutModel",
       "_view_count": null,
       "_view_module": "@jupyter-widgets/base",
       "_view_module_version": "1.2.0",
       "_view_name": "LayoutView",
       "align_content": null,
       "align_items": null,
       "align_self": null,
       "border": null,
       "bottom": null,
       "display": null,
       "flex": null,
       "flex_flow": null,
       "grid_area": null,
       "grid_auto_columns": null,
       "grid_auto_flow": null,
       "grid_auto_rows": null,
       "grid_column": null,
       "grid_gap": null,
       "grid_row": null,
       "grid_template_areas": null,
       "grid_template_columns": null,
       "grid_template_rows": null,
       "height": null,
       "justify_content": null,
       "justify_items": null,
       "left": null,
       "margin": null,
       "max_height": null,
       "max_width": null,
       "min_height": null,
       "min_width": null,
       "object_fit": null,
       "object_position": null,
       "order": null,
       "overflow": null,
       "overflow_x": null,
       "overflow_y": null,
       "padding": null,
       "right": null,
       "top": null,
       "visibility": null,
       "width": null
      }
     },
     "fb411b99838e44c9b6b495df8a026c55": {
      "model_module": "@jupyter-widgets/controls",
      "model_module_version": "1.5.0",
      "model_name": "HBoxModel",
      "state": {
       "_dom_classes": [],
       "_model_module": "@jupyter-widgets/controls",
       "_model_module_version": "1.5.0",
       "_model_name": "HBoxModel",
       "_view_count": null,
       "_view_module": "@jupyter-widgets/controls",
       "_view_module_version": "1.5.0",
       "_view_name": "HBoxView",
       "box_style": "",
       "children": [
        "IPY_MODEL_230d207e2ecd492f9ba2913e46705268",
        "IPY_MODEL_da95b84e6a0842a0ad0f723681f41262",
        "IPY_MODEL_816a10de23a4407990cdeee62b5a4fc9"
       ],
       "layout": "IPY_MODEL_50eec39d0de14e89b8af9b5269aa4c0f"
      }
     }
    },
    "version_major": 2,
    "version_minor": 0
   }
  }
 },
 "nbformat": 4,
 "nbformat_minor": 5
}
